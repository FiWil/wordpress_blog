{
 "cells": [
  {
   "cell_type": "markdown",
   "metadata": {},
   "source": [
    "# Converting betwen NumPy and Pandas\n",
    "\n",
    "Conversion between NumPy and Pandas is simple.\n",
    "\n",
    "Let's start with importing NumPy and Pandas, and then make a Pandas dataframe."
   ]
  },
  {
   "cell_type": "code",
   "execution_count": 19,
   "metadata": {},
   "outputs": [
    {
     "name": "stdout",
     "output_type": "stream",
     "text": [
      "     names    type  magic_power  aggression  stealth\n",
      "0  Gandolf  Wizard           10           7        8\n",
      "1    Gimli   Dwarf            1          10        2\n",
      "2    Frodo  Hobbit            4           2        5\n",
      "3  Legolas     Elf            6           5       10\n",
      "4    Bilbo  Hobbit            4           1        5\n"
     ]
    }
   ],
   "source": [
    "import numpy as np\n",
    "import pandas as pd\n",
    "\n",
    "df = pd.DataFrame()\n",
    "\n",
    "names = ['Gandolf','Gimli','Frodo','Legolas','Bilbo']\n",
    "types = ['Wizard','Dwarf','Hobbit','Elf','Hobbit']\n",
    "magic = [10, 1, 4, 6, 4]\n",
    "aggression = [7, 10, 2, 5, 1]\n",
    "stealth = [8, 2, 5, 10, 5]\n",
    "\n",
    "\n",
    "df['names'] = names\n",
    "df['type'] = types\n",
    "df['magic_power'] = magic\n",
    "df['aggression'] = aggression\n",
    "df['stealth'] = stealth\n",
    "\n",
    "print (df)"
   ]
  },
  {
   "cell_type": "markdown",
   "metadata": {},
   "source": [
    "## Converting from Pandas to NumPy\n",
    "\n",
    "We will use the <em>values</em> method to convert from Pandas to NumPy. Notice that we loose our column headers when converting to a NumPy array, and the index filed (name) simply becomes the first column."
   ]
  },
  {
   "cell_type": "code",
   "execution_count": 20,
   "metadata": {},
   "outputs": [
    {
     "name": "stdout",
     "output_type": "stream",
     "text": [
      "[['Gandolf' 'Wizard' 10 7 8]\n",
      " ['Gimli' 'Dwarf' 1 10 2]\n",
      " ['Frodo' 'Hobbit' 4 2 5]\n",
      " ['Legolas' 'Elf' 6 5 10]\n",
      " ['Bilbo' 'Hobbit' 4 1 5]]\n"
     ]
    }
   ],
   "source": [
    "my_array = df.values\n",
    "\n",
    "print (my_array)"
   ]
  },
  {
   "cell_type": "markdown",
   "metadata": {},
   "source": [
    "## Converting from NumPy to Pandas\n",
    "\n",
    "We will use the dataframe method to convert from a NumPy array to a Pandas dataframe. A new index has been created, and columns have been given numerical headers. "
   ]
  },
  {
   "cell_type": "code",
   "execution_count": 21,
   "metadata": {},
   "outputs": [
    {
     "name": "stdout",
     "output_type": "stream",
     "text": [
      "         0       1   2   3   4\n",
      "0  Gandolf  Wizard  10   7   8\n",
      "1    Gimli   Dwarf   1  10   2\n",
      "2    Frodo  Hobbit   4   2   5\n",
      "3  Legolas     Elf   6   5  10\n",
      "4    Bilbo  Hobbit   4   1   5\n"
     ]
    }
   ],
   "source": [
    "my_new_df = pd.DataFrame(my_array)\n",
    "\n",
    "print (my_new_df)"
   ]
  },
  {
   "cell_type": "markdown",
   "metadata": {},
   "source": [
    "If we have column names, we can supply those to the dataframe during the conversion process. We pass a list to the dataframe method:"
   ]
  },
  {
   "cell_type": "code",
   "execution_count": 27,
   "metadata": {
    "scrolled": true
   },
   "outputs": [
    {
     "name": "stdout",
     "output_type": "stream",
     "text": [
      "      name    type magic_power aggression strength\n",
      "0  Gandolf  Wizard          10          7        8\n",
      "1    Gimli   Dwarf           1         10        2\n",
      "2    Frodo  Hobbit           4          2        5\n",
      "3  Legolas     Elf           6          5       10\n",
      "4    Bilbo  Hobbit           4          1        5\n"
     ]
    }
   ],
   "source": [
    "names = ['name','type','magic_power','aggression','strength']\n",
    "\n",
    "my_new_df = pd.DataFrame(my_array, columns=names)\n",
    "\n",
    "print(my_new_df)"
   ]
  },
  {
   "cell_type": "markdown",
   "metadata": {},
   "source": [
    "And, as we have seen previously, we can set the index to a particular column:"
   ]
  },
  {
   "cell_type": "code",
   "execution_count": 28,
   "metadata": {},
   "outputs": [
    {
     "name": "stdout",
     "output_type": "stream",
     "text": [
      "           type magic_power aggression strength\n",
      "name                                           \n",
      "Gandolf  Wizard          10          7        8\n",
      "Gimli     Dwarf           1         10        2\n",
      "Frodo    Hobbit           4          2        5\n",
      "Legolas     Elf           6          5       10\n",
      "Bilbo    Hobbit           4          1        5\n"
     ]
    }
   ],
   "source": [
    "my_new_df.set_index('name', inplace=True)\n",
    "\n",
    "print (my_new_df)"
   ]
  }
 ],
 "metadata": {
  "kernelspec": {
   "display_name": "Python 3",
   "language": "python",
   "name": "python3"
  },
  "language_info": {
   "codemirror_mode": {
    "name": "ipython",
    "version": 3
   },
   "file_extension": ".py",
   "mimetype": "text/x-python",
   "name": "python",
   "nbconvert_exporter": "python",
   "pygments_lexer": "ipython3",
   "version": "3.6.4"
  }
 },
 "nbformat": 4,
 "nbformat_minor": 2
}
