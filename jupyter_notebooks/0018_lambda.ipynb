{
 "cells": [
  {
   "cell_type": "markdown",
   "metadata": {},
   "source": [
    "# lambda funtions (one line functions), and map/filter/reduce\n",
    "Lambda functions are a Pythonic way of writing simple functions in a single line.\n",
    "\n",
    "They may be applied to a list using the <em>map</em> statement.\n",
    "\n",
    "The function <em>filter</em> offers a concise way to filter out all the elements of a list based on the results of a function.\n",
    "\n",
    "The function <em>reduce</em> continually applies a function to a sequence until a single value is returned. \n",
    "\n",
    "## Defining one-line lambda functions\n",
    "\n",
    "Instead of defining the function with <em>def</em>, we define the function with <em>lambda</em>.\n",
    "\n",
    "Here is a 'normal' function:"
   ]
  },
  {
   "cell_type": "code",
   "execution_count": 37,
   "metadata": {},
   "outputs": [
    {
     "name": "stdout",
     "output_type": "stream",
     "text": [
      "64\n"
     ]
    }
   ],
   "source": [
    "# A named function that returns the power of a number:\n",
    "def f(x, y):\n",
    "    result = x ** y\n",
    "    return result\n",
    "\n",
    "print (f(4,3))"
   ]
  },
  {
   "cell_type": "raw",
   "metadata": {},
   "source": [
    "Re-writing as a lambda function:"
   ]
  },
  {
   "cell_type": "code",
   "execution_count": 38,
   "metadata": {},
   "outputs": [
    {
     "name": "stdout",
     "output_type": "stream",
     "text": [
      "64\n"
     ]
    }
   ],
   "source": [
    "g = lambda x,y: x**y\n",
    "\n",
    "print (g(4,3))"
   ]
  },
  {
   "cell_type": "markdown",
   "metadata": {},
   "source": [
    "## Applying a lambda function to a list with map\n",
    "\n",
    "In the example below we define a lambda function to convert Celsius to Fahrenheit, and then apply it to a list.\n",
    "\n",
    "We will first define lambda separately, and then map, before looking at how they can be combined a single line.\n",
    "\n",
    "The <em>map</em> command generates a 'map object'. To return a list we need to convert that to a list, as below"
   ]
  },
  {
   "cell_type": "code",
   "execution_count": 39,
   "metadata": {},
   "outputs": [
    {
     "name": "stdout",
     "output_type": "stream",
     "text": [
      "[32.0, 50.0, 68.0, 86.0]\n"
     ]
    }
   ],
   "source": [
    "celsius = [0, 10, 20, 30]\n",
    "g = lambda x: (9/5)*x + 32\n",
    "fahrenheit = list(map(g, celsius))\n",
    "print (fahrenheit)"
   ]
  },
  {
   "cell_type": "markdown",
   "metadata": {},
   "source": [
    "This may be compressed further into one line. But there is always a balance to be had between being as concise as possible, and being as clear for others as possible. It may, however, generally be assumed that other experienced Python coders will be familiar with a combined one-line lambda/map function."
   ]
  },
  {
   "cell_type": "code",
   "execution_count": 43,
   "metadata": {},
   "outputs": [
    {
     "name": "stdout",
     "output_type": "stream",
     "text": [
      "[32.0, 50.0, 68.0, 86.0]\n"
     ]
    }
   ],
   "source": [
    "celsius = [0, 10, 20, 30]\n",
    "fahrenheit = list(map(lambda x: (9/5)*x + 32, celsius))\n",
    "print (fahrenheit)"
   ]
  },
  {
   "cell_type": "markdown",
   "metadata": {},
   "source": [
    "## Filtering a list with a lambda function\n",
    "\n",
    "The function <em>filter</em> offers a concise way to filter out all the elements of a list, for which the function function returns True. The function filter(f,l) needs a function f as its first argument. f returns a Boolean value, i.e. either True or False. \n",
    "\n",
    "This function will be applied to every element of the list l. \n",
    "Only if f returns True will the element of the list be included in the result list.\n",
    "\n",
    "Here is an example where filter is used to return even numbers from a list.  As with the map example above we will combine the filter and lambda function in a single line."
   ]
  },
  {
   "cell_type": "code",
   "execution_count": 41,
   "metadata": {},
   "outputs": [
    {
     "name": "stdout",
     "output_type": "stream",
     "text": [
      "[0, 2, 4, 6, 8, 10]\n"
     ]
    }
   ],
   "source": [
    "my_list = [0,1,2,3,4,5,6,7,8,9,10]\n",
    "result = list(filter(lambda x: x % 2 == 0, my_list))\n",
    "print (result)"
   ]
  },
  {
   "cell_type": "markdown",
   "metadata": {},
   "source": [
    "## Reducing a list with a repeated lambda function call\n",
    "\n",
    "The reduce function will continually apply a lambda function until only a single value is returned. Though it used to be in core python, it is now found in the functools module.\n",
    "\n",
    "A simple example is to use reduce to multiply all values in a list. The reduce function replaces the first two elements of a list with the product of those two elements. It will continue until one value is left."
   ]
  },
  {
   "cell_type": "code",
   "execution_count": 42,
   "metadata": {},
   "outputs": [
    {
     "name": "stdout",
     "output_type": "stream",
     "text": [
      "50836800\n"
     ]
    }
   ],
   "source": [
    "import functools\n",
    "my_list = [10,30,34,56,89]\n",
    "result = functools.reduce(lambda x,y: x*y, my_list)\n",
    "print (result)"
   ]
  },
  {
   "cell_type": "markdown",
   "metadata": {},
   "source": [
    "## Alternatives to map, filter and reduce\n",
    "\n",
    "Most results from map/filter and reduce may also be obsained from using list comprehensions, as previously outlined. Some see list comprehensions as more Pythonic than map, filter and reduce."
   ]
  }
 ],
 "metadata": {
  "kernelspec": {
   "display_name": "Python 3",
   "language": "python",
   "name": "python3"
  },
  "language_info": {
   "codemirror_mode": {
    "name": "ipython",
    "version": 3
   },
   "file_extension": ".py",
   "mimetype": "text/x-python",
   "name": "python",
   "nbconvert_exporter": "python",
   "pygments_lexer": "ipython3",
   "version": "3.6.4"
  }
 },
 "nbformat": 4,
 "nbformat_minor": 2
}
