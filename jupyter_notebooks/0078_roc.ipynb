{
 "cells": [
  {
   "cell_type": "markdown",
   "metadata": {},
   "source": [
    "# Changing sensitivity of machine learning algorithms and performing a receiver-operator characteristic curve"
   ]
  },
  {
   "cell_type": "markdown",
   "metadata": {},
   "source": [
    "With machine learning we may want to change the sensitivity of an algorithm such that a high or lower threshold would be necessary to classify some data as 'positive'. For example, in cancer screening it may be judged to preferable to err towards classifying someone as 'possible cancer' rather than 'probable not cancer' to ensure as few people with cancer are missed by the screen. As we increase the sensitivity in this way we will miss fewer real positives, but at the cost of generating more false positives (those without cancer who are classified as 'possible cancer'). \n",
    "\n",
    "Rather than taking a predicted classification output we take a probability estimate output that is balanced between two classes.  For example the output may be 0.61 for class 1 (no cancer) and 0.39 for class 2 (cancer). Ordinarily the model will classify this patient as ‘no cancer’. But we may set our threshold for classification of cancer at 0.3 for the cancer class, in which case this same patient will be classified as ‘cancer’. That means any classification that has at least a 30% probability of being cancer is classified as cancer.\n",
    "\n",
    "In order to change the sensitivity of the model we train the model as usual, but instead of using .predict to obtain classification, we use .predict_proba. For each patient this will return the probabilities of being either ‘no cancer’ or ‘cancer’. We compare the outputted probability of being cancer with our desired threshold.\n",
    "\n",
    "A ‘receiver operating characteristic (ROC) curve’ is a common way of displaying the trade-off between identifying all true positives, and incorrectly labelling a person as a positive (that they have cancer, for example) when they do not.\n",
    "\n",
    "ROC curve plots two measures:\n",
    "\n",
    "* False positive rate (on the x axis): This is the proportion of real negatives (no cancer) that are mistakenly classified as positive (cancer).\n",
    "\n",
    "* True positive rate (y axis): This is the proportion of true positives (cancer) correctly identified as positive. \n",
    "\n",
    "Ideally we want to identify all true positives with no false positives.\n",
    "\n",
    "In the code below we will train the model, and we will will adjust the threshold of classification in a loop. In order to get the best quality results we will use k-fold stratification to run the model 10 times, with each sample being used once and only as a test sample (rather than training sample). The ‘stratified’ form of the k-fold method ensures that all training/test splits have a consistent split between cancer and non-cancer patients (being representative of the data set as a whole). Please see lesson 75 for more details on the k-fold stratification method.\n",
    "\n",
    "We will use a linear regression model. Note that some other machine learning models, will output their probability classification with .decision_function rather than .predict_proba. Here are the methods for probability output for the common ml methods in sckit learn.\n",
    "\n",
    "* Logistic regression:  predict_proba\n",
    "* Random Forests:  predict_proba\n",
    "* Support Vector Machines:  decision_function\n",
    "* Neural Networks (mlp):  predict_proba\n",
    "\n",
    "Let's look at some code. In order to demonstrate the trade off we'll use the Winsonsin Breast Cancer data set, but we will make it much harder for the model to be accurate by only using the first two features from each patient."
   ]
  },
  {
   "cell_type": "markdown",
   "metadata": {},
   "source": [
    "Scikit learn has some automated methods for ROC production, but here we will do it 'manually' to see what is happening.\n",
    "\n",
    "For more on ROC curves see https://en.wikipedia.org/wiki/Receiver_operating_characteristic"
   ]
  },
  {
   "cell_type": "markdown",
   "metadata": {},
   "source": [
    "We'll start by loading modules that will used throughout the code: "
   ]
  },
  {
   "cell_type": "code",
   "execution_count": 1,
   "metadata": {},
   "outputs": [],
   "source": [
    "import numpy as np\n",
    "import pandas as pd"
   ]
  },
  {
   "cell_type": "markdown",
   "metadata": {},
   "source": [
    "Now we will define the function to load the data. Remember we are deliberately only using two features per patient here the make the trade-off in sensitivity of the algoirthm clearer. You would not normally do this!"
   ]
  },
  {
   "cell_type": "code",
   "execution_count": 2,
   "metadata": {},
   "outputs": [],
   "source": [
    "def load_data():\n",
    "    \"\"\"Load data from appropriate source. Here we load data from scikit\n",
    "    learn's buil in data sets, but we restrict the feature data to two columns\n",
    "    in order to demonstrate changing sensitivity of the model\"\"\"\n",
    "    \n",
    "    from sklearn import datasets\n",
    "    \n",
    "    data_set = datasets.load_breast_cancer()\n",
    "    X=data_set.data[:,0:2]\n",
    "    y=data_set.target\n",
    "    return X, y"
   ]
  },
  {
   "cell_type": "markdown",
   "metadata": {},
   "source": [
    "Now we will define the function to normalise the data."
   ]
  },
  {
   "cell_type": "code",
   "execution_count": 3,
   "metadata": {},
   "outputs": [],
   "source": [
    "def normalise (X_train,X_test):\n",
    "    \"\"\"Normalise X data, so that training set has mean of zero and standard\n",
    "    deviation of one\"\"\"\n",
    "    \n",
    "    from sklearn.preprocessing import StandardScaler\n",
    "    # Initialise a new scaling object for normalising input data\n",
    "    sc=StandardScaler() \n",
    "    # Set up the scaler just on the training set\n",
    "    sc.fit(X_train)\n",
    "    # Apply the scaler to the training and test sets\n",
    "    X_train_std=sc.transform(X_train)\n",
    "    X_test_std=sc.transform(X_test)\n",
    "    \n",
    "    # Return normalised data\n",
    "    return X_train_std, X_test_std"
   ]
  },
  {
   "cell_type": "markdown",
   "metadata": {},
   "source": [
    "Next wi will define the function that will provide us with 'k' (which we will later set to 10) different training/test splits so that each sample is used once and only once as a test sample."
   ]
  },
  {
   "cell_type": "code",
   "execution_count": 4,
   "metadata": {},
   "outputs": [],
   "source": [
    "def set_up_k_fold_splits(k):\n",
    "    \"\"\"Set up K-fold splits. This will divide data into k sets such that each\n",
    "    data points is used once and only once in the test set. Each test/training\n",
    "    split has same balance of y (the classified outcome) as the whole data\n",
    "    set\"\"\"\n",
    "    \n",
    "    from sklearn.model_selection import StratifiedKFold\n",
    "    \n",
    "    skf = StratifiedKFold(n_splits = k)\n",
    "    skf.get_n_splits(X, y)\n",
    "\n",
    "    return skf"
   ]
  },
  {
   "cell_type": "markdown",
   "metadata": {},
   "source": [
    "Here is the function that will train the model."
   ]
  },
  {
   "cell_type": "code",
   "execution_count": 5,
   "metadata": {},
   "outputs": [],
   "source": [
    "def train_model (X, y):\n",
    "    \"\"\"Train the model \"\"\"\n",
    "    \n",
    "    from sklearn.linear_model import LogisticRegression\n",
    "    model = LogisticRegression(C=100,random_state=0)\n",
    "    model.fit(X, y)\n",
    "    \n",
    "    return model"
   ]
  },
  {
   "cell_type": "markdown",
   "metadata": {},
   "source": [
    "And here is the function that classifies test samples with a given threshold level (which can be anywhere between zero and one). We will put that threshold level in a loop and call this function with different threshold levels."
   ]
  },
  {
   "cell_type": "code",
   "execution_count": 6,
   "metadata": {},
   "outputs": [],
   "source": [
    "def test_model (model, X_test_std, y, threshold):\n",
    "    y_pred_probability = model.predict_proba(X_test_std)\n",
    "    # Check probability of positive classification is >trhreshold\n",
    "    y_pred = (y_pred_probability[:,1] >= threshold)\n",
    "    # Convert boolean to 0/1 (could also simply multiple by 1)\n",
    "    y_pred = y_pred.astype(int)\n",
    "    \n",
    "    test_results = np.vstack((y, y_pred)).T\n",
    "    \n",
    "    # return results\n",
    "    return test_results"
   ]
  },
  {
   "cell_type": "markdown",
   "metadata": {},
   "source": [
    "Though we will be using just false positive and true positive rates, for reference we'll report back a full list of performance metrics."
   ]
  },
  {
   "cell_type": "code",
   "execution_count": 7,
   "metadata": {},
   "outputs": [],
   "source": [
    "def calculate_diagnostic_performance (actual_predicted):\n",
    "    \"\"\" Calculate diagnostic performance.\n",
    "    \n",
    "    Takes a Numpy array of 1 and zero, two columns: actual and predicted\n",
    "    \n",
    "    Note that some statistics are repeats with different names\n",
    "    (precision = positive_predictive_value and recall = sensitivity).\n",
    "    Both names are returned\n",
    "    \n",
    "    Returns a dictionary of results:\n",
    "        \n",
    "    1) accuracy: proportion of test results that are correct    \n",
    "    2) sensitivity: proportion of true +ve identified\n",
    "    3) specificity: proportion of true -ve identified\n",
    "    4) positive likelihood: increased probability of true +ve if test +ve\n",
    "    5) negative likelihood: reduced probability of true +ve if test -ve\n",
    "    6) true positive rate: proportion of test +ve that are positive\n",
    "    6) false positive rate: proportion of false +ves in true -ve patients\n",
    "    7) false negative rate:  proportion of false -ves in true +ve patients\n",
    "    8) positive predictive value: chance of true +ve if test +ve\n",
    "    9) negative predictive value: chance of true -ve if test -ve\n",
    "    10) precision = positive predictive value \n",
    "    11) recall = sensitivity\n",
    "    12) f1 = (2 * precision * recall) / (precision + recall)\n",
    "    13) positive rate = rate of true +ve (not strictly a performance measure)\n",
    "    \"\"\"\n",
    "    # Calculate results\n",
    "    actual_positives = actual_predicted[:, 0] == 1\n",
    "    actual_negatives = actual_predicted[:, 0] == 0\n",
    "    test_positives = actual_predicted[:, 1] == 1\n",
    "    test_negatives = actual_predicted[:, 1] == 0\n",
    "    test_correct = actual_predicted[:, 0] == actual_predicted[:, 1]\n",
    "    accuracy = np.average(test_correct)\n",
    "    true_positives = actual_positives & test_positives\n",
    "    false_positives = test_positives & actual_negatives\n",
    "    false_negatives = test_negatives & actual_positives\n",
    "    true_negatives = actual_negatives & test_negatives\n",
    "    sensitivity = np.sum(true_positives) / np.sum(actual_positives)\n",
    "    specificity = np.sum(true_negatives) / np.sum(actual_negatives)\n",
    "    positive_likelihood = sensitivity / (1 - specificity)\n",
    "    negative_likelihood = (1 - sensitivity) / specificity\n",
    "    true_positive_rate = sensitivity\n",
    "    false_positive_rate = 1 - specificity\n",
    "    false_negative_rate = np.sum(false_negatives) / np.sum(test_negatives)\n",
    "    positive_predictive_value = np.sum(true_positives) / np.sum(test_positives)\n",
    "    negative_predictive_value = np.sum(true_negatives) / np.sum(test_negatives)\n",
    "    precision = positive_predictive_value\n",
    "    recall = sensitivity\n",
    "    f1 = (2 * precision * recall) / (precision + recall)\n",
    "    positive_rate = np.mean(actual_predicted[:,1])\n",
    "    \n",
    "    # Add results to dictionary\n",
    "    performance = {}\n",
    "    performance['accuracy'] = accuracy\n",
    "    performance['sensitivity'] = sensitivity\n",
    "    performance['specificity'] = specificity\n",
    "    performance['positive_likelihood'] = positive_likelihood\n",
    "    performance['negative_likelihood'] = negative_likelihood\n",
    "    performance['true_positive_rate'] = true_positive_rate\n",
    "    performance['false_positive_rate'] = false_positive_rate\n",
    "    performance['false_negative_rate'] = false_negative_rate\n",
    "    performance['positive_predictive_value'] = positive_predictive_value\n",
    "    performance['negative_predictive_value'] = negative_predictive_value\n",
    "    performance['precision'] = precision\n",
    "    performance['recall'] = recall\n",
    "    performance['f1'] = f1\n",
    "    performance['positive_rate'] = positive_rate\n",
    "\n",
    "    # Return results dictionary\n",
    "    return performance"
   ]
  },
  {
   "cell_type": "markdown",
   "metadata": {},
   "source": [
    "We can also calulate the area under the curve of the ROC curve. For a perfect classification this would equal 1.0. If the model is no better, but no worse, than chance then area under curve would be zero. For a model that is worse than chance the area under curve would be less than 0.5. We use the NumPy trapz method to calculate area under curve which is a suitable method when we are determining the ROC curve in high detail as we are here (we will have 100 points on the ROC curve)."
   ]
  },
  {
   "cell_type": "code",
   "execution_count": 8,
   "metadata": {},
   "outputs": [],
   "source": [
    "def calculate_area_under_roc (true_positive_rate, false_positive_rate):\n",
    "    auc = np.trapz(true_positive_rate, x=false_positive_rate)\n",
    "    return auc"
   ]
  },
  {
   "cell_type": "markdown",
   "metadata": {},
   "source": [
    "We will record all results in a Pandas dataframe. Here we set it up."
   ]
  },
  {
   "cell_type": "code",
   "execution_count": 9,
   "metadata": {},
   "outputs": [],
   "source": [
    "def set_up_results_dataframe():\n",
    "    cols = ['threshold',\n",
    "            'k_fold',\n",
    "            'accuracy',\n",
    "            'sensitivity',\n",
    "            'specificity',\n",
    "            'positive_likelihood',\n",
    "            'negative_likelihood',\n",
    "            'true_positive_rate',\n",
    "            'false_positive_rate',\n",
    "            'false_negative_rate',\n",
    "            'positive_predictive_value',\n",
    "            'negative_predictive_value',\n",
    "            'precision',\n",
    "            'recall',\n",
    "            'f1',\n",
    "            'positive_rate']\n",
    "    \n",
    "    df = pd.DataFrame(columns = cols)\n",
    "    \n",
    "    return df"
   ]
  },
  {
   "cell_type": "markdown",
   "metadata": {},
   "source": [
    "We will have a function to plot the ROC curve."
   ]
  },
  {
   "cell_type": "code",
   "execution_count": 10,
   "metadata": {},
   "outputs": [],
   "source": [
    "def plot_roc(false_positive_rate, true_positive_rate):\n",
    "    \"\"\"Plot receiver operator curve.\"\"\"\n",
    "    \n",
    "    %matplotlib inline\n",
    "    \n",
    "    import matplotlib.pyplot as plt\n",
    "    import matplotlib.ticker as ticker\n",
    "    \n",
    "\n",
    "    x = false_positive_rate\n",
    "    y = true_positive_rate\n",
    "    \n",
    "    # Define the size of the overall figure\n",
    "    fig = plt.figure(figsize=(5,5)) \n",
    "\n",
    "    # Create subplot 1\n",
    "\n",
    "    ax1 = fig.add_subplot(111) # Grid of 2x2, this is suplot 1\n",
    "    \n",
    "    # Plot mran results\n",
    "    ax1.plot(x, y, color = 'k')\n",
    "    \n",
    "    ax1.set_xlabel('False positive rate')\n",
    "    ax1.set_ylabel('True positive rate rate')\n",
    "    ax1.xaxis.set_major_locator(ticker.MultipleLocator(0.2))\n",
    "    ax1.xaxis.set_minor_locator(ticker.MultipleLocator(0.1))\n",
    "    ax1.yaxis.set_major_locator(ticker.MultipleLocator(0.2))\n",
    "    ax1.yaxis.set_minor_locator(ticker.MultipleLocator(0.1))\n",
    "    ax1.grid(True, which='both')\n",
    "    \n",
    "    plt.savefig('roc.png',dpi=300)\n",
    "    plt.show()\n",
    "    \n",
    "    return"
   ]
  },
  {
   "cell_type": "markdown",
   "metadata": {},
   "source": [
    "And now we will call those functions in the main code."
   ]
  },
  {
   "cell_type": "code",
   "execution_count": 11,
   "metadata": {},
   "outputs": [
    {
     "name": "stderr",
     "output_type": "stream",
     "text": [
      "/home/michael/anaconda3/lib/python3.6/site-packages/ipykernel_launcher.py:41: RuntimeWarning: invalid value encountered in double_scalars\n",
      "/home/michael/anaconda3/lib/python3.6/site-packages/ipykernel_launcher.py:44: RuntimeWarning: invalid value encountered in long_scalars\n",
      "/home/michael/anaconda3/lib/python3.6/site-packages/ipykernel_launcher.py:46: RuntimeWarning: invalid value encountered in long_scalars\n",
      "/home/michael/anaconda3/lib/python3.6/site-packages/ipykernel_launcher.py:40: RuntimeWarning: divide by zero encountered in double_scalars\n",
      "/home/michael/anaconda3/lib/python3.6/site-packages/ipykernel_launcher.py:40: RuntimeWarning: invalid value encountered in double_scalars\n",
      "/home/michael/anaconda3/lib/python3.6/site-packages/ipykernel_launcher.py:45: RuntimeWarning: invalid value encountered in long_scalars\n"
     ]
    },
    {
     "data": {
      "image/png": "[encoded data removed]",
      "text/plain": [
       "<matplotlib.figure.Figure at 0x7fc5635e4080>"
      ]
     },
     "metadata": {},
     "output_type": "display_data"
    },
    {
     "name": "stdout",
     "output_type": "stream",
     "text": [
      "Area under curve mean = 0.956\n",
      "Area under curve stdev = 0.020\n"
     ]
    }
   ],
   "source": [
    "# Load data\n",
    "X, y = load_data()\n",
    "\n",
    "# Set up K-fold splits. \n",
    "splits = 10\n",
    "skf = set_up_k_fold_splits (splits)\n",
    "\n",
    "# Set up results dataframe\n",
    "\n",
    "results_df = set_up_results_dataframe()\n",
    "\n",
    "# Set up counters (used in the results record)\n",
    "\n",
    "run_id = 0\n",
    "k_fold_count = 0\n",
    "\n",
    "# Loop through k-fold training/test splits\n",
    "\n",
    "for train_index, test_index in skf.split(X, y):\n",
    "    \n",
    "    # Divide data in train and test\n",
    "    X_train, X_test = X[train_index], X[test_index]\n",
    "    y_train, y_test = y[train_index], y[test_index]\n",
    "    \n",
    "    # Normalise data\n",
    "    X_train_std, X_test_std = normalise(X_train,X_test)\n",
    "\n",
    "    # Train model\n",
    "    model = train_model (X_train_std,y_train)\n",
    "    \n",
    "    # Loop through a range of thresholds when predicting classification\n",
    "    for threshold in np.arange (0.0,1.01,0.01):\n",
    "        # linear regression model has .predict+proba  method to return \n",
    "        # probability of outcomes. Some methods such as svc use \n",
    "        # .decision_function to return probability\n",
    "        \n",
    "        # Get test results (combined with actual classification)\n",
    "        test_results = test_model (model, X_test_std, y_test, threshold)\n",
    "        \n",
    "        # Measure performance of test set predictions\n",
    "        performance = calculate_diagnostic_performance(test_results)\n",
    "        run_results = [threshold, k_fold_count] + list(performance.values())\n",
    "        results_df.loc[run_id] = run_results\n",
    "        run_id += 1\n",
    "    \n",
    "    k_fold_count += 1 # increment counter of k-fold\n",
    "\n",
    "# Summarise performance data\n",
    "summary_mean = results_df.groupby('threshold').mean()\n",
    "summary_stdev = results_df.groupby('threshold').std()\n",
    "\n",
    "# Call for ROC to be plotted \n",
    "plot_roc (summary_mean['false_positive_rate'],\n",
    "          summary_mean['true_positive_rate'])\n",
    "    \n",
    "# Calculate area under curve for each k-fold\n",
    "area_under_curve_per_run = []\n",
    "for split in range(splits):\n",
    "    mask = results_df['k_fold'] == split\n",
    "    run_data = results_df[mask]\n",
    "    run_data = run_data.sort_values(['false_positive_rate'])\n",
    "    true_positive_rate = run_data['true_positive_rate'].values\n",
    "    false_positive_rate = run_data['false_positive_rate'].values\n",
    "    auc = calculate_area_under_roc(true_positive_rate, false_positive_rate)\n",
    "    area_under_curve_per_run.append(auc)\n",
    "    area_under_curve_mean = np.mean(area_under_curve_per_run)\n",
    "    area_under_curve_stdev = np.std(area_under_curve_per_run)\n",
    "print ('Area under curve mean = %0.3f' %area_under_curve_mean)\n",
    "print ('Area under curve stdev = %0.3f' %area_under_curve_stdev)\n",
    "    \n",
    "# Save data \n",
    "results_df.to_csv('all_roc_results.csv')\n",
    "summary_mean.to_csv('roc_summary_mean.csv')\n",
    "summary_stdev.to_csv('roc_summary_stdev.csv')\n",
    "auc_df = pd.DataFrame(area_under_curve_per_run)\n",
    "auc_df.to_csv('roc_auc_per_kfold_split.csv')"
   ]
  }
 ],
 "metadata": {
  "kernelspec": {
   "display_name": "Python 3",
   "language": "python",
   "name": "python3"
  },
  "language_info": {
   "codemirror_mode": {
    "name": "ipython",
    "version": 3
   },
   "file_extension": ".py",
   "mimetype": "text/x-python",
   "name": "python",
   "nbconvert_exporter": "python",
   "pygments_lexer": "ipython3",
   "version": "3.6.4"
  }
 },
 "nbformat": 4,
 "nbformat_minor": 2
}
