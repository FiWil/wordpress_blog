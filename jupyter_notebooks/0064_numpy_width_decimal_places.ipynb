{
 "cells": [
  {
   "cell_type": "markdown",
   "metadata": {},
   "source": [
    "# Setting width and number of decimal places in NumPy print output\n",
    "\n",
    "The function below may be used to set both the number of decimal places and the fixed width of NumPy print out. If no width is given it defaults to zero (no extra padding added). Setting width will ensure alignment of output."
   ]
  },
  {
   "cell_type": "code",
   "execution_count": 34,
   "metadata": {},
   "outputs": [],
   "source": [
    "import numpy as np\n",
    "\n",
    "# We can set NumPy to print to a fixed number of decimal places:\n",
    "# e.g. the 8 decimal places that are standard, with no set width\n",
    "\n",
    "np.set_printoptions(formatter={'float': lambda x: \"{0:0.8f}\".format(x)})\n",
    "\n",
    "# Or to make things more flexible/clearer in the code we can set up a function.\n",
    "# This function will define both fixed with and decimal placed/\n",
    "# If no width is given it will default to zero, with no extra spacing added\n",
    "\n",
    "def set_numpy_decimal_places(places, width=0):\n",
    "    set_np = '{0:' + str(width) + '.' + str(places) + 'f}'\n",
    "    np.set_printoptions(formatter={'float': lambda x: set_np.format(x)})"
   ]
  },
  {
   "cell_type": "markdown",
   "metadata": {},
   "source": [
    "Let's generate some random number data:"
   ]
  },
  {
   "cell_type": "code",
   "execution_count": 35,
   "metadata": {},
   "outputs": [],
   "source": [
    "x = np.random.rand(3,3)"
   ]
  },
  {
   "cell_type": "markdown",
   "metadata": {},
   "source": [
    "The array as originally printed:"
   ]
  },
  {
   "cell_type": "code",
   "execution_count": 36,
   "metadata": {},
   "outputs": [
    {
     "name": "stdout",
     "output_type": "stream",
     "text": [
      "[[0.50873497 0.60515928 0.41612647]\n",
      " [0.56755605 0.58378952 0.11467147]\n",
      " [0.49378493 0.99466011 0.70781679]]\n"
     ]
    }
   ],
   "source": [
    "print (x)"
   ]
  },
  {
   "cell_type": "markdown",
   "metadata": {},
   "source": [
    "Setting the number of decimal places:"
   ]
  },
  {
   "cell_type": "code",
   "execution_count": 37,
   "metadata": {},
   "outputs": [
    {
     "name": "stdout",
     "output_type": "stream",
     "text": [
      "[[0.509 0.605 0.416]\n",
      " [0.568 0.584 0.115]\n",
      " [0.494 0.995 0.708]]\n"
     ]
    }
   ],
   "source": [
    "set_numpy_decimal_places(3)\n",
    "print (x)"
   ]
  },
  {
   "cell_type": "markdown",
   "metadata": {},
   "source": [
    "Setting the number of decimal places and a fixed with:"
   ]
  },
  {
   "cell_type": "code",
   "execution_count": 38,
   "metadata": {},
   "outputs": [
    {
     "name": "stdout",
     "output_type": "stream",
     "text": [
      "[[ 0.509  0.605  0.416]\n",
      " [ 0.568  0.584  0.115]\n",
      " [ 0.494  0.995  0.708]]\n"
     ]
    }
   ],
   "source": [
    "set_numpy_decimal_places(3, 6)\n",
    "print (x)"
   ]
  }
 ],
 "metadata": {
  "kernelspec": {
   "display_name": "Python 3",
   "language": "python",
   "name": "python3"
  },
  "language_info": {
   "codemirror_mode": {
    "name": "ipython",
    "version": 3
   },
   "file_extension": ".py",
   "mimetype": "text/x-python",
   "name": "python",
   "nbconvert_exporter": "python",
   "pygments_lexer": "ipython3",
   "version": "3.6.4"
  }
 },
 "nbformat": 4,
 "nbformat_minor": 2
}
