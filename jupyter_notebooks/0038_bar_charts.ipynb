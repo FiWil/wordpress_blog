{
 "cells": [
  {
   "cell_type": "markdown",
   "metadata": {},
   "source": [
    "# Matplotlib: Bar charts\n",
    "\n",
    "## A simple bar chart"
   ]
  },
  {
   "cell_type": "code",
   "execution_count": 12,
   "metadata": {},
   "outputs": [
    {
     "data": {
      "image/png": "[encoded data removed]",
      "text/plain": [
       "<matplotlib.figure.Figure at 0x7fbde8115080>"
      ]
     },
     "metadata": {},
     "output_type": "display_data"
    }
   ],
   "source": [
    "# The following line is only needed to display chart in Jupyter notebooks\n",
    "%matplotlib inline\n",
    "\n",
    "import matplotlib.pyplot as plt\n",
    "import numpy as np\n",
    "\n",
    "data =[5.,25.,50.,20.]\n",
    "x = range(len(data)) # creates a range of 0 to 4\n",
    "\n",
    "plt.bar(x, data)\n",
    "\n",
    "plt.show()"
   ]
  },
  {
   "cell_type": "markdown",
   "metadata": {},
   "source": [
    "## Multiple series"
   ]
  },
  {
   "cell_type": "code",
   "execution_count": 13,
   "metadata": {},
   "outputs": [
    {
     "data": {
      "image/png": "[encoded data removed]",
      "text/plain": [
       "<matplotlib.figure.Figure at 0x7fbddb9547b8>"
      ]
     },
     "metadata": {},
     "output_type": "display_data"
    }
   ],
   "source": [
    "import matplotlib.pyplot as plt\n",
    "import numpy as np\n",
    "\n",
    "data =[[5.,25.,50.,20],\n",
    "        [4.,23.,51.,17],\n",
    "        [6., 22.,52.,19]]\n",
    "\n",
    "X=np.arange(4)\n",
    "\n",
    "plt.bar(X+0.00,data[0],color='b',width=0.25) # colour is blue\n",
    "plt.bar(X+0.25,data[1],color='g',width=0.25) # colour is green\n",
    "plt.bar(X+0.50,data[2],color='r',width=0.25) # colour is red\n",
    "\n",
    "plt.show()"
   ]
  },
  {
   "cell_type": "markdown",
   "metadata": {},
   "source": [
    "For larger data sets we could automate the creation of the bars:"
   ]
  },
  {
   "cell_type": "code",
   "execution_count": 14,
   "metadata": {},
   "outputs": [
    {
     "data": {
      "image/png": "[encoded data removed]",
      "text/plain": [
       "<matplotlib.figure.Figure at 0x7fbddb89bb70>"
      ]
     },
     "metadata": {},
     "output_type": "display_data"
    }
   ],
   "source": [
    "import matplotlib.pyplot as plt\n",
    "import numpy as np\n",
    "\n",
    "data =[[5.,25.,50.,20],\n",
    "        [4.,23.,51.,17],\n",
    "        [6., 22.,52.,19]]\n",
    "\n",
    "color_list=['b','g','r']\n",
    "gap=0.8/len(data)\n",
    "\n",
    "for i, row in enumerate(data): # creates int i and list row\n",
    "    X=np.arange(len(row))\n",
    "    plt.bar(X+i*gap,row,width=gap,color=color_list[i])\n",
    "\n",
    "plt.show()"
   ]
  },
  {
   "cell_type": "markdown",
   "metadata": {},
   "source": [
    "## Stacked bar chart"
   ]
  },
  {
   "cell_type": "code",
   "execution_count": 15,
   "metadata": {},
   "outputs": [
    {
     "data": {
      "image/png": "[encoded data removed]",
      "text/plain": [
       "<matplotlib.figure.Figure at 0x7fbddb865b00>"
      ]
     },
     "metadata": {},
     "output_type": "display_data"
    }
   ],
   "source": [
    "a=[5.,30.,45.,22.]\n",
    "b=[5.,25.,50.,20.]\n",
    "x=range(4)\n",
    "\n",
    "plt.bar(x,a,color='b')\n",
    "plt.bar(x,b,color='r',bottom=a) # bottom specifies the starting position for a bar\n",
    "\n",
    "plt.show()"
   ]
  },
  {
   "cell_type": "markdown",
   "metadata": {},
   "source": [
    "## Back to back bar chart"
   ]
  },
  {
   "cell_type": "code",
   "execution_count": 16,
   "metadata": {},
   "outputs": [
    {
     "data": {
      "image/png": "[encoded data removed]",
      "text/plain": [
       "<matplotlib.figure.Figure at 0x7fbddb7c1a20>"
      ]
     },
     "metadata": {},
     "output_type": "display_data"
    }
   ],
   "source": [
    "women_pop=np.array([50,30,45,22])\n",
    "men_pop=np.array([5,25,50,20])\n",
    "x=np.arange(4)\n",
    "\n",
    "plt.barh(x,women_pop,color='r')\n",
    "plt.barh(x,-men_pop,color='b') # the minus sign creates an opposite bar\n",
    "\n",
    "plt.show()"
   ]
  },
  {
   "cell_type": "code",
   "execution_count": null,
   "metadata": {},
   "outputs": [],
   "source": []
  }
 ],
 "metadata": {
  "kernelspec": {
   "display_name": "Python 3",
   "language": "python",
   "name": "python3"
  },
  "language_info": {
   "codemirror_mode": {
    "name": "ipython",
    "version": 3
   },
   "file_extension": ".py",
   "mimetype": "text/x-python",
   "name": "python",
   "nbconvert_exporter": "python",
   "pygments_lexer": "ipython3",
   "version": "3.6.4"
  }
 },
 "nbformat": 4,
 "nbformat_minor": 2
}
