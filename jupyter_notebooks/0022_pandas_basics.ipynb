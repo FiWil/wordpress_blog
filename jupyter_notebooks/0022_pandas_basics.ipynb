{
 "cells": [
  {
   "cell_type": "markdown",
   "metadata": {},
   "source": [
    "# 22. Pandas basics: building a dataframe from lists, and retrieving data from the dataframe using row and column index references\n",
    "\n",
    "Here we will repeat basic actions previously described for NumPy. There is significant overlap between NumPy and Pandas (not least because Pandas is built on top of NumPy). Generally speaking Pandas will be used more for data manipulation, and NumPy will be used more for raw calculations (but that is probably somewhat of an over-simplification!).\n",
    "\n",
    "Pandas allows us to access data using index names or by row/column number. Using index names is perhaps more common in Pandas. You may find having the two different methods available a little confusing at first, but these dual methods are one thing that help make Pandas powerful for data manipulation.\n",
    "\n",
    "As with NumPy, we will often be importing data from files, but here we will create a dataframe from existing lists."
   ]
  },
  {
   "cell_type": "markdown",
   "metadata": {},
   "source": [
    "## Creating an empty data frame and building it up from lists\n",
    "\n",
    "We start with importing pandas (using pd as the short name we will use) and then create a dataframe."
   ]
  },
  {
   "cell_type": "code",
   "execution_count": 134,
   "metadata": {},
   "outputs": [],
   "source": [
    "import pandas as pd\n",
    "df = pd.DataFrame()"
   ]
  },
  {
   "cell_type": "markdown",
   "metadata": {},
   "source": [
    "Let's create some data in lists and add them to the dataframe:"
   ]
  },
  {
   "cell_type": "code",
   "execution_count": 135,
   "metadata": {},
   "outputs": [],
   "source": [
    "names = ['Gandolf','Gimli','Frodo','Legolas','Bilbo']\n",
    "types = ['Wizard','Dwarf','Hobbit','Elf','Hobbit']\n",
    "magic = [10, 1, 4, 6, 4]\n",
    "aggression = [7, 10, 2, 5, 1]\n",
    "stealth = [8, 2, 5, 10, 5]\n",
    "\n",
    "\n",
    "df['names'] = names\n",
    "df['type'] = types\n",
    "df['magic_power'] = magic\n",
    "df['aggression'] = aggression\n",
    "df['stealth'] = stealth"
   ]
  },
  {
   "cell_type": "markdown",
   "metadata": {},
   "source": [
    "We can print the dataframe. Notice that a column to the left has appeared with numbers. This is the index, which has been added automatically."
   ]
  },
  {
   "cell_type": "code",
   "execution_count": 136,
   "metadata": {},
   "outputs": [
    {
     "name": "stdout",
     "output_type": "stream",
     "text": [
      "     names    type  magic_power  aggression  stealth\n",
      "0  Gandolf  Wizard           10           7        8\n",
      "1    Gimli   Dwarf            1          10        2\n",
      "2    Frodo  Hobbit            4           2        5\n",
      "3  Legolas     Elf            6           5       10\n",
      "4    Bilbo  Hobbit            4           1        5\n"
     ]
    }
   ],
   "source": [
    "print(df)"
   ]
  },
  {
   "cell_type": "markdown",
   "metadata": {},
   "source": [
    "## Setting an index column\n",
    "\n",
    "We can leave the index as it is, or we can make one of the columns the index. Note that to change something in an existing dataframe we use 'inplace=True'"
   ]
  },
  {
   "cell_type": "code",
   "execution_count": 137,
   "metadata": {},
   "outputs": [
    {
     "name": "stdout",
     "output_type": "stream",
     "text": [
      "           type  magic_power  aggression  stealth\n",
      "names                                            \n",
      "Gandolf  Wizard           10           7        8\n",
      "Gimli     Dwarf            1          10        2\n",
      "Frodo    Hobbit            4           2        5\n",
      "Legolas     Elf            6           5       10\n",
      "Bilbo    Hobbit            4           1        5\n"
     ]
    }
   ],
   "source": [
    "df.set_index('names', inplace=True)\n",
    "print (df)"
   ]
  },
  {
   "cell_type": "markdown",
   "metadata": {},
   "source": [
    "## Accessing data with loc and iloc\n",
    "\n",
    "Dataframes have two basic methods of accessing data by row (or index) and by column (or header):\n",
    "\n",
    "<em>loc</em> selects data by index name and column (header) name.\n",
    "\n",
    "<em>iloc</em> selects data by row or column number\n",
    "\n",
    "## Selcting rows by index\n",
    "\n",
    "\n",
    "The <em>loc</em> method selects rows by index name, like in Python dictionaries:"
   ]
  },
  {
   "cell_type": "code",
   "execution_count": 165,
   "metadata": {},
   "outputs": [
    {
     "name": "stdout",
     "output_type": "stream",
     "text": [
      "type           Wizard\n",
      "magic_power        10\n",
      "aggression          7\n",
      "stealth             8\n",
      "Name: Gandolf, dtype: object\n"
     ]
    }
   ],
   "source": [
    "print (df.loc['Gandolf'])"
   ]
  },
  {
   "cell_type": "markdown",
   "metadata": {},
   "source": [
    "We can pass multiple index references to the loc method using a list:"
   ]
  },
  {
   "cell_type": "code",
   "execution_count": 166,
   "metadata": {},
   "outputs": [
    {
     "name": "stdout",
     "output_type": "stream",
     "text": [
      "         type  magic_power  aggression  stealth\n",
      "names                                          \n",
      "Bilbo  Hobbit            4           1        5\n",
      "Gimli   Dwarf            1          10        2\n",
      "Frodo  Hobbit            4           2        5\n"
     ]
    }
   ],
   "source": [
    "to_find = ['Bilbo','Gimli','Frodo']\n",
    "print (df.loc[to_find])"
   ]
  },
  {
   "cell_type": "markdown",
   "metadata": {},
   "source": [
    "Row slices may also be taken. For example let us take a row slice from Gimli to Legolas. Unusually for Python this slice includes both the lower and upper index references."
   ]
  },
  {
   "cell_type": "code",
   "execution_count": 154,
   "metadata": {},
   "outputs": [
    {
     "name": "stdout",
     "output_type": "stream",
     "text": [
      "           type  magic_power  aggression  stealth\n",
      "names                                            \n",
      "Gimli     Dwarf            1          10        2\n",
      "Frodo    Hobbit            4           2        5\n",
      "Legolas     Elf            6           5       10\n"
     ]
    }
   ],
   "source": [
    "print (df.loc['Gimli':'Legolas'])"
   ]
  },
  {
   "cell_type": "markdown",
   "metadata": {},
   "source": [
    "As with other Python slices a colon may be used to represent the start or end. :Gimli would take a slice from the beginning to Gimli. Bilbo: would take a row slice from Bilbo to the end."
   ]
  },
  {
   "cell_type": "markdown",
   "metadata": {},
   "source": [
    "## Selecting records by row number\n",
    "\n",
    "Rather than using an index, we can use row numbers, using the <em>iloc</em> method. As with most references in Python the range given starts from the lower index number and goes up to, but does not include, the upper index number."
   ]
  },
  {
   "cell_type": "code",
   "execution_count": 155,
   "metadata": {},
   "outputs": [
    {
     "name": "stdout",
     "output_type": "stream",
     "text": [
      "           type  magic_power  aggression  stealth\n",
      "names                                            \n",
      "Gandolf  Wizard           10           7        8\n",
      "Gimli     Dwarf            1          10        2\n"
     ]
    }
   ],
   "source": [
    "print (df.iloc[0:2])"
   ]
  },
  {
   "cell_type": "markdown",
   "metadata": {},
   "source": [
    "Discontinuous rows may be accessed with iloc by building a list:"
   ]
  },
  {
   "cell_type": "code",
   "execution_count": 156,
   "metadata": {},
   "outputs": [
    {
     "name": "stdout",
     "output_type": "stream",
     "text": [
      "           type  magic_power  aggression  stealth\n",
      "names                                            \n",
      "Gandolf  Wizard           10           7        8\n",
      "Gimli     Dwarf            1          10        2\n",
      "Bilbo    Hobbit            4           1        5\n"
     ]
    }
   ],
   "source": [
    "print (df.iloc[[0,1,4]])"
   ]
  },
  {
   "cell_type": "markdown",
   "metadata": {},
   "source": [
    "Or, building up a more complex list of row numbers:"
   ]
  },
  {
   "cell_type": "code",
   "execution_count": 157,
   "metadata": {},
   "outputs": [
    {
     "name": "stdout",
     "output_type": "stream",
     "text": [
      "List of rows to find: [0, 1, 3, 4]\n",
      "\n",
      "           type  magic_power  aggression  stealth\n",
      "names                                            \n",
      "Gandolf  Wizard           10           7        8\n",
      "Gimli     Dwarf            1          10        2\n",
      "Legolas     Elf            6           5       10\n",
      "Bilbo    Hobbit            4           1        5\n"
     ]
    }
   ],
   "source": [
    "rows_to_find = list(range(0,2))\n",
    "rows_to_find += (list(range(3,5)))\n",
    "\n",
    "\n",
    "print ('List of rows to find:',rows_to_find)\n",
    "print()\n",
    "print (df.iloc[rows_to_find])"
   ]
  },
  {
   "cell_type": "markdown",
   "metadata": {},
   "source": [
    "## Selecting columns ny name\n",
    "\n",
    "Columns are selected using square brackets after the dataframe:"
   ]
  },
  {
   "cell_type": "code",
   "execution_count": 158,
   "metadata": {},
   "outputs": [
    {
     "name": "stdout",
     "output_type": "stream",
     "text": [
      "names\n",
      "Gandolf    Wizard\n",
      "Gimli       Dwarf\n",
      "Frodo      Hobbit\n",
      "Legolas       Elf\n",
      "Bilbo      Hobbit\n",
      "Name: type, dtype: object\n"
     ]
    }
   ],
   "source": [
    "print (df['type'])"
   ]
  },
  {
   "cell_type": "code",
   "execution_count": 159,
   "metadata": {},
   "outputs": [
    {
     "name": "stdout",
     "output_type": "stream",
     "text": [
      "           type  stealth\n",
      "names                   \n",
      "Gandolf  Wizard        8\n",
      "Gimli     Dwarf        2\n",
      "Frodo    Hobbit        5\n",
      "Legolas     Elf       10\n",
      "Bilbo    Hobbit        5\n"
     ]
    }
   ],
   "source": [
    "print (df[['type','stealth']])"
   ]
  },
  {
   "cell_type": "markdown",
   "metadata": {},
   "source": [
    "To take a slice of columns we need to use the <em>loc</em> method, using : to select all rows."
   ]
  },
  {
   "cell_type": "code",
   "execution_count": 160,
   "metadata": {},
   "outputs": [
    {
     "name": "stdout",
     "output_type": "stream",
     "text": [
      "         magic_power  aggression  stealth\n",
      "names                                    \n",
      "Gandolf           10           7        8\n",
      "Gimli              1          10        2\n",
      "Frodo              4           2        5\n",
      "Legolas            6           5       10\n",
      "Bilbo              4           1        5\n"
     ]
    }
   ],
   "source": [
    "print (df.loc[:,'magic_power':'stealth'])"
   ]
  },
  {
   "cell_type": "markdown",
   "metadata": {},
   "source": [
    "## Selecting columns by number\n",
    "\n",
    "Columns may also be referenced by number using the <em>column</em> method (which allows slicing):"
   ]
  },
  {
   "cell_type": "code",
   "execution_count": 161,
   "metadata": {},
   "outputs": [
    {
     "name": "stdout",
     "output_type": "stream",
     "text": [
      "         magic_power  aggression  stealth\n",
      "names                                    \n",
      "Gandolf           10           7        8\n",
      "Gimli              1          10        2\n",
      "Frodo              4           2        5\n",
      "Legolas            6           5       10\n",
      "Bilbo              4           1        5\n"
     ]
    }
   ],
   "source": [
    "print (df[df.columns[1:4]])"
   ]
  },
  {
   "cell_type": "markdown",
   "metadata": {},
   "source": [
    "Or <em>iloc</em> may be used to select columns by number (the colon shows that we are selecting all rows):"
   ]
  },
  {
   "cell_type": "code",
   "execution_count": 162,
   "metadata": {},
   "outputs": [
    {
     "name": "stdout",
     "output_type": "stream",
     "text": [
      "         magic_power  aggression\n",
      "names                           \n",
      "Gandolf           10           7\n",
      "Gimli              1          10\n",
      "Frodo              4           2\n",
      "Legolas            6           5\n",
      "Bilbo              4           1\n"
     ]
    }
   ],
   "source": [
    "print (df.iloc[:,1:3])"
   ]
  },
  {
   "cell_type": "markdown",
   "metadata": {},
   "source": [
    "## Selecting rows and columns simultaneously\n",
    "\n",
    "We can combine row and column references with the <em>loc</em> method:"
   ]
  },
  {
   "cell_type": "code",
   "execution_count": 163,
   "metadata": {},
   "outputs": [
    {
     "name": "stdout",
     "output_type": "stream",
     "text": [
      "       magic_power  aggression  stealth\n",
      "names                                  \n",
      "Bilbo            4           1        5\n",
      "Gimli            1          10        2\n",
      "Frodo            4           2        5\n"
     ]
    }
   ],
   "source": [
    "rows_to_find = ['Bilbo','Gimli','Frodo']\n",
    "print (df.loc[rows_to_find,'magic_power':'stealth'])"
   ]
  },
  {
   "cell_type": "markdown",
   "metadata": {},
   "source": [
    "Or with <em>iloc</em> (referencing row numbers):"
   ]
  },
  {
   "cell_type": "code",
   "execution_count": 164,
   "metadata": {},
   "outputs": [
    {
     "name": "stdout",
     "output_type": "stream",
     "text": [
      "         aggression  stealth\n",
      "names                       \n",
      "Gandolf           7        8\n",
      "Gimli            10        2\n"
     ]
    }
   ],
   "source": [
    "print (df.iloc[0:2,2:4])"
   ]
  }
 ],
 "metadata": {
  "kernelspec": {
   "display_name": "Python 3",
   "language": "python",
   "name": "python3"
  },
  "language_info": {
   "codemirror_mode": {
    "name": "ipython",
    "version": 3
   },
   "file_extension": ".py",
   "mimetype": "text/x-python",
   "name": "python",
   "nbconvert_exporter": "python",
   "pygments_lexer": "ipython3",
   "version": "3.6.4"
  }
 },
 "nbformat": 4,
 "nbformat_minor": 2
}
