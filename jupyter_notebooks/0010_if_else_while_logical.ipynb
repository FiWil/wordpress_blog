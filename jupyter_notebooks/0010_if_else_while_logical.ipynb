{
 "cells": [
  {
   "cell_type": "markdown",
   "metadata": {},
   "source": [
    "# If, elif, else, while, and logical operators"
   ]
  },
  {
   "cell_type": "markdown",
   "metadata": {},
   "source": [
    "Like many programming languages, Python enables code to be run based on testing whether a condition is true. Python uses indented blocks to run code according to these tests.\n",
    "\n",
    "## If, elif, else\n",
    "\n",
    "<em>if</em> statements run a block of code if a particular condition is true. <em>elif</em> or 'else if' statements can subsequently run to test more conditions, but these run only if none of the precious <em>if</em> or <em>elif</em> statements were true. <em>else</em> statements may be used to  run code if none of the previous <em>if</em> or <em>elif</em> were true.\n",
    "\n",
    "<em>if</em> statements may be run alone, with <em>else</em> statements or with <em>elif</em> statements. <em>else</em> and <em>elif</em> statements require a previous <em>if</em> statement.\n",
    "\n",
    "\n",
    "In the following example we use the <em>input</em> command to ask a user for a password and test against known value.\n",
    "\n",
    "Here we use just one <em>elif</em> statement, but multiple statements could be used.\n",
    "\n",
    "Note that the tests of equality uses double = signs"
   ]
  },
  {
   "cell_type": "code",
   "execution_count": 20,
   "metadata": {},
   "outputs": [
    {
     "name": "stdout",
     "output_type": "stream",
     "text": [
      "Password? Secret\n",
      "Close!\n"
     ]
    }
   ],
   "source": [
    "password = input (\"Password? \") # get user to enter password\n",
    "if password == \"secret\":\n",
    "    print (\"Well done\")\n",
    "    print (\"You\")\n",
    "elif password==\"Secret\":\n",
    "    print (\"Close!\")\n",
    "else:\n",
    "    print(\"Noodle brain\")"
   ]
  },
  {
   "cell_type": "markdown",
   "metadata": {},
   "source": [
    "## While statements\n",
    "\n",
    "<em>while</em> statements may be used to repeat some actions until a condition is no longer true. For example: "
   ]
  },
  {
   "cell_type": "code",
   "execution_count": 21,
   "metadata": {},
   "outputs": [
    {
     "name": "stdout",
     "output_type": "stream",
     "text": [
      "1\n",
      "2\n",
      "3\n",
      "4\n",
      "5\n"
     ]
    }
   ],
   "source": [
    "x = 0\n",
    "while x <5:\n",
    "    x +=1 # This is shorthand for x = x + 1\n",
    "    print (x)"
   ]
  },
  {
   "cell_type": "markdown",
   "metadata": {},
   "source": [
    "## Logical operators\n",
    "\n",
    "The following are commonly used logical operators:\n",
    "\n",
    "==  Test of identity\n",
    "\n",
    "!=  Not equal to\n",
    "\n",
    "\\>  greater than\n",
    "\n",
    "<  less than\n",
    "\n",
    "\\>=  equal to or greater than  \n",
    "\n",
    "<=  less than or equal to\n",
    "\n",
    "<em>in</em>  test whether element is in list/tuple/dictionary\n",
    "\n",
    "<em>not in</em>  test whether element is not in list/tuple/dictionary\n",
    "\n",
    "<em>and</em> test multiple conditions are true\n",
    "\n",
    "<em>or</em> test one of alternative conditions are true\n",
    "\n",
    "<em>any</em>  test whether all elements are true\n",
    "\n",
    "<em>all</em>  test whether all elements are true\n",
    "\n",
    "When Python test conditins they are evaluated as either True or False. These values may also be used directly in tests:"
   ]
  },
  {
   "cell_type": "code",
   "execution_count": 22,
   "metadata": {},
   "outputs": [
    {
     "name": "stdout",
     "output_type": "stream",
     "text": [
      "False\n",
      "False\n",
      "True\n",
      "\n",
      "True\n",
      "[False, False, True]\n",
      "True\n",
      "False\n"
     ]
    }
   ],
   "source": [
    "x = 10\n",
    "y = 20\n",
    "z = 30\n",
    "\n",
    "# using and/or\n",
    "print (x>15)\n",
    "print (x>15 and y>15 and z>15)\n",
    "print (x>15 or y>15 or z>15)\n",
    "print ()\n",
    "\n",
    "# Using any and all\n",
    "print (any([x>20, y>20, z>20]))\n",
    "test_array = [x>20, y>20, z>20]\n",
    "print (test_array)\n",
    "print (any(test_array))\n",
    "print (all(test_array))"
   ]
  }
 ],
 "metadata": {
  "kernelspec": {
   "display_name": "Python 3",
   "language": "python",
   "name": "python3"
  },
  "language_info": {
   "codemirror_mode": {
    "name": "ipython",
    "version": 3
   },
   "file_extension": ".py",
   "mimetype": "text/x-python",
   "name": "python",
   "nbconvert_exporter": "python",
   "pygments_lexer": "ipython3",
   "version": "3.6.4"
  }
 },
 "nbformat": 4,
 "nbformat_minor": 2
}
