{
 "cells": [
  {
   "cell_type": "markdown",
   "metadata": {},
   "source": [
    "## Continuing a statement across multiple lines\n",
    "\n",
    "Some Python editors will 'soft wrap' long lines - that is that they will split a line of code according to the window size. Not all editors do this however and a beeter practice is to split long lines into multiple lines of code. Depending on custom the line may be split when it exceeds 80, 100 or 120 characters (and many editors will allow a guide to be shown at any desired length.\n",
    "\n",
    "There are two ways of continuing code on two lines. The first, usually preferred, method is to encase the code in curved brackets. The second method is put a back-slash outside of quotes."
   ]
  },
  {
   "cell_type": "code",
   "execution_count": 6,
   "metadata": {},
   "outputs": [
    {
     "name": "stdout",
     "output_type": "stream",
     "text": [
      "3600\n",
      "3600\n"
     ]
    }
   ],
   "source": [
    "# This method of continuation across multiple lines is usually preferred\n",
    "x = (100 + 200 +300 + 400 +\n",
    "    500 + 600 + 700 + 800)\n",
    "print (x)\n",
    "\n",
    "# This is an alterantive method\n",
    "x = 100 + 200 + 300 + 400 + \\\n",
    "500 + 600 + 700 + 800\n",
    "print (x)"
   ]
  },
  {
   "cell_type": "code",
   "execution_count": null,
   "metadata": {},
   "outputs": [],
   "source": []
  }
 ],
 "metadata": {
  "kernelspec": {
   "display_name": "Python 3",
   "language": "python",
   "name": "python3"
  },
  "language_info": {
   "codemirror_mode": {
    "name": "ipython",
    "version": 3
   },
   "file_extension": ".py",
   "mimetype": "text/x-python",
   "name": "python",
   "nbconvert_exporter": "python",
   "pygments_lexer": "ipython3",
   "version": "3.6.4"
  }
 },
 "nbformat": 4,
 "nbformat_minor": 2
}
