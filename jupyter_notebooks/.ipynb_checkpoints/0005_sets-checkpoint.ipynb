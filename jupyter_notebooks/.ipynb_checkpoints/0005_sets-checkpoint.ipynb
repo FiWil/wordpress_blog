{
 "cells": [
  {
   "cell_type": "markdown",
   "metadata": {},
   "source": [
    "# Sets\n",
    "\n",
    "Sets are unordered collections of unique values. Common uses include membership testing, finding overlaps and differences between sets, and removing duplicates from a sequence. \n",
    "\n",
    "Sets, like dictionaries, are defined using curly brackets{}."
   ]
  },
  {
   "cell_type": "markdown",
   "metadata": {},
   "source": [
    "## Creating sets\n",
    "\n",
    "Creating a set directly:"
   ]
  },
  {
   "cell_type": "code",
   "execution_count": 11,
   "metadata": {},
   "outputs": [
    {
     "name": "stdout",
     "output_type": "stream",
     "text": [
      "{'a', 'i', 'u', 'o', 'e'}\n"
     ]
    }
   ],
   "source": [
    "my_set = {'a','e','i','o','u'}\n",
    "print (my_set)"
   ]
  },
  {
   "cell_type": "markdown",
   "metadata": {},
   "source": [
    "Creating a set from a list:"
   ]
  },
  {
   "cell_type": "code",
   "execution_count": 12,
   "metadata": {},
   "outputs": [
    {
     "name": "stdout",
     "output_type": "stream",
     "text": [
      "{'a', 'i', 'u', 'o', 'e'}\n"
     ]
    }
   ],
   "source": [
    "my_list = ['a','e','i','o','u']\n",
    "my_set = set(my_list)\n",
    "print (my_set)"
   ]
  },
  {
   "cell_type": "markdown",
   "metadata": {},
   "source": [
    "Creating an empty set. This cannot be done simply with {}"
   ]
  },
  {
   "cell_type": "raw",
   "metadata": {},
   "source": [
    "my_set = set()\n",
    "print (my_set)"
   ]
  },
  {
   "cell_type": "markdown",
   "metadata": {},
   "source": [
    "## Adding to a set and removing duplicates"
   ]
  },
  {
   "cell_type": "markdown",
   "metadata": {},
   "source": [
    "Adding one element to a set:"
   ]
  },
  {
   "cell_type": "code",
   "execution_count": 13,
   "metadata": {},
   "outputs": [
    {
     "name": "stdout",
     "output_type": "stream",
     "text": [
      "{'a', 'y', 'i', 'u', 'o', 'e'}\n"
     ]
    }
   ],
   "source": [
    "my_set.add('y')\n",
    "print (my_set)"
   ]
  },
  {
   "cell_type": "markdown",
   "metadata": {},
   "source": [
    "Adding multiple elements to a set (note that the set has no duplication of entries already present; sets automatically remove duplicate items):"
   ]
  },
  {
   "cell_type": "code",
   "execution_count": 14,
   "metadata": {},
   "outputs": [
    {
     "name": "stdout",
     "output_type": "stream",
     "text": [
      "{'a', 'x', 'y', 'i', 'u', 'z', 'o', 'e'}\n"
     ]
    }
   ],
   "source": [
    "my_set.update(['x','z','a','x'])\n",
    "print (my_set)"
   ]
  },
  {
   "cell_type": "markdown",
   "metadata": {},
   "source": [
    "## Analysing the intersection between sets\n",
    "\n",
    "Sets may be used to explore the intersection betwen sets. There are usually two orms of syntax which may be used, both of which are given in the examples below."
   ]
  },
  {
   "cell_type": "code",
   "execution_count": 15,
   "metadata": {},
   "outputs": [],
   "source": [
    "set1 = {'a','b','c','d','e','f'}\n",
    "set2 = {'a','e','i','o','u'}"
   ]
  },
  {
   "cell_type": "markdown",
   "metadata": {},
   "source": [
    "The difference between two sets:"
   ]
  },
  {
   "cell_type": "code",
   "execution_count": 16,
   "metadata": {},
   "outputs": [
    {
     "name": "stdout",
     "output_type": "stream",
     "text": [
      "difference\n",
      "{'c', 'f', 'b', 'd'}\n",
      "{'c', 'f', 'b', 'd'}\n"
     ]
    }
   ],
   "source": [
    "print ('difference')\n",
    "print (set1.difference(set2))\n",
    "print (set1 - set2)"
   ]
  },
  {
   "cell_type": "markdown",
   "metadata": {},
   "source": [
    "The intersection between two sets:"
   ]
  },
  {
   "cell_type": "code",
   "execution_count": 17,
   "metadata": {},
   "outputs": [
    {
     "name": "stdout",
     "output_type": "stream",
     "text": [
      "Intersection\n",
      "{'a', 'e'}\n",
      "{'a', 'e'}\n"
     ]
    }
   ],
   "source": [
    "print ('Intersection')\n",
    "print (set1.intersection(set2))\n",
    "print (set1 & set2)"
   ]
  },
  {
   "cell_type": "markdown",
   "metadata": {},
   "source": [
    "Is a subset? Is set 2 wholly included in set 1?"
   ]
  },
  {
   "cell_type": "code",
   "execution_count": 18,
   "metadata": {},
   "outputs": [
    {
     "name": "stdout",
     "output_type": "stream",
     "text": [
      "Is subset?\n",
      "False\n",
      "False\n"
     ]
    }
   ],
   "source": [
    "print ('Is subset?')\n",
    "print (set1.issubset(set2))\n",
    "print (set1 <= set2)"
   ]
  },
  {
   "cell_type": "markdown",
   "metadata": {},
   "source": [
    "Is a superset? Does set 1 wholly include set 2?"
   ]
  },
  {
   "cell_type": "code",
   "execution_count": 19,
   "metadata": {},
   "outputs": [
    {
     "name": "stdout",
     "output_type": "stream",
     "text": [
      "Is superset?\n",
      "False\n",
      "False\n"
     ]
    }
   ],
   "source": [
    "print ('Is superset?')\n",
    "print (set1.issuperset(set2))\n",
    "print (set1 >= set2)"
   ]
  },
  {
   "cell_type": "markdown",
   "metadata": {},
   "source": [
    "The union between two sets:"
   ]
  },
  {
   "cell_type": "code",
   "execution_count": 20,
   "metadata": {},
   "outputs": [
    {
     "name": "stdout",
     "output_type": "stream",
     "text": [
      "Union\n",
      "{'b', 'o', 'a', 'f', 'c', 'i', 'u', 'd', 'e'}\n",
      "{'b', 'o', 'a', 'f', 'c', 'i', 'u', 'd', 'e'}\n"
     ]
    }
   ],
   "source": [
    "print ('Union')\n",
    "print (set1.union(set2))\n",
    "print (set1 | set2)"
   ]
  },
  {
   "cell_type": "markdown",
   "metadata": {},
   "source": [
    "Symmetric difference: in either but not both (equivalent to xor)"
   ]
  },
  {
   "cell_type": "code",
   "execution_count": 21,
   "metadata": {},
   "outputs": [
    {
     "name": "stdout",
     "output_type": "stream",
     "text": [
      "Symmetric difference\n",
      "{'c', 'i', 'b', 'u', 'f', 'o', 'd'}\n",
      "{'c', 'i', 'b', 'u', 'f', 'o', 'd'}\n"
     ]
    }
   ],
   "source": [
    "print ('Symmetric difference')\n",
    "print (set1.symmetric_difference(set2))\n",
    "print (set1 ^ set2)"
   ]
  },
  {
   "cell_type": "code",
   "execution_count": null,
   "metadata": {},
   "outputs": [],
   "source": []
  }
 ],
 "metadata": {
  "kernelspec": {
   "display_name": "Python 3",
   "language": "python",
   "name": "python3"
  },
  "language_info": {
   "codemirror_mode": {
    "name": "ipython",
    "version": 3
   },
   "file_extension": ".py",
   "mimetype": "text/x-python",
   "name": "python",
   "nbconvert_exporter": "python",
   "pygments_lexer": "ipython3",
   "version": "3.6.4"
  }
 },
 "nbformat": 4,
 "nbformat_minor": 2
}
