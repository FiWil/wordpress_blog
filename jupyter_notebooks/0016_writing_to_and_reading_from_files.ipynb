{
 "cells": [
  {
   "cell_type": "markdown",
   "metadata": {},
   "source": [
    "# Writing to and reading from files\n",
    "For data analytics we will usually be using two libraries called NumPy and Pandas which have their own simple methods for importing data, but here is the standard Python method. This standard method may sometimes have an advantage that data may be written and read one line at a time without having all data held in memory. This may be useful for very large data files."
   ]
  },
  {
   "cell_type": "markdown",
   "metadata": {},
   "source": [
    "## File access modes\n",
    "\n",
    "Files may be opened with different access control models\n",
    "\n",
    "Text file access modes:\n",
    "\n",
    "\"r\"     Read  (if file does not exist there will be an error)\n",
    "\n",
    "\"w\"    Write If the file exists contents are overwritten. If the file does not exist, it is created.\n",
    "\n",
    "\"a\"     Append - will add to file, or will create a file if no file exists\n",
    "\n",
    "\"r+\"  Read from and write to a file\n",
    "\n",
    "\"w+\"     Write to and read from a text file. If the file exists contents are overwritten. If the file does not exist, it is created.\n",
    "\n",
    "\"a+\"     Append and read from a text file. If the file exists, new data is appended to it. If the files doesn't exist, it's created."
   ]
  },
  {
   "cell_type": "markdown",
   "metadata": {},
   "source": [
    "## Creating a file with write\n",
    "\n",
    "This method where we open a file to save to with the 'w' argument will create a new file or overwrite an old one.\n",
    "\n",
    "In this standard way of using a file we begin by opening a file and end by closing the file:"
   ]
  },
  {
   "cell_type": "code",
   "execution_count": 17,
   "metadata": {},
   "outputs": [],
   "source": [
    "text_file = open('write_it.txt', 'w')\n",
    "text_file.write('Line 1\\n')\n",
    "text_file.write('This is line 2\\n')\n",
    "text_file.write('That makes this line 3\\n')\n",
    "text_file.close()"
   ]
  },
  {
   "cell_type": "markdown",
   "metadata": {},
   "source": [
    "An alternative to opne and closing the file is using the <em>with</em> statement:"
   ]
  },
  {
   "cell_type": "code",
   "execution_count": 18,
   "metadata": {},
   "outputs": [],
   "source": [
    "with open('write_it.txt', 'w') as text_file:\n",
    "    text_file.write('Line 1\\n')\n",
    "    text_file.write('This is line 2\\n')\n",
    "    text_file.write('That makes this line 3\\n')"
   ]
  },
  {
   "cell_type": "markdown",
   "metadata": {},
   "source": [
    "## Adding to a file\n",
    "Using the 'a' mode we will add to an existing file. We will use the <em>with</em> statement below, but the open/close method will work as well."
   ]
  },
  {
   "cell_type": "code",
   "execution_count": 19,
   "metadata": {},
   "outputs": [],
   "source": [
    "with open('write_it.txt', 'a') as text_file:\n",
    "    text_file.write('This is a fourth line\\n')"
   ]
  },
  {
   "cell_type": "markdown",
   "metadata": {},
   "source": [
    "## Writing multiple lines\n",
    "Multiple lines may be written using a loop with the <em>write<e/em>method, or may we can use the <em>writelines<method>:"
   ]
  },
  {
   "cell_type": "code",
   "execution_count": 20,
   "metadata": {},
   "outputs": [],
   "source": [
    "text_file = open('write_it.txt', 'w')\n",
    "lines = ['Line 1\\n',\n",
    "         'This is line 2\\n',\n",
    "         'That makes this line 3\\n']\n",
    "text_file.writelines(lines)\n",
    "text_file.close()"
   ]
  },
  {
   "cell_type": "markdown",
   "metadata": {},
   "source": [
    "## Reading a file\n",
    "We can read a file in one line at a time (useful for processing very large files which cannot be held in memory), or we can read in all lines.\n",
    "\n",
    "Here we read one line at a time:"
   ]
  },
  {
   "cell_type": "code",
   "execution_count": 21,
   "metadata": {},
   "outputs": [
    {
     "name": "stdout",
     "output_type": "stream",
     "text": [
      "Line 1\n",
      "\n",
      "This is line 2\n",
      "\n",
      "That makes this line 3\n",
      "\n"
     ]
    }
   ],
   "source": [
    "text_file = open('write_it.txt', 'r')\n",
    "print(text_file.readline())\n",
    "print(text_file.readline())\n",
    "print(text_file.readline())\n",
    "text_file.close()"
   ]
  },
  {
   "cell_type": "markdown",
   "metadata": {},
   "source": [
    "Or we can read the entire file in as a list:"
   ]
  },
  {
   "cell_type": "code",
   "execution_count": 22,
   "metadata": {},
   "outputs": [
    {
     "name": "stdout",
     "output_type": "stream",
     "text": [
      "['Line 1\\n', 'This is line 2\\n', 'That makes this line 3\\n']\n"
     ]
    }
   ],
   "source": [
    "text_file = open('write_it.txt', 'r')\n",
    "lines = text_file.readlines()\n",
    "text_file.close()\n",
    "print (lines)"
   ]
  },
  {
   "cell_type": "markdown",
   "metadata": {},
   "source": [
    "A text file may be stepped through as part of a loop:"
   ]
  },
  {
   "cell_type": "code",
   "execution_count": 23,
   "metadata": {},
   "outputs": [
    {
     "name": "stdout",
     "output_type": "stream",
     "text": [
      "Line 1\n",
      "\n",
      "This is line 2\n",
      "\n",
      "That makes this line 3\n",
      "\n"
     ]
    }
   ],
   "source": [
    "text_file = open('write_it.txt', 'r')\n",
    "for line in text_file:\n",
    "    print(line)\n",
    "text_file.close()"
   ]
  }
 ],
 "metadata": {
  "kernelspec": {
   "display_name": "Python 3",
   "language": "python",
   "name": "python3"
  },
  "language_info": {
   "codemirror_mode": {
    "name": "ipython",
    "version": 3
   },
   "file_extension": ".py",
   "mimetype": "text/x-python",
   "name": "python",
   "nbconvert_exporter": "python",
   "pygments_lexer": "ipython3",
   "version": "3.6.4"
  }
 },
 "nbformat": 4,
 "nbformat_minor": 2
}
