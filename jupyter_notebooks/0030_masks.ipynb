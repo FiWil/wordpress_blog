{
 "cells": [
  {
   "cell_type": "markdown",
   "metadata": {},
   "source": [
    "# Using masks to filter data, and perform search and replace, in NumPy and Pandas\n",
    "\n",
    "In both NumPy and Pandas we can create masks to filter data. Masks are 'Boolean' arrays - that is arrays of true and false values and provide a powerful and flexible method to selecting data.\n",
    "\n",
    "## NumPy\n",
    "\n",
    "### Creating a mask\n",
    "\n",
    "Let's begin by creating an array of 4 rows of 10 columns of uniform random number between 0 and 100."
   ]
  },
  {
   "cell_type": "code",
   "execution_count": 33,
   "metadata": {},
   "outputs": [
    {
     "name": "stdout",
     "output_type": "stream",
     "text": [
      "[[60 68 34 25 57 33 49  5 33 57]\n",
      " [47 52 78 89 64 75  8 98 93 74]\n",
      " [77 78 74 41 79 50 43 21 81 21]\n",
      " [11 78 39 18  5 67 69  1 50 14]]\n"
     ]
    }
   ],
   "source": [
    "import numpy as np\n",
    "\n",
    "array1 = np.random.randint(0,100,size=(4,10))\n",
    "\n",
    "print (array1)"
   ]
  },
  {
   "cell_type": "markdown",
   "metadata": {},
   "source": [
    "Now we'll create a mask to show those numbers greater than 70."
   ]
  },
  {
   "cell_type": "code",
   "execution_count": 34,
   "metadata": {},
   "outputs": [
    {
     "name": "stdout",
     "output_type": "stream",
     "text": [
      "[[False False False False False False False False False False]\n",
      " [False False  True  True False  True False  True  True  True]\n",
      " [ True  True  True False  True False False False  True False]\n",
      " [False  True False False False False False False False False]]\n"
     ]
    }
   ],
   "source": [
    "mask = array1 > 70\n",
    "\n",
    "print(mask)"
   ]
  },
  {
   "cell_type": "markdown",
   "metadata": {},
   "source": [
    "We can use that mask to extract the numbers:"
   ]
  },
  {
   "cell_type": "code",
   "execution_count": 35,
   "metadata": {},
   "outputs": [
    {
     "name": "stdout",
     "output_type": "stream",
     "text": [
      "[78 89 75 98 93 74 77 78 74 79 81 78]\n"
     ]
    }
   ],
   "source": [
    "print (array1[mask])"
   ]
  },
  {
   "cell_type": "markdown",
   "metadata": {},
   "source": [
    "### Using <em>any</em> and <em>all</em>\n",
    "\n",
    "<em>any</em> and <em>all</em> allow us to check for all true or all false.\n",
    "\n",
    "We can apply that to the whole array:"
   ]
  },
  {
   "cell_type": "code",
   "execution_count": 36,
   "metadata": {},
   "outputs": [
    {
     "name": "stdout",
     "output_type": "stream",
     "text": [
      "True\n",
      "False\n"
     ]
    }
   ],
   "source": [
    "print (mask.any())\n",
    "print (mask.all())"
   ]
  },
  {
   "cell_type": "markdown",
   "metadata": {},
   "source": [
    "Or we can apply it column-wise (by passing <em>axis=1</em>) or row-wise (by passing <em>axis=1</em>)"
   ]
  },
  {
   "cell_type": "code",
   "execution_count": 37,
   "metadata": {},
   "outputs": [
    {
     "name": "stdout",
     "output_type": "stream",
     "text": [
      "All tests in a column are true:\n",
      "[False False False False False False False False False False]\n",
      "\n",
      "Any test in a row is true:\n",
      "[False  True  True  True]\n"
     ]
    }
   ],
   "source": [
    "print ('All tests in a column are true:')\n",
    "print (mask.all(axis=0))\n",
    "print ('\\nAny test in a row is true:')\n",
    "print (mask.any(axis=1))"
   ]
  },
  {
   "cell_type": "markdown",
   "metadata": {},
   "source": [
    "We can use != to invert a mask if needed (all trues become false, and all falses become true). This can be useful, but can also become a little confusing!"
   ]
  },
  {
   "cell_type": "code",
   "execution_count": 38,
   "metadata": {},
   "outputs": [
    {
     "name": "stdout",
     "output_type": "stream",
     "text": [
      "[[ True  True  True  True  True  True  True  True  True  True]\n",
      " [ True  True False False  True False  True False False False]\n",
      " [False False False  True False  True  True  True False  True]\n",
      " [ True False  True  True  True  True  True  True  True  True]]\n"
     ]
    }
   ],
   "source": [
    "inverted_mask = mask!=True\n",
    "print (inverted_mask)"
   ]
  },
  {
   "cell_type": "markdown",
   "metadata": {},
   "source": [
    "### Adding or averaging trues\n",
    "\n",
    "Boolean values (True/False) in Python also take the values 1 and 0. This can be useful for counting trues/false, for example:"
   ]
  },
  {
   "cell_type": "code",
   "execution_count": 39,
   "metadata": {},
   "outputs": [
    {
     "name": "stdout",
     "output_type": "stream",
     "text": [
      "Number of trues in array:\n",
      "12\n"
     ]
    }
   ],
   "source": [
    "print ('Number of trues in array:')\n",
    "print (mask.sum())"
   ]
  },
  {
   "cell_type": "code",
   "execution_count": 40,
   "metadata": {},
   "outputs": [
    {
     "name": "stdout",
     "output_type": "stream",
     "text": [
      "Number of trues in array by row:\n",
      "[0 6 5 1]\n"
     ]
    }
   ],
   "source": [
    "print('Number of trues in array by row:')\n",
    "print (mask.sum(axis=1))"
   ]
  },
  {
   "cell_type": "code",
   "execution_count": 41,
   "metadata": {},
   "outputs": [
    {
     "name": "stdout",
     "output_type": "stream",
     "text": [
      "Average of trues in array by column:\n",
      "[0.25 0.5  0.5  0.25 0.25 0.25 0.   0.25 0.5  0.25]\n"
     ]
    }
   ],
   "source": [
    "print('Average of trues in array by column:')\n",
    "print (mask.mean(axis=0))"
   ]
  },
  {
   "cell_type": "markdown",
   "metadata": {},
   "source": [
    "### Selecting rows or columns based on one value in that row or column"
   ]
  },
  {
   "cell_type": "markdown",
   "metadata": {},
   "source": [
    "Let's select all columns where the value of the first element is equal to, or greater than 50:"
   ]
  },
  {
   "cell_type": "code",
   "execution_count": 42,
   "metadata": {},
   "outputs": [
    {
     "name": "stdout",
     "output_type": "stream",
     "text": [
      "\n",
      "Here is the mask\n",
      "[ True  True False False  True False False False False  True]\n",
      "\n",
      "And here is the mask applied to all columns\n",
      "[[60 68 57 57]\n",
      " [47 52 64 74]\n",
      " [77 78 79 21]\n",
      " [11 78  5 14]]\n"
     ]
    }
   ],
   "source": [
    "mask = array1[0,:] >= 50 # colon indicates all columns, zero indicates row 0\n",
    "print ('\\nHere is the mask')\n",
    "print (mask)\n",
    "print ('\\nAnd here is the mask applied to all columns')\n",
    "print (array1[:,mask]) # colon represents all rows of chosen columns"
   ]
  },
  {
   "cell_type": "markdown",
   "metadata": {},
   "source": [
    "Similarly if we wanted to select all rows where the 2nd element was equal to, or greater, than 50"
   ]
  },
  {
   "cell_type": "code",
   "execution_count": 43,
   "metadata": {},
   "outputs": [
    {
     "name": "stdout",
     "output_type": "stream",
     "text": [
      "\n",
      "Here is the mask\n",
      "[ True  True  True  True]\n",
      "\n",
      "And here is the mask applied to all rows\n",
      "[[60 68 34 25 57 33 49  5 33 57]\n",
      " [47 52 78 89 64 75  8 98 93 74]\n",
      " [77 78 74 41 79 50 43 21 81 21]\n",
      " [11 78 39 18  5 67 69  1 50 14]]\n"
     ]
    }
   ],
   "source": [
    "mask = array1[:,1] >= 50 # colon indicates all roes, 1 indicates row 1 (the second row, as the first is row 0)\n",
    "print ('\\nHere is the mask')\n",
    "print (mask)\n",
    "print ('\\nAnd here is the mask applied to all rows')\n",
    "print (array1[mask,:]) # colon represents all rows of chosen columns"
   ]
  },
  {
   "cell_type": "markdown",
   "metadata": {},
   "source": [
    "### Using <em>and</em> and <em>or</em>, and combining filters from two arrays"
   ]
  },
  {
   "cell_type": "markdown",
   "metadata": {},
   "source": [
    "We may create and combine multiple masks. For example we may have two masks that look for values less than 20 or greater than 80, and then combine those masks with or which is represented by | (stick)."
   ]
  },
  {
   "cell_type": "code",
   "execution_count": 44,
   "metadata": {},
   "outputs": [
    {
     "name": "stdout",
     "output_type": "stream",
     "text": [
      "Mask for values <20:\n",
      "[[False False False False False False False  True False False]\n",
      " [False False False False False False  True False False False]\n",
      " [False False False False False False False False False False]\n",
      " [ True False False  True  True False False  True False  True]]\n",
      "\n",
      "Mask for values >80:\n",
      "[[False False False False False False False False False False]\n",
      " [False False False  True False False False  True  True False]\n",
      " [False False False False False False False False  True False]\n",
      " [False False False False False False False False False False]]\n",
      "\n",
      "Combined mask:\n",
      "[[False False False False False False False  True False False]\n",
      " [False False False  True False False  True  True  True False]\n",
      " [False False False False False False False False  True False]\n",
      " [ True False False  True  True False False  True False  True]]\n",
      "\n",
      "Selected values using combined mask\n",
      "[ 5 89  8 98 93 81 11 18  5  1 14]\n"
     ]
    }
   ],
   "source": [
    "print ('Mask for values <20:')\n",
    "mask1 = array1 < 20\n",
    "print (mask1)\n",
    "\n",
    "print ('\\nMask for values >80:')\n",
    "mask2 = array1 > 80\n",
    "print (mask2)\n",
    "\n",
    "print ('\\nCombined mask:')\n",
    "mask = mask1  | mask2 # | (stick) is used for 'or' with two boolean arrays\n",
    "print (mask)\n",
    "\n",
    "print ('\\nSelected values using combined mask')\n",
    "print (array1[mask])"
   ]
  },
  {
   "cell_type": "markdown",
   "metadata": {},
   "source": [
    "We can combine these masks in a single line"
   ]
  },
  {
   "cell_type": "code",
   "execution_count": 45,
   "metadata": {},
   "outputs": [
    {
     "name": "stdout",
     "output_type": "stream",
     "text": [
      "[[False False False False False False False  True False False]\n",
      " [False False False  True False False  True  True  True False]\n",
      " [False False False False False False False False  True False]\n",
      " [ True False False  True  True False False  True False  True]]\n"
     ]
    }
   ],
   "source": [
    "mask = (array1 < 20) | (array1 > 80)\n",
    "print (mask)"
   ]
  },
  {
   "cell_type": "markdown",
   "metadata": {},
   "source": [
    "We can combine masks derived from different arrays, so long as they are the same shape. For example let's produce an another array of random numbers and check for those element positions where corresponding positions of both arrays have values of greater than 50. When comparing boolean arrays we represent 'and' with &."
   ]
  },
  {
   "cell_type": "code",
   "execution_count": 46,
   "metadata": {},
   "outputs": [
    {
     "name": "stdout",
     "output_type": "stream",
     "text": [
      "Mask for values of array1 > 50:\n",
      "[[ True  True False False  True False False False False  True]\n",
      " [False  True  True  True  True  True False  True  True  True]\n",
      " [ True  True  True False  True False False False  True False]\n",
      " [False  True False False False  True  True False False False]]\n",
      "\n",
      "Mask for values of array2 > 50:\n",
      "[[ True False  True False False  True  True False False  True]\n",
      " [ True False  True  True False  True  True  True False False]\n",
      " [False  True  True False  True False  True  True  True False]\n",
      " [ True False  True False False  True  True  True  True  True]]\n",
      "\n",
      "Combined mask:\n",
      "[[ True False False False False False False False False  True]\n",
      " [False False  True  True False  True False  True False False]\n",
      " [False  True  True False  True False False False  True False]\n",
      " [False False False False False  True  True False False False]]\n"
     ]
    }
   ],
   "source": [
    "array2 = np.random.randint(0,100,size=(4,10))\n",
    "\n",
    "print ('Mask for values of array1 > 50:')\n",
    "mask1 = array1 > 50\n",
    "print (mask1)\n",
    "\n",
    "print ('\\nMask for values of array2 > 50:')\n",
    "mask2 = array2 > 50\n",
    "print (mask2)\n",
    "\n",
    "print ('\\nCombined mask:')\n",
    "mask = mask1  & mask2 \n",
    "print (mask)"
   ]
  },
  {
   "cell_type": "markdown",
   "metadata": {},
   "source": [
    "We could shorten this to:"
   ]
  },
  {
   "cell_type": "code",
   "execution_count": 47,
   "metadata": {},
   "outputs": [
    {
     "name": "stdout",
     "output_type": "stream",
     "text": [
      "[[ True False False False False False False False False  True]\n",
      " [False False  True  True False  True False  True False False]\n",
      " [False  True  True False  True False False False  True False]\n",
      " [False False False False False  True  True False False False]]\n"
     ]
    }
   ],
   "source": [
    "mask = (array1 > 50) & (array2 > 50)\n",
    "print (mask)"
   ]
  },
  {
   "cell_type": "markdown",
   "metadata": {},
   "source": [
    "### Setting values based on mask\n",
    "\n",
    "We can use masks to reassign values only for elements that meet the given criteria. For example we can set the values of all cells with a value less than 50 to zero, and set all other values to 1."
   ]
  },
  {
   "cell_type": "code",
   "execution_count": 48,
   "metadata": {},
   "outputs": [
    {
     "name": "stdout",
     "output_type": "stream",
     "text": [
      "Array at sttart:\n",
      "[[60 68 34 25 57 33 49  5 33 57]\n",
      " [47 52 78 89 64 75  8 98 93 74]\n",
      " [77 78 74 41 79 50 43 21 81 21]\n",
      " [11 78 39 18  5 67 69  1 50 14]]\n",
      "\n",
      "New array\n",
      "[[1 1 0 0 1 0 0 0 0 1]\n",
      " [0 1 1 1 1 1 0 1 1 1]\n",
      " [1 1 1 0 1 1 0 0 1 0]\n",
      " [0 1 0 0 0 1 1 0 1 0]]\n"
     ]
    }
   ],
   "source": [
    "print ('Array at sttart:')\n",
    "print (array1)\n",
    "mask = array1 < 50\n",
    "array1[mask] = 0\n",
    "mask = mask != True # invert mask\n",
    "array1[mask] = 1\n",
    "print('\\nNew array')\n",
    "print (array1)"
   ]
  },
  {
   "cell_type": "markdown",
   "metadata": {},
   "source": [
    "We can shorten this, by making the mask implicit in the assignment command. "
   ]
  },
  {
   "cell_type": "code",
   "execution_count": 49,
   "metadata": {},
   "outputs": [
    {
     "name": "stdout",
     "output_type": "stream",
     "text": [
      "New array2:\n",
      "[[1 0 1 0 0 1 1 0 0 1]\n",
      " [1 0 1 1 0 1 1 1 0 0]\n",
      " [0 1 1 0 1 0 1 1 1 0]\n",
      " [1 0 1 0 0 1 1 1 1 1]]\n"
     ]
    }
   ],
   "source": [
    "array2[array2<50] = 0\n",
    "array2[array2>=50] = 1\n",
    "\n",
    "print('New array2:')\n",
    "print(array2)"
   ]
  },
  {
   "cell_type": "markdown",
   "metadata": {},
   "source": [
    "### Miscellaneous examples\n",
    "\n",
    "Select columns where the average value across the column is greater than the average across the whole array, and return both the columns and the column number."
   ]
  },
  {
   "cell_type": "code",
   "execution_count": 50,
   "metadata": {},
   "outputs": [
    {
     "name": "stdout",
     "output_type": "stream",
     "text": [
      "Selected columns:\n",
      "[1 2 4 9]\n",
      "\n",
      "Seelcted data:\n",
      "[[56 48 97 78]\n",
      " [26 87  6 45]\n",
      " [56 65 71 59]\n",
      " [41 34 98 70]]\n"
     ]
    }
   ],
   "source": [
    "array = np.random.randint(0,100,size=(4,10))\n",
    "number_of_columns = array.shape[1]\n",
    "column_list = np.arange(0, number_of_columns) # create a list of column ids\n",
    "array_average = array.mean()\n",
    "column_average = array.mean(axis=0)\n",
    "column_average_greater_than_array_average = column_average > array_average\n",
    "selected_columns = column_list[column_average_greater_than_array_average]\n",
    "selected_data = array[:,column_average_greater_than_array_average]\n",
    "\n",
    "print ('Selected columns:')\n",
    "print (selected_columns)\n",
    "print ('\\nSeelcted data:')\n",
    "print (selected_data)"
   ]
  },
  {
   "cell_type": "code",
   "execution_count": null,
   "metadata": {},
   "outputs": [],
   "source": []
  },
  {
   "cell_type": "code",
   "execution_count": null,
   "metadata": {},
   "outputs": [],
   "source": []
  },
  {
   "cell_type": "markdown",
   "metadata": {},
   "source": [
    "## Pandas\n",
    "\n",
    "Filtering with masks in Pandas is very similar to numpy. It is perhaps more usual in Pandas to be creating masks testing specific columns, with resulting selection of rows. For example let's use a mask to select characters meeting conditions on majical power and aggression:"
   ]
  },
  {
   "cell_type": "code",
   "execution_count": 51,
   "metadata": {},
   "outputs": [
    {
     "name": "stdout",
     "output_type": "stream",
     "text": [
      "Mask:\n",
      "0    False\n",
      "1    False\n",
      "2     True\n",
      "3    False\n",
      "4     True\n",
      "dtype: bool\n",
      "   names    type  magic_power  aggression  stealth\n",
      "2  Frodo  Hobbit            4           2        5\n",
      "4  Bilbo  Hobbit            4           1        5\n"
     ]
    }
   ],
   "source": [
    "import pandas as pd\n",
    "\n",
    "df = pd.DataFrame()\n",
    "\n",
    "names = ['Gandolf','Gimli','Frodo','Legolas','Bilbo']\n",
    "types = ['Wizard','Dwarf','Hobbit','Elf','Hobbit']\n",
    "magic = [10, 1, 4, 6, 4]\n",
    "aggression = [7, 10, 2, 5, 1]\n",
    "stealth = [8, 2, 5, 10, 5]\n",
    "\n",
    "\n",
    "df['names'] = names\n",
    "df['type'] = types\n",
    "df['magic_power'] = magic\n",
    "df['aggression'] = aggression\n",
    "df['stealth'] = stealth\n",
    "\n",
    "mask = (df['magic_power'] > 3) & (df['aggression'] < 5)\n",
    "print ('Mask:')\n",
    "print (mask) # notice mask is a 'series'; a one dimensial DataFrame\n",
    "filtered_data = df[mask] # when passing a Boolean series to a dataframe we select the appropriate rows\n",
    "print (filtered_data)"
   ]
  },
  {
   "cell_type": "markdown",
   "metadata": {},
   "source": [
    "Though creating masks based on particular columns will be most common in Pandas. We can also filter on the entire dataframe. Look what happens when we filter on values > 3:"
   ]
  },
  {
   "cell_type": "code",
   "execution_count": 52,
   "metadata": {},
   "outputs": [
    {
     "name": "stdout",
     "output_type": "stream",
     "text": [
      "Mask:\n",
      "   names  type  magic_power  aggression  stealth\n",
      "0   True  True         True        True     True\n",
      "1   True  True        False        True    False\n",
      "2   True  True         True       False     True\n",
      "3   True  True         True        True     True\n",
      "4   True  True         True       False     True\n",
      "\n",
      "Masked data:\n",
      "     names    type  magic_power  aggression  stealth\n",
      "0  Gandolf  Wizard         10.0         7.0      8.0\n",
      "1    Gimli   Dwarf          NaN        10.0      NaN\n",
      "2    Frodo  Hobbit          4.0         NaN      5.0\n",
      "3  Legolas     Elf          6.0         5.0     10.0\n",
      "4    Bilbo  Hobbit          4.0         NaN      5.0\n"
     ]
    }
   ],
   "source": [
    "mask = df > 3\n",
    "print('Mask:')\n",
    "print (mask)\n",
    "print ('\\nMasked data:')\n",
    "df2 = df[mask]\n",
    "print (df2)"
   ]
  },
  {
   "cell_type": "markdown",
   "metadata": {},
   "source": [
    "The structure of the dataframe is maintained, and all text is maintained. Those values not >3 have been removed (NaN represents 'Not a Number')."
   ]
  },
  {
   "cell_type": "markdown",
   "metadata": {},
   "source": [
    "### Conditional replacing of values in Pandas\n",
    "\n",
    "Replacing values in Pandas, based on the current value, is not as simple as in NumPy. For example, to replace all values in a given column, given a conditional test, we have to (1) take one column at a time, (2) extract the column values into an array, (3) make our replacement, and (4) replace the column values with our adjusted array.\n",
    "\n",
    "For example to replace all values less than 4 with zero (in our numeric columns):"
   ]
  },
  {
   "cell_type": "code",
   "execution_count": 53,
   "metadata": {},
   "outputs": [
    {
     "name": "stdout",
     "output_type": "stream",
     "text": [
      "     names    type  magic_power  aggression  stealth\n",
      "0  Gandolf  Wizard           10           7        8\n",
      "1    Gimli   Dwarf            0          10        0\n",
      "2    Frodo  Hobbit            4           0        5\n",
      "3  Legolas     Elf            6           5       10\n",
      "4    Bilbo  Hobbit            4           0        5\n"
     ]
    }
   ],
   "source": [
    "columns = ['magic_power','aggression','stealth'] # to get a list of all columns you can use list(df)\n",
    "\n",
    "for column in columns: # loop through our column list\n",
    "    values = df[column].values # extract the column values into an array\n",
    "    mask = values < 4 # create Boolean mask \n",
    "    values [mask] = 0 # apply Boolean mask\n",
    "    df[column] = values # replace the dataframe column with the array\n",
    "    \n",
    "print (df)"
   ]
  },
  {
   "cell_type": "code",
   "execution_count": null,
   "metadata": {},
   "outputs": [],
   "source": []
  }
 ],
 "metadata": {
  "kernelspec": {
   "display_name": "Python 3",
   "language": "python",
   "name": "python3"
  },
  "language_info": {
   "codemirror_mode": {
    "name": "ipython",
    "version": 3
   },
   "file_extension": ".py",
   "mimetype": "text/x-python",
   "name": "python",
   "nbconvert_exporter": "python",
   "pygments_lexer": "ipython3",
   "version": "3.6.4"
  }
 },
 "nbformat": 4,
 "nbformat_minor": 2
}
