{
 "cells": [
  {
   "cell_type": "markdown",
   "metadata": {},
   "source": [
    "# Accessing date and time, and timing code\n",
    "\n",
    "It may sometimes be useful to access the current date and/or time. As an example, when writing code it may be useful to access the time at particular stages to monitor how long different parts of code are taking.\n",
    "\n",
    "To access date and time we will use the <em>datetime</em> module (which is held in a package that is also, a little confusingly called <em>datetime</em>!):"
   ]
  },
  {
   "cell_type": "code",
   "execution_count": 76,
   "metadata": {},
   "outputs": [],
   "source": [
    "from datetime import datetime"
   ]
  },
  {
   "cell_type": "markdown",
   "metadata": {},
   "source": [
    "To access the current date and time we can use the <em>now</em> method:"
   ]
  },
  {
   "cell_type": "code",
   "execution_count": 77,
   "metadata": {},
   "outputs": [
    {
     "name": "stdout",
     "output_type": "stream",
     "text": [
      "2018-03-28 08:54:13.623198\n"
     ]
    }
   ],
   "source": [
    "print (datetime.now())"
   ]
  },
  {
   "cell_type": "markdown",
   "metadata": {},
   "source": [
    "You might not have expected to get the time to the nearest microsecond! But that may be useful at times when timing short bits of code (which may have to run many times).\n",
    "\n",
    "But we can access the date and time in different ways:"
   ]
  },
  {
   "cell_type": "code",
   "execution_count": 78,
   "metadata": {},
   "outputs": [
    {
     "name": "stdout",
     "output_type": "stream",
     "text": [
      "Date: 2018-03-28\n",
      "Year: 2018\n",
      "Month: 3\n",
      "Day: 28\n",
      "Time: 08:54:13.636654\n",
      "Hour: 8\n",
      "Minute: 54\n",
      "Second: 13\n"
     ]
    }
   ],
   "source": [
    "current_datetime = datetime.now()\n",
    "print ('Date:', current_datetime.date()) # note the () after date\n",
    "print ('Year:', current_datetime.year)\n",
    "print ('Month:', current_datetime.month)\n",
    "print ('Day:', current_datetime.day)\n",
    "print ('Time:', current_datetime.time()) # note the () after time\n",
    "print ('Hour:', current_datetime.hour)\n",
    "print ('Minute:', current_datetime.minute)\n",
    "print ('Second:', current_datetime.second)"
   ]
  },
  {
   "cell_type": "markdown",
   "metadata": {},
   "source": [
    "Having microseconds in the time may look a little clumsy. So let's format the date and using the <em>strftime</em> method."
   ]
  },
  {
   "cell_type": "code",
   "execution_count": 79,
   "metadata": {},
   "outputs": [
    {
     "name": "stdout",
     "output_type": "stream",
     "text": [
      "2018-03-28\n",
      "08:54:13\n"
     ]
    }
   ],
   "source": [
    "now = datetime.now()\n",
    "print (now.strftime('%Y-%m-%d'))\n",
    "print (now.strftime('%H:%M:%S'))"
   ]
  },
  {
   "cell_type": "markdown",
   "metadata": {},
   "source": [
    "## Timing code\n",
    "\n",
    "We can use datetime to record the time before and after some code to caclulate the time taken, but it is a little simpler to use the <em>time</em> module which keeps all time in seconds (from January 1st 1970) and gives even more accuracy to the time:"
   ]
  },
  {
   "cell_type": "code",
   "execution_count": 81,
   "metadata": {},
   "outputs": [
    {
     "name": "stdout",
     "output_type": "stream",
     "text": [
      "Time taken: 0.040616750717163086\n"
     ]
    }
   ],
   "source": [
    "import time\n",
    "time_start = time.time()\n",
    "for i in range(100000):\n",
    "    x = i ** 2\n",
    "time_end = time.time()\n",
    "time_taken = time_end - time_start\n",
    "print ('Time taken:', time_taken)"
   ]
  }
 ],
 "metadata": {
  "kernelspec": {
   "display_name": "Python 3",
   "language": "python",
   "name": "python3"
  },
  "language_info": {
   "codemirror_mode": {
    "name": "ipython",
    "version": 3
   },
   "file_extension": ".py",
   "mimetype": "text/x-python",
   "name": "python",
   "nbconvert_exporter": "python",
   "pygments_lexer": "ipython3",
   "version": "3.6.4"
  }
 },
 "nbformat": 4,
 "nbformat_minor": 2
}
