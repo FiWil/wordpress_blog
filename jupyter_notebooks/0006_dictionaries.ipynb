{
 "cells": [
  {
   "cell_type": "markdown",
   "metadata": {},
   "source": [
    "# Dictionaries\n",
    "\n",
    "Dictionaries store objects such as text or numbers (or other Python objects). We saw that lists stored elements in sequence, and that each element can be referred to by an index number, which is the position of that element in a list. The contents of dictionaries are accessed by a unique <em>key</em> which may be a number or may be text.\n",
    "\n",
    "Dictionaries take the form of {key1:value1, key2:value2}\n",
    "\n",
    "The <em>value</em> may be a single number or word, or may be another Python object such as a list or a tuple.\n",
    "\n",
    "Dictionaries allow fast random-access to data."
   ]
  },
  {
   "cell_type": "markdown",
   "metadata": {},
   "source": [
    "## Creating and adding to dictionaries\n",
    "\n",
    "Dictionaries may be created with content, and are referred to by their <em>key</em>:"
   ]
  },
  {
   "cell_type": "code",
   "execution_count": 61,
   "metadata": {},
   "outputs": [
    {
     "name": "stdout",
     "output_type": "stream",
     "text": [
      "2\n"
     ]
    }
   ],
   "source": [
    "fellowship = {'Man': 2, 'Hobbit':4, 'Wizard':1, 'Elf':1, 'Dwarf':1}\n",
    "print (fellowship['Man'])"
   ]
  },
  {
   "cell_type": "markdown",
   "metadata": {},
   "source": [
    "Dictionaries may also be created empty. New contened my be added to an an empty or an existing dictionary."
   ]
  },
  {
   "cell_type": "code",
   "execution_count": 62,
   "metadata": {},
   "outputs": [
    {
     "name": "stdout",
     "output_type": "stream",
     "text": [
      "The Two Towwwwers\n"
     ]
    }
   ],
   "source": [
    "trilogy = {}\n",
    "trilogy['Part 1'] = 'The fellowshipp of the rring'\n",
    "trilogy['Part 2'] = 'The Two Towwwwers'\n",
    "trilogy['Part 3'] = 'The return of the kingg'\n",
    "print (trilogy['Part 2'])"
   ]
  },
  {
   "cell_type": "markdown",
   "metadata": {},
   "source": [
    "Dictionaries may contain a mixture of data types."
   ]
  },
  {
   "cell_type": "code",
   "execution_count": 63,
   "metadata": {},
   "outputs": [
    {
     "name": "stdout",
     "output_type": "stream",
     "text": [
      "['Frodo', 'Sam', 'Gandalf']\n"
     ]
    }
   ],
   "source": [
    "lord_of_the_rings = {'books':3,\n",
    "                     'author':'JRR Tolkien',\n",
    "                     'main_characters':['Frodo','Sam','Gandalf']}\n",
    "print (lord_of_the_rings['main_characters'])"
   ]
  },
  {
   "cell_type": "markdown",
   "metadata": {},
   "source": [
    "## Changing a dictionary entry\n",
    "\n",
    "Dictionary elements are over-written if a key already exists."
   ]
  },
  {
   "cell_type": "code",
   "execution_count": 64,
   "metadata": {},
   "outputs": [
    {
     "name": "stdout",
     "output_type": "stream",
     "text": [
      "The Two Towers\n"
     ]
    }
   ],
   "source": [
    "trilogy['Part 2'] = 'The Two Towers'\n",
    "print (trilogy['Part 2'])"
   ]
  },
  {
   "cell_type": "markdown",
   "metadata": {},
   "source": [
    "Dictionary items may also be updated using another dictionary:"
   ]
  },
  {
   "cell_type": "code",
   "execution_count": 65,
   "metadata": {},
   "outputs": [
    {
     "name": "stdout",
     "output_type": "stream",
     "text": [
      "{'Part 1': 'The Fellowship of the Ring', 'Part 2': 'The Two Towers', 'Part 3': 'The Return of the King'}\n"
     ]
    }
   ],
   "source": [
    "entry_update = {'Part 1':'The Fellowship of the Ring',\n",
    "                'Part 3':'The Return of the King'}\n",
    "trilogy.update(entry_update)\n",
    "print (trilogy)"
   ]
  },
  {
   "cell_type": "markdown",
   "metadata": {},
   "source": [
    "## Deleting a dictionary entry\n",
    "\n",
    "Dictionary entries may be deleted, by reference to their key, with the <em>del</em> command. If the key does not exist an error will be caused, so in the example below we check that the entry exists before trying to delete it."
   ]
  },
  {
   "cell_type": "code",
   "execution_count": 66,
   "metadata": {},
   "outputs": [
    {
     "name": "stdout",
     "output_type": "stream",
     "text": [
      "{'Part 1': 'The Fellowship of the Ring', 'Part 3': 'The Return of the King'}\n"
     ]
    }
   ],
   "source": [
    "entry_to_delete = 'Part 2'\n",
    "if entry_to_delete in trilogy:\n",
    "    del trilogy[entry_to_delete]\n",
    "    print (trilogy)\n",
    "else:\n",
    "    print('That key does not exist')"
   ]
  },
  {
   "cell_type": "markdown",
   "metadata": {},
   "source": [
    "## Iterating through a dictionary\n",
    "\n",
    "There are two main methods to iterate through a dictionary. The first retrieves just the key, and the value may then be retrieved from that key. The second method retrieves the key and value together. "
   ]
  },
  {
   "cell_type": "code",
   "execution_count": 72,
   "metadata": {},
   "outputs": [
    {
     "name": "stdout",
     "output_type": "stream",
     "text": [
      "books - 3\n",
      "author - JRR Tolkien\n",
      "main_characters - ['Frodo', 'Sam', 'Gandalf']\n",
      "\n",
      "books - 3\n",
      "author - JRR Tolkien\n",
      "main_characters - ['Frodo', 'Sam', 'Gandalf']\n"
     ]
    }
   ],
   "source": [
    "lord_of_the_rings = {'books':3,\n",
    "                     'author':'JRR Tolkien',\n",
    "                     'main_characters':['Frodo','Sam','Gandalf']}\n",
    "\n",
    "# Iterating method 1\n",
    "for key in lord_of_the_rings:\n",
    "    print (key, '-', lord_of_the_rings[key])\n",
    "\n",
    "# Iteraring method 2\n",
    "print()\n",
    "for key, value in lord_of_the_rings.items():\n",
    "    print (key,'-', value)"
   ]
  },
  {
   "cell_type": "markdown",
   "metadata": {},
   "source": [
    "## Converting dictionaries to lists of keys and values\n",
    "\n",
    "Dictionary keys and values may be accessed separately. We can also return a list of tuples of keys and values with the <em>items</em> method."
   ]
  },
  {
   "cell_type": "code",
   "execution_count": 73,
   "metadata": {},
   "outputs": [
    {
     "name": "stdout",
     "output_type": "stream",
     "text": [
      "\n",
      "Keys:\n",
      "['books', 'author', 'main_characters']\n",
      "\n",
      "Values:\n",
      "[3, 'JRR Tolkien', ['Frodo', 'Sam', 'Gandalf']]\n",
      "\n",
      "Keys and Values:\n",
      "[('books', 3), ('author', 'JRR Tolkien'), ('main_characters', ['Frodo', 'Sam', 'Gandalf'])]\n"
     ]
    }
   ],
   "source": [
    "lord_of_the_rings = {'books':3,\n",
    "                     'author':'JRR Tolkien',\n",
    "                     'main_characters':['Frodo','Sam','Gandalf']}\n",
    "# print the keys:\n",
    "print ('\\nKeys:') # \\n creates empty line before text\n",
    "print (list(lord_of_the_rings.keys()))\n",
    "\n",
    "# print the values\n",
    "print ('\\nValues:')\n",
    "print (list(lord_of_the_rings.values()))\n",
    "\n",
    "# print keys and values\n",
    "print ('\\nKeys and Values:')\n",
    "print (list(lord_of_the_rings.items()))"
   ]
  },
  {
   "cell_type": "markdown",
   "metadata": {},
   "source": [
    "## Using the get method to return a null value if a key does not exist\n",
    "\n",
    "Using the usual method of referring to a dictionary elemnt, an error will be returned if the key used does not exist. An 'if key in dictionary' statement could be used to check the key exists. Or the get method will return a null value if the key does not exist. The get method allows for a default value to be returned if a key is not found."
   ]
  },
  {
   "cell_type": "code",
   "execution_count": 74,
   "metadata": {},
   "outputs": [
    {
     "name": "stdout",
     "output_type": "stream",
     "text": [
      "JRR Tolkien\n",
      "None\n",
      "3\n",
      "Key not found - sorry\n"
     ]
    }
   ],
   "source": [
    "print (lord_of_the_rings.get('author'))\n",
    "print (lord_of_the_rings.get('elves'))\n",
    "print (lord_of_the_rings.get('books','Key not found - sorry'))\n",
    "print (lord_of_the_rings.get('dwarfs','Key not found - sorry'))"
   ]
  },
  {
   "cell_type": "markdown",
   "metadata": {},
   "source": [
    "## Intersection between dictionaries\n",
    "\n",
    "Like sets the intersection between dictionaries may be evaluated. See the entry on sets for more intersection methods."
   ]
  },
  {
   "cell_type": "code",
   "execution_count": 70,
   "metadata": {},
   "outputs": [
    {
     "name": "stdout",
     "output_type": "stream",
     "text": [
      "Keys in common:  {'x', 'y'}\n",
      "Keys in a but not b: {'z', 'zz'}\n",
      "Keys and values in common: {('y', 2)}\n"
     ]
    }
   ],
   "source": [
    "a = {'x':1,'y':2,'z':3,'zz':2}\n",
    "b = {'x':10,'w':11,'y':2,'yy':2}\n",
    "# Show keys in common\n",
    "print('Keys in common: ',a.keys() & b.keys())\n",
    "# Show keys in a not in b\n",
    "print('Keys in a but not b:',a.keys()-b.keys()) # this subtract method works with sets {} but not lists []\n",
    "# Show keys+values in common (items() return key+value, so both need to be the same)\n",
    "print('Keys and values in common:',a.items() & b.items())\n"
   ]
  },
  {
   "cell_type": "markdown",
   "metadata": {},
   "source": [
    "## Other dictionary methods\n",
    "\n",
    "dictionary.clear() empties a dictionary\n",
    "\n",
    "dictionary.pop(key) will return an item and remove it from the dictionary\n"
   ]
  },
  {
   "cell_type": "markdown",
   "metadata": {},
   "source": [
    "## Ordered dictionaries\n",
    "\n",
    "Like sets, dictionaries do not usually keep the order of entries. If it is useful to keep the order of entry in a dictionary then the OrderDict object is useful. This needs an import statement before it is used (all import statements are usually kept together at the start of code)."
   ]
  },
  {
   "cell_type": "code",
   "execution_count": 71,
   "metadata": {},
   "outputs": [
    {
     "name": "stdout",
     "output_type": "stream",
     "text": [
      "Gandalf 1\n",
      "Bilbo 2\n",
      "Frodo 3\n",
      "Sam 4\n"
     ]
    }
   ],
   "source": [
    "from collections import OrderedDict\n",
    "d=OrderedDict()\n",
    "\n",
    "d['Gandalf']=1\n",
    "d['Bilbo']=2\n",
    "d['Frodo']=3\n",
    "d['Sam']=4\n",
    "\n",
    "for key in d:\n",
    "    print(key,d[key])"
   ]
  },
  {
   "cell_type": "code",
   "execution_count": null,
   "metadata": {},
   "outputs": [],
   "source": []
  }
 ],
 "metadata": {
  "kernelspec": {
   "display_name": "Python 3",
   "language": "python",
   "name": "python3"
  },
  "language_info": {
   "codemirror_mode": {
    "name": "ipython",
    "version": 3
   },
   "file_extension": ".py",
   "mimetype": "text/x-python",
   "name": "python",
   "nbconvert_exporter": "python",
   "pygments_lexer": "ipython3",
   "version": "3.6.4"
  }
 },
 "nbformat": 4,
 "nbformat_minor": 2
}
