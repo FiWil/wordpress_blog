{
 "cells": [
  {
   "cell_type": "markdown",
   "metadata": {},
   "source": [
    "# Multiple comparisons between groups\n",
    "\n",
    "If an ANOVA test has identified that not all groups belong to the same population, then methods may be used to identify which groups are significantly different to each other. \n",
    "\n",
    "Below are two commonly used methods: Tukey's and Holm-Bonferroni.\n",
    "\n",
    "These two methods assuming data that is approximately normally distributed.\n",
    "\n",
    "## Setting up the data, and running an ANOVA"
   ]
  },
  {
   "cell_type": "code",
   "execution_count": 24,
   "metadata": {},
   "outputs": [
    {
     "name": "stdout",
     "output_type": "stream",
     "text": [
      "P value:\n",
      "1.6462001201818463e-08\n"
     ]
    }
   ],
   "source": [
    "import numpy as np\n",
    "import scipy.stats as stats\n",
    "\n",
    "# Create four random groups of data with a mean difference of 1\n",
    "\n",
    "mu, sigma = 10, 3 # mean and standard deviation\n",
    "group1 = np.random.normal(mu, sigma, 50)\n",
    "\n",
    "mu, sigma = 11, 3 # mean and standard deviation\n",
    "group2 = np.random.normal(mu, sigma, 50)\n",
    "\n",
    "mu, sigma = 12, 3 # mean and standard deviation\n",
    "group3 = np.random.normal(mu, sigma, 50)\n",
    "\n",
    "mu, sigma = 13, 3 # mean and standard deviation\n",
    "group4 = np.random.normal(mu, sigma, 50)\n",
    "\n",
    "# Show the results for Anova\n",
    "\n",
    "F_statistic, pVal = stats.f_oneway(group1, group2, group3, group4)\n",
    "\n",
    "print ('P value:')\n",
    "print (pVal)"
   ]
  },
  {
   "cell_type": "markdown",
   "metadata": {},
   "source": [
    "For the multicomparison tests we will put the data into a dataframe. And then reshape it to a stacked dataframe"
   ]
  },
  {
   "cell_type": "code",
   "execution_count": 25,
   "metadata": {},
   "outputs": [
    {
     "name": "stdout",
     "output_type": "stream",
     "text": [
      "   id   treatment     result\n",
      "0   0  treatment1  12.980445\n",
      "1   0  treatment2   8.444603\n",
      "2   0  treatment3  10.713692\n",
      "3   0  treatment4  10.777762\n",
      "4   1  treatment1  14.350560\n",
      "5   1  treatment2   9.436072\n",
      "6   1  treatment3  12.715509\n",
      "7   1  treatment4  15.016419\n"
     ]
    }
   ],
   "source": [
    "# Put into dataframe\n",
    "\n",
    "df = pd.DataFrame()\n",
    "df['treatment1'] = group1\n",
    "df['treatment2'] = group2\n",
    "df['treatment3'] = group3\n",
    "df['treatment4'] = group4\n",
    "\n",
    "# Stack the data (and rename columns):\n",
    "\n",
    "stacked_data = df.stack().reset_index()\n",
    "stacked_data = stacked_data.rename(columns={'level_0': 'id',\n",
    "                                            'level_1': 'treatment',\n",
    "                                            0:'result'})\n",
    "# Show the first 8 rows:\n",
    "\n",
    "print (stacked_data.head(8))"
   ]
  },
  {
   "cell_type": "markdown",
   "metadata": {},
   "source": [
    "## Tukey's multi-comparison method\n",
    "\n",
    "See https://en.wikipedia.org/wiki/Tukey's_range_test\n",
    "\n",
    "This method tests at P<0.05 (correcting for the fact that multiple comparisons are being made which would normally increase the probability of a significant difference being identified). A results of 'reject = True' means that a significant difference has been observed."
   ]
  },
  {
   "cell_type": "code",
   "execution_count": 26,
   "metadata": {},
   "outputs": [
    {
     "name": "stdout",
     "output_type": "stream",
     "text": [
      " Multiple Comparison of Means - Tukey HSD,FWER=0.05 \n",
      "====================================================\n",
      "  group1     group2   meandiff  lower  upper  reject\n",
      "----------------------------------------------------\n",
      "treatment1 treatment2  1.5021  -0.0392 3.0435 False \n",
      "treatment1 treatment3   1.47   -0.0714 3.0113 False \n",
      "treatment1 treatment4  3.8572   2.3159 5.3985  True \n",
      "treatment2 treatment3 -0.0322  -1.5735 1.5091 False \n",
      "treatment2 treatment4  2.355    0.8137 3.8963  True \n",
      "treatment3 treatment4  2.3872   0.8459 3.9285  True \n",
      "----------------------------------------------------\n"
     ]
    }
   ],
   "source": [
    "from statsmodels.stats.multicomp import (pairwise_tukeyhsd,\n",
    "                                         MultiComparison)\n",
    "\n",
    "# Set up the data for comparison (creates a specialised object)\n",
    "MultiComp = MultiComparison(stacked_data['result'],\n",
    "                            stacked_data['treatment'])\n",
    "\n",
    "# Show all pair-wise comparisons:\n",
    "\n",
    "# Print the comparisons\n",
    "\n",
    "print(MultiComp.tukeyhsd().summary())"
   ]
  },
  {
   "cell_type": "markdown",
   "metadata": {},
   "source": [
    "## Holm-Bonferroni Method\n",
    "\n",
    "See: https://en.wikipedia.org/wiki/Holm%E2%80%93Bonferroni_method\n",
    "\n",
    "The Holm-Bonferroni method is an alterantive method."
   ]
  },
  {
   "cell_type": "code",
   "execution_count": 27,
   "metadata": {},
   "outputs": [
    {
     "name": "stdout",
     "output_type": "stream",
     "text": [
      "Test Multiple Comparison ttest_rel \n",
      "FWER=0.05 method=Holm\n",
      "alphacSidak=0.01, alphacBonf=0.008\n",
      "=====================================================\n",
      "  group1     group2     stat   pval  pval_corr reject\n",
      "-----------------------------------------------------\n",
      "treatment1 treatment2 -2.1234 0.0388   0.0776  False \n",
      "treatment1 treatment3 -2.4304 0.0188   0.0564  False \n",
      "treatment1 treatment4 -6.4443  0.0      0.0     True \n",
      "treatment2 treatment3  0.0457 0.9637   0.9637  False \n",
      "treatment2 treatment4 -3.7878 0.0004   0.0017   True \n",
      "treatment3 treatment4 -5.0246  0.0      0.0     True \n",
      "-----------------------------------------------------\n"
     ]
    }
   ],
   "source": [
    "comp = MultiComp.allpairtest(stats.ttest_rel, method='Holm')\n",
    "print (comp[0])"
   ]
  },
  {
   "cell_type": "code",
   "execution_count": null,
   "metadata": {},
   "outputs": [],
   "source": []
  }
 ],
 "metadata": {
  "kernelspec": {
   "display_name": "Python 3",
   "language": "python",
   "name": "python3"
  },
  "language_info": {
   "codemirror_mode": {
    "name": "ipython",
    "version": 3
   },
   "file_extension": ".py",
   "mimetype": "text/x-python",
   "name": "python",
   "nbconvert_exporter": "python",
   "pygments_lexer": "ipython3",
   "version": "3.6.4"
  }
 },
 "nbformat": 4,
 "nbformat_minor": 2
}
