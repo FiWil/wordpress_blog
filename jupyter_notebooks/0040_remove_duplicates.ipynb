{
 "cells": [
  {
   "cell_type": "markdown",
   "metadata": {},
   "source": [
    "# Removing duplicate data in NumPy and Pandas\n",
    "\n",
    "Both NumPy and Pandas offer easy ways of removing duplicate rows. Pandas offers a more powerful approach if you wish to remove rows that are partly duplicated.\n",
    "\n",
    "## Numpy\n",
    "\n",
    "With numpy we use np.unique() to remove duplicate rows or columns (use the argument axis=0 for unique rows or axis=1 for unique columns)."
   ]
  },
  {
   "cell_type": "code",
   "execution_count": 29,
   "metadata": {},
   "outputs": [
    {
     "name": "stdout",
     "output_type": "stream",
     "text": [
      "[[1 2 3 4]\n",
      " [3 3 3 3]\n",
      " [5 6 7 8]]\n"
     ]
    }
   ],
   "source": [
    "import numpy as np\n",
    "\n",
    "array = np.array([[1,2,3,4],\n",
    "                  [1,2,3,4],\n",
    "                  [5,6,7,8],\n",
    "                  [1,2,3,4],\n",
    "                  [3,3,3,3],\n",
    "                  [5,6,7,8]])\n",
    "\n",
    "unique = np.unique(array, axis=0)\n",
    "print (unique)"
   ]
  },
  {
   "cell_type": "markdown",
   "metadata": {},
   "source": [
    "We can return the index values of the kept rows with the argument return_index=True (the argument return_inverse=True would return the discarded rows):"
   ]
  },
  {
   "cell_type": "code",
   "execution_count": 30,
   "metadata": {},
   "outputs": [
    {
     "name": "stdout",
     "output_type": "stream",
     "text": [
      "Unique rows:\n",
      "[[1 2 3 4]\n",
      " [3 3 3 3]\n",
      " [5 6 7 8]]\n",
      "\n",
      "Index of kept rows:\n",
      "[0 4 2]\n"
     ]
    }
   ],
   "source": [
    "array = np.array([[1,2,3,4],\n",
    "                  [1,2,3,4],\n",
    "                  [5,6,7,8],\n",
    "                  [1,2,3,4],\n",
    "                  [3,3,3,3],\n",
    "                  [5,6,7,8]])\n",
    "\n",
    "unique, index = np.unique(array, axis=0, return_index=True)\n",
    "print ('Unique rows:')\n",
    "print (unique)\n",
    "print ('\\nIndex of kept rows:')\n",
    "print (index)"
   ]
  },
  {
   "cell_type": "markdown",
   "metadata": {},
   "source": [
    "We can also count the number of times a row is repeated with the argument return_counts=True:"
   ]
  },
  {
   "cell_type": "code",
   "execution_count": 31,
   "metadata": {},
   "outputs": [
    {
     "name": "stdout",
     "output_type": "stream",
     "text": [
      "Unique rows:\n",
      "[[1 2 3 4]\n",
      " [3 3 3 3]\n",
      " [5 6 7 8]]\n",
      "\n",
      "Index of kept rows:\n",
      "[0 4 2]\n",
      "\n",
      "Count of duplicate rows\n",
      "[3 1 2]\n"
     ]
    }
   ],
   "source": [
    "array = np.array([[1,2,3,4],\n",
    "                  [1,2,3,4],\n",
    "                  [5,6,7,8],\n",
    "                  [1,2,3,4],\n",
    "                  [3,3,3,3],\n",
    "                  [5,6,7,8]])\n",
    "\n",
    "unique, index, count = np.unique(array, axis=0, \n",
    "                          return_index=True,\n",
    "                          return_counts=True)\n",
    "\n",
    "print ('Unique rows:')\n",
    "print (unique)\n",
    "print ('\\nIndex of kept rows:')\n",
    "print (index)\n",
    "print ('\\nCount of duplicate rows')\n",
    "print (count)"
   ]
  },
  {
   "cell_type": "markdown",
   "metadata": {},
   "source": [
    "## Pandas\n",
    "\n",
    "With Pandas we use drop_duplicates."
   ]
  },
  {
   "cell_type": "code",
   "execution_count": 32,
   "metadata": {},
   "outputs": [],
   "source": [
    "import pandas as pd\n",
    "df = pd.DataFrame()\n",
    "\n",
    "names = ['Gandolf','Gimli','Frodo', 'Gimli', 'Gimli']\n",
    "types = ['Wizard','Dwarf','Hobbit', 'Dwarf', 'Dwarf']\n",
    "magic = [10, 1, 4, 1, 3]\n",
    "aggression = [7, 10, 2, 10, 2]\n",
    "stealth = [8, 2, 5, 2, 5]\n",
    "\n",
    "\n",
    "df['names'] = names\n",
    "df['type'] = types\n",
    "df['magic_power'] = magic\n",
    "df['aggression'] = aggression\n",
    "df['stealth'] = stealth"
   ]
  },
  {
   "cell_type": "markdown",
   "metadata": {},
   "source": [
    "Let's remove duplicated rows:"
   ]
  },
  {
   "cell_type": "code",
   "execution_count": 33,
   "metadata": {},
   "outputs": [
    {
     "name": "stdout",
     "output_type": "stream",
     "text": [
      "     names    type  magic_power  aggression  stealth\n",
      "0  Gandolf  Wizard           10           7        8\n",
      "1    Gimli   Dwarf            1          10        2\n",
      "2    Frodo  Hobbit            4           2        5\n",
      "4    Gimli   Dwarf            3           2        5\n"
     ]
    }
   ],
   "source": [
    "df_copy = df.copy() # we'll work on a copy of the dataframe\n",
    "df_copy.drop_duplicates(inplace=True)\n",
    "print (df_copy)"
   ]
  },
  {
   "cell_type": "markdown",
   "metadata": {},
   "source": [
    "We have removed fully duplicated rows. We use inplace=True to make changes to the dataframe directly. Ulternatively we could have used new_df = df_copy.drop_duplicates(), without using inplace=True."
   ]
  },
  {
   "cell_type": "markdown",
   "metadata": {},
   "source": [
    "We can also remove duplicates based just on a selection of columns, Here we will look for rows with duplicated names and type. Note that by default the first row is kept."
   ]
  },
  {
   "cell_type": "code",
   "execution_count": 34,
   "metadata": {},
   "outputs": [
    {
     "name": "stdout",
     "output_type": "stream",
     "text": [
      "     names    type  magic_power  aggression  stealth\n",
      "0  Gandolf  Wizard           10           7        8\n",
      "1    Gimli   Dwarf            1          10        2\n",
      "2    Frodo  Hobbit            4           2        5\n"
     ]
    }
   ],
   "source": [
    "df_copy = df.copy() # we'll work on a copy of the dataframe\n",
    "df_copy.drop_duplicates(subset=['names','type'], inplace=True)\n",
    "print (df_copy)"
   ]
  },
  {
   "cell_type": "markdown",
   "metadata": {},
   "source": [
    "We can choose to keep the last entered row with the argument keep='last':"
   ]
  },
  {
   "cell_type": "code",
   "execution_count": 35,
   "metadata": {},
   "outputs": [
    {
     "name": "stdout",
     "output_type": "stream",
     "text": [
      "     names    type  magic_power  aggression  stealth\n",
      "0  Gandolf  Wizard           10           7        8\n",
      "2    Frodo  Hobbit            4           2        5\n",
      "4    Gimli   Dwarf            3           2        5\n"
     ]
    }
   ],
   "source": [
    "df_copy = df.copy() # we'll work on a copy of the dataframe\n",
    "df_copy.drop_duplicates(subset=['names','type'], inplace=True, keep='last')\n",
    "print (df_copy)"
   ]
  },
  {
   "cell_type": "markdown",
   "metadata": {},
   "source": [
    "We can also remove all duplicate rows by using the argument keep=False:"
   ]
  },
  {
   "cell_type": "code",
   "execution_count": 36,
   "metadata": {},
   "outputs": [
    {
     "name": "stdout",
     "output_type": "stream",
     "text": [
      "     names    type  magic_power  aggression  stealth\n",
      "0  Gandolf  Wizard           10           7        8\n",
      "2    Frodo  Hobbit            4           2        5\n"
     ]
    }
   ],
   "source": [
    "df_copy = df.copy() # we'll work on a copy of the dataframe\n",
    "df_copy.drop_duplicates(subset=['names','type'], inplace=True, keep=False)\n",
    "print (df_copy)"
   ]
  },
  {
   "cell_type": "markdown",
   "metadata": {},
   "source": [
    "More complicated logic for choosing which record to keep would best be performed using a groupby method."
   ]
  }
 ],
 "metadata": {
  "kernelspec": {
   "display_name": "Python 3",
   "language": "python",
   "name": "python3"
  },
  "language_info": {
   "codemirror_mode": {
    "name": "ipython",
    "version": 3
   },
   "file_extension": ".py",
   "mimetype": "text/x-python",
   "name": "python",
   "nbconvert_exporter": "python",
   "pygments_lexer": "ipython3",
   "version": "3.6.4"
  }
 },
 "nbformat": 4,
 "nbformat_minor": 2
}
