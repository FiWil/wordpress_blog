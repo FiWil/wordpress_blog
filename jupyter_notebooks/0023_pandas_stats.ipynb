{
 "cells": [
  {
   "cell_type": "markdown",
   "metadata": {},
   "source": [
    "# Basic statistics in Pandas\n",
    "\n",
    "Like NumPy, Pandas may be used to give us some basic statistics on data.\n",
    "\n",
    "Let's start by building a very sample dataframe."
   ]
  },
  {
   "cell_type": "code",
   "execution_count": 72,
   "metadata": {},
   "outputs": [],
   "source": [
    "import pandas as pd\n",
    "df = pd.DataFrame()\n",
    "\n",
    "names = ['Gandolf','Gimli','Frodo','Legolas','Bilbo']\n",
    "types = ['Wizard','Dwarf','Hobbit','Elf','Hobbit']\n",
    "magic = [10, 1, 4, 6, 4]\n",
    "aggression = [7, 10, 2, 5, 2]\n",
    "stealth = [8, 2, 5, 10, None]\n",
    "\n",
    "\n",
    "df['names'] = names\n",
    "df['type'] = types\n",
    "df['magic_power'] = magic\n",
    "df['aggression'] = aggression\n",
    "df['stealth'] = stealth"
   ]
  },
  {
   "cell_type": "markdown",
   "metadata": {},
   "source": [
    "## Overview statistics\n",
    "\n",
    "We can get an overview with the <em>describe()</em> method."
   ]
  },
  {
   "cell_type": "code",
   "execution_count": 73,
   "metadata": {},
   "outputs": [
    {
     "name": "stdout",
     "output_type": "stream",
     "text": [
      "       magic_power  aggression  stealth\n",
      "count     5.000000    5.000000     4.00\n",
      "mean      5.000000    5.200000     6.25\n",
      "std       3.316625    3.420526     3.50\n",
      "min       1.000000    2.000000     2.00\n",
      "25%       4.000000    2.000000     4.25\n",
      "50%       4.000000    5.000000     6.50\n",
      "75%       6.000000    7.000000     8.50\n",
      "max      10.000000   10.000000    10.00\n"
     ]
    }
   ],
   "source": [
    "print (df.describe())"
   ]
  },
  {
   "cell_type": "markdown",
   "metadata": {},
   "source": [
    "We can modify the percentiles reported:"
   ]
  },
  {
   "cell_type": "code",
   "execution_count": 74,
   "metadata": {},
   "outputs": [
    {
     "name": "stdout",
     "output_type": "stream",
     "text": [
      "       magic_power  aggression  stealth\n",
      "count     5.000000    5.000000     4.00\n",
      "mean      5.000000    5.200000     6.25\n",
      "std       3.316625    3.420526     3.50\n",
      "min       1.000000    2.000000     2.00\n",
      "5%        1.600000    2.000000     2.45\n",
      "10%       2.200000    2.000000     2.90\n",
      "50%       4.000000    5.000000     6.50\n",
      "90%       8.400000    8.800000     9.40\n",
      "95%       9.200000    9.400000     9.70\n",
      "max      10.000000   10.000000    10.00\n"
     ]
    }
   ],
   "source": [
    "print (df.describe(percentiles=[0.05,0.1,0.9,0.95]))"
   ]
  },
  {
   "cell_type": "markdown",
   "metadata": {},
   "source": [
    "Specific statistics may be returned:"
   ]
  },
  {
   "cell_type": "code",
   "execution_count": 75,
   "metadata": {},
   "outputs": [
    {
     "name": "stdout",
     "output_type": "stream",
     "text": [
      "magic_power    5.00\n",
      "aggression     5.20\n",
      "stealth        6.25\n",
      "dtype: float64\n"
     ]
    }
   ],
   "source": [
    "print (df.mean())"
   ]
  },
  {
   "cell_type": "markdown",
   "metadata": {},
   "source": [
    "## List of key statistical methods\n",
    "\n",
    ".mean() =  mean\n",
    "\n",
    ".median() = median\n",
    "\n",
    ".min() = minimum\n",
    "\n",
    ".max() =maximum\n",
    "\n",
    ".quantile(x)\n",
    "\n",
    ".var() = variance\n",
    "\n",
    ".std() = standard deviation\n",
    "\n",
    ".mad() = mean absolute variation\n",
    "\n",
    ".skew() = skewness of distribution\n",
    "\n",
    ".kurt() = kurtosis\n",
    "\n",
    ".cov() = covariance\n",
    "\n",
    ".corr() = Pearson Correlation coefficent\n",
    "\n",
    ".autocorr() = autocorelation\n",
    "\n",
    ".diff() = first discrete difference\n",
    "\n",
    ".cumsum() = cummulative sum\n",
    "\n",
    ".comprod() = cumulative product\n",
    "\n",
    ".cummin() = cumulative minimumcs:\n",
    "\n",
    ".mean() =  mean\n",
    "\n",
    ".median() = median\n",
    "\n",
    ".min() = minimum\n",
    "\n",
    ".max() =maximum\n",
    "\n",
    ".quantile(x)\n",
    "\n",
    ".var() = variance\n",
    "\n",
    ".std() = standard deviation\n",
    "\n",
    ".mad() = mean absolute variation\n",
    "\n",
    ".skew() = skewness of distribution\n",
    "\n",
    ".kurt() = kurtosis\n",
    "\n",
    ".cov() = covariance\n",
    "\n",
    ".corr() = Pearson Correlation coefficent\n",
    "\n",
    ".autocorr() = autocorelation\n",
    "\n",
    ".diff() = first discrete difference\n",
    "\n",
    ".cumsum() = cummulative sum\n",
    "\n",
    ".comprod() = cumulative product\n",
    "\n",
    ".cummin() = cumulative minimum"
   ]
  },
  {
   "cell_type": "markdown",
   "metadata": {},
   "source": [
    "## Returning the index of minimum and maximum\n",
    "\n",
    "<em>idxmin</em> and <em>idxmax</em> will return the index row of the min/max. If two values are equal the first will be returned."
   ]
  },
  {
   "cell_type": "code",
   "execution_count": 76,
   "metadata": {},
   "outputs": [
    {
     "name": "stdout",
     "output_type": "stream",
     "text": [
      "Minimum: 2\n",
      "Index row: 2\n",
      "\n",
      "Full row:\n",
      " names           Frodo\n",
      "type           Hobbit\n",
      "magic_power         4\n",
      "aggression          2\n",
      "stealth             5\n",
      "Name: 2, dtype: object\n"
     ]
    }
   ],
   "source": [
    "print ('Minimum:', df['aggression'].min())\n",
    "print ('Index row:',df['aggression'].idxmin())\n",
    "print ('\\nFull row:\\n', df.iloc[df['aggression'].idxmin()])"
   ]
  },
  {
   "cell_type": "markdown",
   "metadata": {},
   "source": [
    "## Removing rows with incomplete data\n",
    "\n",
    "We can extract only those rows with a complete data set using the <em>dropna()</em> method."
   ]
  },
  {
   "cell_type": "code",
   "execution_count": 77,
   "metadata": {},
   "outputs": [
    {
     "name": "stdout",
     "output_type": "stream",
     "text": [
      "     names    type  magic_power  aggression  stealth\n",
      "0  Gandolf  Wizard           10           7      8.0\n",
      "1    Gimli   Dwarf            1          10      2.0\n",
      "2    Frodo  Hobbit            4           2      5.0\n",
      "3  Legolas     Elf            6           5     10.0\n"
     ]
    }
   ],
   "source": [
    "print (df.dropna())"
   ]
  },
  {
   "cell_type": "markdown",
   "metadata": {},
   "source": [
    "We can use this directly in the describe method."
   ]
  },
  {
   "cell_type": "code",
   "execution_count": 78,
   "metadata": {},
   "outputs": [
    {
     "name": "stdout",
     "output_type": "stream",
     "text": [
      "       magic_power  aggression  stealth\n",
      "count     4.000000    4.000000     4.00\n",
      "mean      5.250000    6.000000     6.25\n",
      "std       3.774917    3.366502     3.50\n",
      "min       1.000000    2.000000     2.00\n",
      "25%       3.250000    4.250000     4.25\n",
      "50%       5.000000    6.000000     6.50\n",
      "75%       7.000000    7.750000     8.50\n",
      "max      10.000000   10.000000    10.00\n"
     ]
    }
   ],
   "source": [
    "print (df.dropna().describe())"
   ]
  },
  {
   "cell_type": "markdown",
   "metadata": {},
   "source": [
    "To create a new dataframe with compplete rows only, we would simply assign to a new variable name:"
   ]
  },
  {
   "cell_type": "code",
   "execution_count": 79,
   "metadata": {},
   "outputs": [],
   "source": [
    "df_na_dropped = df.dropna()"
   ]
  }
 ],
 "metadata": {
  "kernelspec": {
   "display_name": "Python 3",
   "language": "python",
   "name": "python3"
  },
  "language_info": {
   "codemirror_mode": {
    "name": "ipython",
    "version": 3
   },
   "file_extension": ".py",
   "mimetype": "text/x-python",
   "name": "python",
   "nbconvert_exporter": "python",
   "pygments_lexer": "ipython3",
   "version": "3.6.4"
  }
 },
 "nbformat": 4,
 "nbformat_minor": 2
}
