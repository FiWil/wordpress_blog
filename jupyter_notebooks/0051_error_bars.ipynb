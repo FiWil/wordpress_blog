{
 "cells": [
  {
   "cell_type": "markdown",
   "metadata": {},
   "source": [
    "# Adding error bars to charts\n",
    "\n",
    "## Adding error bars to line plots"
   ]
  },
  {
   "cell_type": "code",
   "execution_count": 4,
   "metadata": {},
   "outputs": [
    {
     "data": {
      "image/png": "[encoded data removed]",
      "text/plain": [
       "<matplotlib.figure.Figure at 0x7f56d8602c50>"
      ]
     },
     "metadata": {},
     "output_type": "display_data"
    }
   ],
   "source": [
    "import numpy as np\n",
    "import matplotlib.pyplot as plt\n",
    "\n",
    "%matplotlib inline\n",
    "\n",
    "# example data\n",
    "x = np.arange(0.1, 10, 1)\n",
    "y = x ** 2\n",
    "\n",
    "# calculate example errors (could also be from list or NumPy array)\n",
    "lower_y_error = y * 0.2\n",
    "upper_y_error = y * 0.3\n",
    "y_error = [lower_y_error, upper_y_error]\n",
    "lower_x_error = x * 0.05\n",
    "upper_x_error = x * 0.05\n",
    "x_error = [lower_x_error, upper_x_error]\n",
    "\n",
    "# To use only x or y errors simple omit the relevant argument\n",
    "\n",
    "plt.errorbar(x, y, yerr = y_error, xerr = x_error, fmt='-o')\n",
    "\n",
    "plt.show()"
   ]
  },
  {
   "cell_type": "markdown",
   "metadata": {},
   "source": [
    "## Adding error bars to bar charts"
   ]
  },
  {
   "cell_type": "code",
   "execution_count": 5,
   "metadata": {},
   "outputs": [
    {
     "data": {
      "image/png": "[encoded data removed]",
      "text/plain": [
       "<matplotlib.figure.Figure at 0x7f56d8657d30>"
      ]
     },
     "metadata": {},
     "output_type": "display_data"
    }
   ],
   "source": [
    "import matplotlib.pyplot as plt\n",
    "import numpy as np\n",
    "\n",
    "%matplotlib inline\n",
    "\n",
    "x=[1,2,3,4]\n",
    "y=[5.,25.,50.,20.]\n",
    "yerr_upper=[2,10,5,3]\n",
    "yerr_lower=np.zeros(len(yerr_upper))\n",
    "\n",
    "fig, ax = plt.subplots()\n",
    "ax.bar(x,y,\n",
    "        width=0.8,\n",
    "        color='0.5',\n",
    "        edgecolor='k',\n",
    "        yerr=[yerr_lower,yerr_upper],\n",
    "        linewidth = 2,\n",
    "        capsize=10)\n",
    "\n",
    "ax.set_xticks(x)\n",
    "ax.set_xticklabels(('G1', 'G2', 'G3', 'G4'))\n",
    "\n",
    "plt.savefig('plot_21.png')\n",
    "\n",
    "plt.show()"
   ]
  },
  {
   "cell_type": "code",
   "execution_count": null,
   "metadata": {},
   "outputs": [],
   "source": []
  }
 ],
 "metadata": {
  "kernelspec": {
   "display_name": "Python 3",
   "language": "python",
   "name": "python3"
  },
  "language_info": {
   "codemirror_mode": {
    "name": "ipython",
    "version": 3
   },
   "file_extension": ".py",
   "mimetype": "text/x-python",
   "name": "python",
   "nbconvert_exporter": "python",
   "pygments_lexer": "ipython3",
   "version": "3.6.4"
  }
 },
 "nbformat": 4,
 "nbformat_minor": 2
}
