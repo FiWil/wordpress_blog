{
 "cells": [
  {
   "cell_type": "markdown",
   "metadata": {},
   "source": [
    "# Functions\n",
    "\n",
    "Functions are (or should be) short sections of code that may be called from within the main programme, or from another function. They usually take some inputs (arguments) and return one or more results.\n",
    "\n",
    "Functions may be used for two purposes:\n",
    "\n",
    "1) To avoid repeating code when the same code needs to be run in two or more locations in the main programme.\n",
    "\n",
    "2) To structure the code, breaking the code down into smaller pieces. In <em>functional programming</em> the whole programme would be broken down into functions\n",
    "\n",
    "If a function is more than 10 lines long you may want to think whether it could be broken down further, with some of the code pulled out as a separate function.\n",
    "\n",
    "Ideally a function should do just one thing; it should be as simple as possible, and easy for another person to follow.\n",
    "\n",
    "A <em>docstring</em> may be used at the start of a function to provide help to the user - in this case if the user types help(function_name) the docstring will be returned. These docstrings may also give examples of the function.\n",
    "\n",
    "Any variables defined within functions are destroyed when the function closes. Functions are not usually used to change global variables (those variables defined in the main programme code). If a global variable is passed to a function any changes to that variable made by the function are lost when the function ends (and so global variables are protected from being changed by functions). There is a way to force the function to change the global variable, which we will cover in a  later lesson, but this should usually be avoided if possible."
   ]
  },
  {
   "cell_type": "markdown",
   "metadata": {},
   "source": [
    "## Defining a function\n",
    "\n",
    "A function is defined with the <em>def</em> statement. It is followed by the function's inputs (arguments or 'args') which may also be given a default value. The user may enter the inputs either by name, or in the order in which the function expects them.\n",
    "\n",
    "It is good practice to use verbs to define functions, to describe what they do.\n",
    "\n",
    "Let's do a very simple example, raising a number to the power of another number, and we will set a default where, if no other number is given, we will raise to the power of zero (which always returns a value of 1). Note that we define a default value with the = sign."
   ]
  },
  {
   "cell_type": "code",
   "execution_count": 1,
   "metadata": {},
   "outputs": [],
   "source": [
    "def raise_to_power (number, power = 0):\n",
    "    result = number ** power\n",
    "    return result"
   ]
  },
  {
   "cell_type": "markdown",
   "metadata": {},
   "source": [
    "Once the function has been defined we can call it:"
   ]
  },
  {
   "cell_type": "code",
   "execution_count": 2,
   "metadata": {},
   "outputs": [
    {
     "name": "stdout",
     "output_type": "stream",
     "text": [
      "64\n"
     ]
    }
   ],
   "source": [
    "print (raise_to_power(2,6))"
   ]
  },
  {
   "cell_type": "markdown",
   "metadata": {},
   "source": [
    "We could describe the inputs by their names if we wanted to:"
   ]
  },
  {
   "cell_type": "code",
   "execution_count": 3,
   "metadata": {},
   "outputs": [
    {
     "name": "stdout",
     "output_type": "stream",
     "text": [
      "64\n"
     ]
    }
   ],
   "source": [
    "print (raise_to_power(number = 2, power = 6))"
   ]
  },
  {
   "cell_type": "markdown",
   "metadata": {},
   "source": [
    "If we define the inputs by name, the order becomes unimportant (without the names the function expects inputs in the order defined in the function):"
   ]
  },
  {
   "cell_type": "code",
   "execution_count": 4,
   "metadata": {},
   "outputs": [
    {
     "name": "stdout",
     "output_type": "stream",
     "text": [
      "64\n"
     ]
    }
   ],
   "source": [
    "print (raise_to_power(power = 6, number = 2))"
   ]
  },
  {
   "cell_type": "markdown",
   "metadata": {},
   "source": [
    "And remember that we set a default of power to zero, so if we only pass the first argument ('number'), the power defaults to zero:"
   ]
  },
  {
   "cell_type": "code",
   "execution_count": 5,
   "metadata": {},
   "outputs": [
    {
     "name": "stdout",
     "output_type": "stream",
     "text": [
      "1\n"
     ]
    }
   ],
   "source": [
    "print (raise_to_power(2))"
   ]
  },
  {
   "cell_type": "markdown",
   "metadata": {},
   "source": [
    "## Adding help to a function with a docstring\n",
    "\n",
    "A help <em>docstring</em> may be added to a function using triple quotes (' or \") after the function has been defined. This may be called later by the user using help."
   ]
  },
  {
   "cell_type": "code",
   "execution_count": 6,
   "metadata": {},
   "outputs": [],
   "source": [
    "def raise_to_power (number, power = 0):\n",
    "    \"\"\"\n",
    "    This functions takes two numbers, and raises the first number to the power of the second.\n",
    "    If no second number, or power, is given then power defaults to zero\n",
    "    \"\"\"\n",
    "    result = number ** power\n",
    "    return result"
   ]
  },
  {
   "cell_type": "markdown",
   "metadata": {},
   "source": [
    "Calling help:"
   ]
  },
  {
   "cell_type": "code",
   "execution_count": 7,
   "metadata": {},
   "outputs": [
    {
     "name": "stdout",
     "output_type": "stream",
     "text": [
      "Help on function raise_to_power in module __main__:\n",
      "\n",
      "raise_to_power(number, power=0)\n",
      "    This functions takes two numbers, and raises the first number to the power of the second.\n",
      "    If no second number, or power, is given then power defaults to zero\n",
      "\n"
     ]
    }
   ],
   "source": [
    "help (raise_to_power)"
   ]
  },
  {
   "cell_type": "markdown",
   "metadata": {},
   "source": [
    "## Returning two or more results\n",
    "\n",
    "Sometimes we may wish to return more than one value. There are two ways of doing this:\n",
    "\n",
    "1) Return the values separately (the code that calls the argument must also refer to both results:"
   ]
  },
  {
   "cell_type": "code",
   "execution_count": 8,
   "metadata": {},
   "outputs": [
    {
     "name": "stdout",
     "output_type": "stream",
     "text": [
      "11\n",
      "30\n"
     ]
    }
   ],
   "source": [
    "def calculate_sum_and_product(a, b):\n",
    "    \"\"\"Return sum and product of two numbers\"\"\"\n",
    "    my_sum = a + b\n",
    "    my_product = a * b\n",
    "    return my_sum,my_product\n",
    "\n",
    "# When calling the function we need to put both results generated by the function\n",
    "calculated_sum, calculated_product = calculate_sum_and_product(5,6)\n",
    "print (calculated_sum)\n",
    "print (calculated_product)\n",
    "    "
   ]
  },
  {
   "cell_type": "markdown",
   "metadata": {},
   "source": [
    "2) A more common way would be to return a single result that is a container (commonly a list or a tuple) of the two results. Here we return a tuple of the two results (remember that tuples are like lists, but they cannot be changed). We can tell that the returned value is a tuple by the use of curved brackets (a list could also be used, which we would spot by square brackets."
   ]
  },
  {
   "cell_type": "code",
   "execution_count": 9,
   "metadata": {},
   "outputs": [
    {
     "name": "stdout",
     "output_type": "stream",
     "text": [
      "11\n",
      "30\n"
     ]
    }
   ],
   "source": [
    "def calculate_sum_and_product(a, b):\n",
    "    \"\"\"Return sum and product of two numbers\"\"\"\n",
    "    my_sum = a + b\n",
    "    my_product = a * b\n",
    "    result = (my_sum, my_product) # this is a tuple\n",
    "    return result\n",
    "\n",
    "results = calculate_sum_and_product(5,6)\n",
    "# Individual results are obtained by their index:\n",
    "print (results[0])\n",
    "print (results[1])\n"
   ]
  },
  {
   "cell_type": "code",
   "execution_count": null,
   "metadata": {},
   "outputs": [],
   "source": []
  }
 ],
 "metadata": {
  "kernelspec": {
   "display_name": "Python 3",
   "language": "python",
   "name": "python3"
  },
  "language_info": {
   "codemirror_mode": {
    "name": "ipython",
    "version": 3
   },
   "file_extension": ".py",
   "mimetype": "text/x-python",
   "name": "python",
   "nbconvert_exporter": "python",
   "pygments_lexer": "ipython3",
   "version": "3.6.4"
  }
 },
 "nbformat": 4,
 "nbformat_minor": 2
}
