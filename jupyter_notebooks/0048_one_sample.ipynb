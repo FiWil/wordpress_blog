{
 "cells": [
  {
   "cell_type": "markdown",
   "metadata": {},
   "source": [
    "# One sample t-test and Wilcoxon signed rank test\n",
    "\n",
    "The following test for a difference between the centre of a sample of data and a given reference point. The one sample t-test assumes normally distributed data, whereas the Wilcoxon signed rank test can be used with any data.\n",
    "\n",
    "## One sample t-test"
   ]
  },
  {
   "cell_type": "code",
   "execution_count": 8,
   "metadata": {},
   "outputs": [
    {
     "name": "stdout",
     "output_type": "stream",
     "text": [
      "P value:\n",
      "0.007269398564245046\n"
     ]
    }
   ],
   "source": [
    "import numpy as np\n",
    "import scipy.stats as stats\n",
    "\n",
    "# generate the data\n",
    "normDist = stats.norm(loc=7.5, scale=3)\n",
    "data = normDist.rvs(100)\n",
    "\n",
    "# Define a value to check against\n",
    "checkVal = 6.5\n",
    "\n",
    "# T-test\n",
    "# --- >>> START stats <<< ---\n",
    "t, tProb = stats.ttest_1samp(data, checkVal)\n",
    "# --- >>> STOP stats <<< ---\n",
    "\n",
    "print ('P value:')\n",
    "print (tProb)\n"
   ]
  },
  {
   "cell_type": "markdown",
   "metadata": {},
   "source": [
    "## Wilcoxon signed rank test"
   ]
  },
  {
   "cell_type": "code",
   "execution_count": 10,
   "metadata": {},
   "outputs": [
    {
     "name": "stdout",
     "output_type": "stream",
     "text": [
      "P value:\n",
      "0.006010251964988403\n"
     ]
    }
   ],
   "source": [
    "# Note the test value is subtracted from all data (test is then effectively against zero)\n",
    "\n",
    "rank, pVal = stats.wilcoxon(data-checkVal)\n",
    "\n",
    "print ('P value:')\n",
    "print (pVal)"
   ]
  },
  {
   "cell_type": "code",
   "execution_count": null,
   "metadata": {},
   "outputs": [],
   "source": []
  }
 ],
 "metadata": {
  "kernelspec": {
   "display_name": "Python 3",
   "language": "python",
   "name": "python3"
  },
  "language_info": {
   "codemirror_mode": {
    "name": "ipython",
    "version": 3
   },
   "file_extension": ".py",
   "mimetype": "text/x-python",
   "name": "python",
   "nbconvert_exporter": "python",
   "pygments_lexer": "ipython3",
   "version": "3.6.4"
  }
 },
 "nbformat": 4,
 "nbformat_minor": 2
}
