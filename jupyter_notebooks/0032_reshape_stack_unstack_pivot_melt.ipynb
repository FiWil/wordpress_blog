{
 "cells": [
  {
   "cell_type": "markdown",
   "metadata": {},
   "source": [
    "# Reshaping Pandas data with stack, unstack, pivot and melt\n",
    "\n",
    "Sometimes data is best shaped where the data is in the form of a wide table where the description is in a column header, and sometimes it is best shaped as as having the data descriptor as a variable within a tall table. \n",
    "\n",
    "To begin with you may find it a little confusing what happens to the index field as we switch between different formats. But hang in there and you'll get the hang of it! \n",
    "\n",
    "Lets look at some examples, beginning as usual with creating a dataframe."
   ]
  },
  {
   "cell_type": "code",
   "execution_count": 77,
   "metadata": {},
   "outputs": [],
   "source": [
    "import pandas as pd\n",
    "df = pd.DataFrame()\n",
    "\n",
    "names = ['Gandolf',\n",
    "         'Gimli',\n",
    "         'Frodo',\n",
    "         'Legolas',\n",
    "         'Bilbo',\n",
    "         'Sam',\n",
    "         'Pippin',\n",
    "         'Boromir',\n",
    "         'Aragorn',\n",
    "         'Galadriel',\n",
    "         'Meriadoc']\n",
    "types = ['Wizard',\n",
    "         'Dwarf',\n",
    "         'Hobbit',\n",
    "         'Elf',\n",
    "         'Hobbit',\n",
    "         'Hobbit',\n",
    "         'Hobbit',\n",
    "         'Man',\n",
    "         'Man',\n",
    "         'Elf',\n",
    "         'Hobbit']\n",
    "magic = [10, 1, 4, 6, 4, 2, 0, 0, 2, 9, 0]\n",
    "aggression = [7, 10, 2, 5, 1, 6, 3, 8, 7, 2, 4]\n",
    "stealth = [8, 2, 5, 10, 5, 4 ,5, 3, 9, 10, 6]\n",
    "\n",
    "\n",
    "df['names'] = names\n",
    "df['type'] = types\n",
    "df['magic_power'] = magic\n",
    "df['aggression'] = aggression\n",
    "df['stealth'] = stealth"
   ]
  },
  {
   "cell_type": "markdown",
   "metadata": {},
   "source": [
    "When we look at this table, the data descriptors are columns, and the data table is 'wide'."
   ]
  },
  {
   "cell_type": "code",
   "execution_count": 78,
   "metadata": {},
   "outputs": [
    {
     "name": "stdout",
     "output_type": "stream",
     "text": [
      "        names    type  magic_power  aggression  stealth\n",
      "0     Gandolf  Wizard           10           7        8\n",
      "1       Gimli   Dwarf            1          10        2\n",
      "2       Frodo  Hobbit            4           2        5\n",
      "3     Legolas     Elf            6           5       10\n",
      "4       Bilbo  Hobbit            4           1        5\n",
      "5         Sam  Hobbit            2           6        4\n",
      "6      Pippin  Hobbit            0           3        5\n",
      "7     Boromir     Man            0           8        3\n",
      "8     Aragorn     Man            2           7        9\n",
      "9   Galadriel     Elf            9           2       10\n",
      "10   Meriadoc  Hobbit            0           4        6\n"
     ]
    }
   ],
   "source": [
    "print (df)"
   ]
  },
  {
   "cell_type": "markdown",
   "metadata": {},
   "source": [
    "## Stack and unstack\n",
    "\n",
    "We can convert between the two formats of data with <em>stack</em> and <em>unstack</em>. To convert from a wide table to a tall and skinny, use <em>stack</em>. Notice this creates a more complex index which has two levels the first level is person id, and the second level is the data header. This is called a multi-index."
   ]
  },
  {
   "cell_type": "code",
   "execution_count": 79,
   "metadata": {},
   "outputs": [
    {
     "name": "stdout",
     "output_type": "stream",
     "text": [
      "0  names          Gandolf\n",
      "   type            Wizard\n",
      "   magic_power         10\n",
      "   aggression           7\n",
      "   stealth              8\n",
      "1  names            Gimli\n",
      "   type             Dwarf\n",
      "   magic_power          1\n",
      "   aggression          10\n",
      "   stealth              2\n",
      "2  names            Frodo\n",
      "   type            Hobbit\n",
      "   magic_power          4\n",
      "   aggression           2\n",
      "   stealth              5\n",
      "3  names          Legolas\n",
      "   type               Elf\n",
      "   magic_power          6\n",
      "   aggression           5\n",
      "   stealth             10\n",
      "dtype: object\n"
     ]
    }
   ],
   "source": [
    "df_stacked = df.stack()\n",
    "print(df_stacked.head(20)) # pront forst 20 rows"
   ]
  },
  {
   "cell_type": "markdown",
   "metadata": {},
   "source": [
    "We can convert back to  wide table with <em>unstack</em>. This recreates a single index for each line of data."
   ]
  },
  {
   "cell_type": "code",
   "execution_count": 80,
   "metadata": {},
   "outputs": [
    {
     "name": "stdout",
     "output_type": "stream",
     "text": [
      "        names    type magic_power aggression stealth\n",
      "0     Gandolf  Wizard          10          7       8\n",
      "1       Gimli   Dwarf           1         10       2\n",
      "2       Frodo  Hobbit           4          2       5\n",
      "3     Legolas     Elf           6          5      10\n",
      "4       Bilbo  Hobbit           4          1       5\n",
      "5         Sam  Hobbit           2          6       4\n",
      "6      Pippin  Hobbit           0          3       5\n",
      "7     Boromir     Man           0          8       3\n",
      "8     Aragorn     Man           2          7       9\n",
      "9   Galadriel     Elf           9          2      10\n",
      "10   Meriadoc  Hobbit           0          4       6\n"
     ]
    }
   ],
   "source": [
    "df_unstacked = df_stacked.unstack()\n",
    "print (df_unstacked)"
   ]
  },
  {
   "cell_type": "markdown",
   "metadata": {},
   "source": [
    "Returning to our stacked data, we can convert our multi-index to two separate fields by resetting the index. By default this method names the separated index field 'level_0' and 'level_1' (multi-level indexes may have further levels as well), and the data field '0'. Let's rename them as well (comment out that row with a # to see what it would look like without renaming them). You can see the effect below:"
   ]
  },
  {
   "cell_type": "code",
   "execution_count": 89,
   "metadata": {},
   "outputs": [
    {
     "name": "stdout",
     "output_type": "stream",
     "text": [
      "    ID     variable    value\n",
      "0    0        names  Gandolf\n",
      "1    0         type   Wizard\n",
      "2    0  magic_power       10\n",
      "3    0   aggression        7\n",
      "4    0      stealth        8\n",
      "5    1        names    Gimli\n",
      "6    1         type    Dwarf\n",
      "7    1  magic_power        1\n",
      "8    1   aggression       10\n",
      "9    1      stealth        2\n",
      "10   2        names    Frodo\n",
      "11   2         type   Hobbit\n",
      "12   2  magic_power        4\n",
      "13   2   aggression        2\n",
      "14   2      stealth        5\n",
      "15   3        names  Legolas\n",
      "16   3         type      Elf\n",
      "17   3  magic_power        6\n",
      "18   3   aggression        5\n",
      "19   3      stealth       10\n"
     ]
    }
   ],
   "source": [
    "reindexed_stacked_df = df_stacked.reset_index()\n",
    "reindexed_stacked_df.rename(\n",
    "    columns={'level_0': 'ID', 'level_1': 'variable', 0:'value'},inplace=True)\n",
    "\n",
    "print (reindexed_stacked_df.head(20)) # print first 20 rows"
   ]
  },
  {
   "cell_type": "markdown",
   "metadata": {},
   "source": [
    "We can return to a multi-index, if we want to, by setting the index to the two fields to be combined. Whether a multi-index is preferred or not will depend on what you wish to do with the dataframe, so it useful to know how to convert back and forth between multi-index and single-index."
   ]
  },
  {
   "cell_type": "code",
   "execution_count": 86,
   "metadata": {},
   "outputs": [
    {
     "name": "stdout",
     "output_type": "stream",
     "text": [
      "                  value\n",
      "ID variable            \n",
      "0  names        Gandolf\n",
      "   type          Wizard\n",
      "   magic_power       10\n",
      "   aggression         7\n",
      "   stealth            8\n",
      "1  names          Gimli\n",
      "   type           Dwarf\n",
      "   magic_power        1\n",
      "   aggression        10\n",
      "   stealth            2\n",
      "2  names          Frodo\n",
      "   type          Hobbit\n",
      "   magic_power        4\n",
      "   aggression         2\n",
      "   stealth            5\n",
      "3  names        Legolas\n",
      "   type             Elf\n",
      "   magic_power        6\n",
      "   aggression         5\n",
      "   stealth           10\n"
     ]
    }
   ],
   "source": [
    "reindexed_stacked_df.set_index(['ID', 'variable'], inplace=True)\n",
    "print (reindexed_stacked_df.head(20))"
   ]
  },
  {
   "cell_type": "markdown",
   "metadata": {},
   "source": [
    "## Melt and pivot\n",
    "\n",
    "<em>melt</em> and <em>pivot</em> are like <em>stack</em> and <em>unstack</em>, but offer some other options.\n",
    "\n",
    "<em>melt</em> de-pivots data (into a tall skinny table)\n",
    "\n",
    "<em>pivot</em> will re-pivot data into a wide table.\n",
    "\n",
    "Let's return to our original dataframe created (which we called 'df') and  create a tall skinny table of selected fields using <em>melt</em>. We will separate out one or more of the fields, such as 'names' as an ID field, as below:"
   ]
  },
  {
   "cell_type": "code",
   "execution_count": 87,
   "metadata": {},
   "outputs": [
    {
     "name": "stdout",
     "output_type": "stream",
     "text": [
      "        names     variable   value\n",
      "0     Gandolf         type  Wizard\n",
      "1       Gimli         type   Dwarf\n",
      "2       Frodo         type  Hobbit\n",
      "3     Legolas         type     Elf\n",
      "4       Bilbo         type  Hobbit\n",
      "5         Sam         type  Hobbit\n",
      "6      Pippin         type  Hobbit\n",
      "7     Boromir         type     Man\n",
      "8     Aragorn         type     Man\n",
      "9   Galadriel         type     Elf\n",
      "10   Meriadoc         type  Hobbit\n",
      "11    Gandolf  magic_power      10\n",
      "12      Gimli  magic_power       1\n",
      "13      Frodo  magic_power       4\n",
      "14    Legolas  magic_power       6\n",
      "15      Bilbo  magic_power       4\n",
      "16        Sam  magic_power       2\n",
      "17     Pippin  magic_power       0\n",
      "18    Boromir  magic_power       0\n",
      "19    Aragorn  magic_power       2\n",
      "20  Galadriel  magic_power       9\n",
      "21   Meriadoc  magic_power       0\n"
     ]
    }
   ],
   "source": [
    "unpivoted = df.melt(id_vars=['names'], value_vars=['type','magic_power'])\n",
    "print (unpivoted)"
   ]
  },
  {
   "cell_type": "markdown",
   "metadata": {},
   "source": [
    "And we can use the <em>pivot</em> method to re-pivot the data, defining which field identifies the data to be grouped together, which column contains the new column headers, and which field contains the data."
   ]
  },
  {
   "cell_type": "code",
   "execution_count": 88,
   "metadata": {},
   "outputs": [
    {
     "name": "stdout",
     "output_type": "stream",
     "text": [
      "variable  magic_power    type\n",
      "names                        \n",
      "Aragorn             2     Man\n",
      "Bilbo               4  Hobbit\n",
      "Boromir             0     Man\n",
      "Frodo               4  Hobbit\n",
      "Galadriel           9     Elf\n",
      "Gandolf            10  Wizard\n",
      "Gimli               1   Dwarf\n",
      "Legolas             6     Elf\n",
      "Meriadoc            0  Hobbit\n",
      "Pippin              0  Hobbit\n",
      "Sam                 2  Hobbit\n"
     ]
    }
   ],
   "source": [
    "pivoted = unpivoted.pivot(index='names', columns='variable', values='value')\n",
    "print (pivoted_2)"
   ]
  },
  {
   "cell_type": "code",
   "execution_count": null,
   "metadata": {},
   "outputs": [],
   "source": []
  }
 ],
 "metadata": {
  "kernelspec": {
   "display_name": "Python 3",
   "language": "python",
   "name": "python3"
  },
  "language_info": {
   "codemirror_mode": {
    "name": "ipython",
    "version": 3
   },
   "file_extension": ".py",
   "mimetype": "text/x-python",
   "name": "python",
   "nbconvert_exporter": "python",
   "pygments_lexer": "ipython3",
   "version": "3.6.4"
  }
 },
 "nbformat": 4,
 "nbformat_minor": 2
}
