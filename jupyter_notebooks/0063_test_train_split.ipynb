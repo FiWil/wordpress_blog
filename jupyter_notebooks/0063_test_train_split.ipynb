{
 "cells": [
  {
   "cell_type": "markdown",
   "metadata": {},
   "source": [
    "# Splitting data into training and test sets\n",
    "\n",
    "To test the accuracy of a model we will test the model on data that it has not seen before. We will divide available data into two sets: a training set that the model will learn from, and a test set which will be used to test the accuracy of the model on new data. A convenient way to split the data is to use scikit-learn's train_test_split method. This randomly divides the data between training and test sets. We may specify what propoprtion to keep for the test set (0.2 - 0.3 is common)."
   ]
  },
  {
   "cell_type": "code",
   "execution_count": 4,
   "metadata": {},
   "outputs": [],
   "source": [
    "import numpy as np\n",
    "from sklearn import datasets\n",
    "from sklearn.model_selection import train_test_split\n",
    "\n",
    "# Load the iris data\n",
    "\n",
    "iris=datasets.load_iris()\n",
    "\n",
    "# Extra out the feature data (data), and the classification (target)\n",
    "\n",
    "X=iris.data\n",
    "y=iris.target\n",
    "\n",
    "X_train,X_test,y_train,y_test=train_test_split(\n",
    "        X,y,test_size=0.3,random_state=0)\n",
    "\n",
    "# Random_state is integer seed. \n",
    "# If this is omitted than a different seed will be used each time"
   ]
  },
  {
   "cell_type": "markdown",
   "metadata": {},
   "source": [
    "Let's look at the size of the data sets:"
   ]
  },
  {
   "cell_type": "code",
   "execution_count": 5,
   "metadata": {},
   "outputs": [
    {
     "name": "stdout",
     "output_type": "stream",
     "text": [
      "Shape of X: (150, 4)\n",
      "Shape of y: (150,)\n",
      "Shape of X_train: (105, 4)\n",
      "Shape of y_train: (105,)\n",
      "Shape of X_test: (45, 4)\n",
      "Shape of y_test: (45,)\n"
     ]
    }
   ],
   "source": [
    "print ('Shape of X:', X.shape)\n",
    "print ('Shape of y:', y.shape)\n",
    "print ('Shape of X_train:', X_train.shape)\n",
    "print ('Shape of y_train:', y_train.shape)\n",
    "print ('Shape of X_test:', X_test.shape)\n",
    "print ('Shape of y_test:', y_test.shape)"
   ]
  },
  {
   "cell_type": "markdown",
   "metadata": {},
   "source": [
    "The data has been split randomly, 70% into the training set and 30% into the test set."
   ]
  }
 ],
 "metadata": {
  "kernelspec": {
   "display_name": "Python 3",
   "language": "python",
   "name": "python3"
  },
  "language_info": {
   "codemirror_mode": {
    "name": "ipython",
    "version": 3
   },
   "file_extension": ".py",
   "mimetype": "text/x-python",
   "name": "python",
   "nbconvert_exporter": "python",
   "pygments_lexer": "ipython3",
   "version": "3.6.4"
  }
 },
 "nbformat": 4,
 "nbformat_minor": 2
}
