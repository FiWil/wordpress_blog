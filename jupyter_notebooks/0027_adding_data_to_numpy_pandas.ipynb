{
 "cells": [
  {
   "cell_type": "markdown",
   "metadata": {},
   "source": [
    "# Adding data to NumPy and Pandas\n",
    "\n",
    "## Numpy\n",
    "\n",
    "### Adding more rows\n",
    "\n",
    "To add more rows to an existing numpy array use the <em>vstack</em> method which can add multiple or single rows. New data may be in the form of a numpy array or a list. All combined data must have the same number of columns."
   ]
  },
  {
   "cell_type": "code",
   "execution_count": 9,
   "metadata": {},
   "outputs": [
    {
     "name": "stdout",
     "output_type": "stream",
     "text": [
      "[[ 1  2  3  4  5]\n",
      " [ 6  7  8  9 10]\n",
      " [11 12 13 14 15]\n",
      " [16 17 18 19 20]\n",
      " [21 22 23 24 25]\n",
      " [26 27 28 29 30]]\n"
     ]
    }
   ],
   "source": [
    "import numpy as np\n",
    "\n",
    "# Starting with a NumPy array\n",
    "array1 = np.array([[1,2,3,4,5],\n",
    "         [6,7,8,9,10],\n",
    "         [11,12,13,14,15]])\n",
    "\n",
    "# An additional 2d list\n",
    "array2 = [[16,17,18,19,20],\n",
    "         [21,22,23,24,25]]\n",
    "\n",
    "# An additional single row Numpy array\n",
    "array3 = np.array([26,27,28,29,30])\n",
    "\n",
    "# We will combine all data into existing array, array1\n",
    "# But a new name could be given\n",
    "array1 = np.vstack([array1, array2, array3])\n",
    "\n",
    "print (array1)"
   ]
  },
  {
   "cell_type": "markdown",
   "metadata": {},
   "source": [
    "### Adding more columns of data\n",
    "\n",
    "To add more columns to an existing numpy array use the <em>hstack</em> method which can add multiple or single rows. All combined data must have the same number of rows."
   ]
  },
  {
   "cell_type": "code",
   "execution_count": 10,
   "metadata": {},
   "outputs": [
    {
     "name": "stdout",
     "output_type": "stream",
     "text": [
      "[[ 1  2  3  4  5]\n",
      " [ 6  7  8  9 10]\n",
      " [11 12 13 14 15]]\n"
     ]
    }
   ],
   "source": [
    "import numpy as np\n",
    "\n",
    "# Start with a numpy array\n",
    "array1 = np.array([[1,2],\n",
    "         [6,7],\n",
    "         [11,12]])\n",
    "\n",
    "# an additional multi-row numpy array\n",
    "array2 = np.array([[3,4],\n",
    "         [8,9],\n",
    "         [13,14]])\n",
    "# an additional single column list\n",
    "# Note: the vertical appearance is for easy of reading only\n",
    "# The square bracketed values within a wider set of square brackets will set this as a column\n",
    "array3 = [[5],\n",
    "         [10],\n",
    "         [15]]\n",
    "\n",
    "array1 = np.hstack([array1, array2, array3])\n",
    "\n",
    "print (array1)\n"
   ]
  },
  {
   "cell_type": "markdown",
   "metadata": {},
   "source": [
    "## Pandas\n",
    "\n"
   ]
  },
  {
   "cell_type": "markdown",
   "metadata": {},
   "source": [
    "### Adding more rows of data\n",
    "\n",
    "Here we will use the <em>concat</em> method to add more rows. Note that we have to define column names for the rows we will be adding.\n",
    "\n",
    "Notice what happens to the index column on the left, and the order of the columns"
   ]
  },
  {
   "cell_type": "code",
   "execution_count": 11,
   "metadata": {},
   "outputs": [
    {
     "name": "stdout",
     "output_type": "stream",
     "text": [
      "     names    type  magic_power  aggression  stealth\n",
      "0  Gandolf  Wizard           10           7        8\n",
      "1    Gimli   Dwarf            1          10        2\n",
      "0    Frodo  Hobbit            4           2        5\n",
      "1  Legolas     Elf            6           5       10\n"
     ]
    }
   ],
   "source": [
    "import pandas as pd\n",
    "\n",
    "df1 =pd.DataFrame()\n",
    "\n",
    "# Building an initial dataframe from individual lists:\n",
    "\n",
    "names = ['Gandolf','Gimli']\n",
    "types = ['Wizard','Dwarf']\n",
    "magic = [10, 1]\n",
    "aggression = [7, 10,]\n",
    "stealth = [8, 2]\n",
    "\n",
    "df1['names'] = names\n",
    "df1['type'] = types\n",
    "df1['magic_power'] = magic\n",
    "df1['aggression'] = aggression\n",
    "df1['stealth'] = stealth\n",
    "\n",
    "# We can also define a dataframe with lists of all data for each row,\n",
    "# but we need to remember to pass column names, as a list, to the dataframe\n",
    "\n",
    "col_names = ['names','type','magic_power','aggression','stealth']\n",
    "\n",
    "df2 = pd.DataFrame(\n",
    "    [['Frodo','Hobbit',4,2,5],\n",
    "     ['Legolas','Elf',6,5,10]],\n",
    "        columns = col_names)\n",
    "\n",
    "df1 = pd.concat([df1,df2])\n",
    "print (df1)\n"
   ]
  },
  {
   "cell_type": "markdown",
   "metadata": {},
   "source": [
    "Each dataframe had indexes starting with zero, and those numbers are kept when combining the dataframes. This may be approproate if the index column are unique identifiers, but with a numbered index we may prefer to let the index of the appended dataframe be ignored, and the index allowed to continue its original order. We do this by passing <em>ignore_index = True</em> to the concat method."
   ]
  },
  {
   "cell_type": "code",
   "execution_count": 12,
   "metadata": {},
   "outputs": [
    {
     "name": "stdout",
     "output_type": "stream",
     "text": [
      "     names    type  magic_power  aggression  stealth\n",
      "0  Gandolf  Wizard           10           7        8\n",
      "1    Gimli   Dwarf            1          10        2\n",
      "2    Frodo  Hobbit            4           2        5\n",
      "3  Legolas     Elf            6           5       10\n"
     ]
    }
   ],
   "source": [
    "import pandas as pd\n",
    "\n",
    "df1 =pd.DataFrame()\n",
    "\n",
    "# Building an initial dataframe from individual lists:\n",
    "\n",
    "names = ['Gandolf','Gimli']\n",
    "types = ['Wizard','Dwarf']\n",
    "magic = [10, 1]\n",
    "aggression = [7, 10,]\n",
    "stealth = [8, 2]\n",
    "\n",
    "df1['names'] = names\n",
    "df1['type'] = types\n",
    "df1['magic_power'] = magic\n",
    "df1['aggression'] = aggression\n",
    "df1['stealth'] = stealth\n",
    "\n",
    "# We can also define a dataframe with lists of all data for each row,\n",
    "# but we need to remember to pass column names, as a list, to the dataframe\n",
    "\n",
    "col_names = ['names','type','magic_power','aggression','stealth']\n",
    "\n",
    "df2 = pd.DataFrame(\n",
    "    [['Frodo','Hobbit',4,2,5],\n",
    "     ['Legolas','Elf',6,5,10]],\n",
    "        columns = col_names)\n",
    "\n",
    "df1 = pd.concat([df1,df2],ignore_index = True)\n",
    "print (df1)"
   ]
  },
  {
   "cell_type": "markdown",
   "metadata": {},
   "source": [
    "In the above examples the concat method has reordered columns (there is another method, append, which does not reorder columns, but append is less efficient for combining larger dataframes). To re-order columns we can pass the column order to the new dataframe. Thois could be done by appending [col names] to the end of the concat statement, or mayy be performed as a separate step:"
   ]
  },
  {
   "cell_type": "code",
   "execution_count": 13,
   "metadata": {},
   "outputs": [
    {
     "name": "stdout",
     "output_type": "stream",
     "text": [
      "     names    type  magic_power  aggression  stealth\n",
      "0  Gandolf  Wizard           10           7        8\n",
      "1    Gimli   Dwarf            1          10        2\n",
      "2    Frodo  Hobbit            4           2        5\n",
      "3  Legolas     Elf            6           5       10\n"
     ]
    }
   ],
   "source": [
    "col_names = ['names','type','magic_power','aggression','stealth']\n",
    "df1 = df1[col_names]\n",
    "print(df1)"
   ]
  },
  {
   "cell_type": "markdown",
   "metadata": {},
   "source": [
    "### Adding more columns of data\n",
    "\n",
    "Individual columns of data may be added to a dataframe simply by defining a new column and passing a list of values to it."
   ]
  },
  {
   "cell_type": "code",
   "execution_count": 14,
   "metadata": {},
   "outputs": [
    {
     "name": "stdout",
     "output_type": "stream",
     "text": [
      "     names    type\n",
      "0  Gandolf  Wizard\n",
      "1    Gimli   Dwarf\n",
      "2    Frodo  Hobbit\n",
      "3  Legolas     Elf\n",
      "4    Bilbo  Hobbit\n",
      "\n",
      " Added column:\n",
      "      names    type  magic\n",
      "0  Gandolf  Wizard     10\n",
      "1    Gimli   Dwarf      1\n",
      "2    Frodo  Hobbit      4\n",
      "3  Legolas     Elf      6\n",
      "4    Bilbo  Hobbit      4\n"
     ]
    }
   ],
   "source": [
    "df1 = pd.DataFrame()\n",
    "names = ['Gandolf','Gimli','Frodo','Legolas','Bilbo']\n",
    "types = ['Wizard','Dwarf','Hobbit','Elf','Hobbit']\n",
    "\n",
    "df1['names'] = names\n",
    "df1['type'] = types\n",
    "\n",
    "print (df1)\n",
    "\n",
    "# Add another column\n",
    "magic = [10, 1, 4, 6, 4]\n",
    "df1['magic'] = magic\n",
    "\n",
    "print ('\\n Added column:\\n',df1)"
   ]
  },
  {
   "cell_type": "markdown",
   "metadata": {},
   "source": [
    "We can use <em>concat</em> also to add multiple columns (in the form of another dataframe), in which case the data will be combined based on the index column. We pass the argument <em>axis=1</em> to the <em>concat</em> statement to instruct the method to combine by column (it defaults to axis=0, or row concatenation)."
   ]
  },
  {
   "cell_type": "code",
   "execution_count": 15,
   "metadata": {},
   "outputs": [
    {
     "name": "stdout",
     "output_type": "stream",
     "text": [
      "     names    type\n",
      "0  Gandolf  Wizard\n",
      "1    Gimli   Dwarf\n",
      "2    Frodo  Hobbit\n",
      "3  Legolas     Elf\n",
      "4    Bilbo  Hobbit\n"
     ]
    }
   ],
   "source": [
    "df1 = pd.DataFrame()\n",
    "names = ['Gandolf','Gimli','Frodo','Legolas','Bilbo']\n",
    "types = ['Wizard','Dwarf','Hobbit','Elf','Hobbit']\n",
    "\n",
    "df1['names'] = names\n",
    "df1['type'] = types\n",
    "\n",
    "print (df1)\n",
    "\n",
    "df2 = pd.DataFrame()\n",
    "\n",
    "magic = [10, 1, 4, 6, 4]\n",
    "aggression = [7, 10, 2, 5, 1]\n",
    "stealth = [8, 2, 5, 10, 5]\n",
    "\n",
    "df2['magic_power'] = magic\n",
    "df2['aggression'] = aggression\n",
    "df2['stealth'] = stealth"
   ]
  },
  {
   "cell_type": "code",
   "execution_count": 16,
   "metadata": {},
   "outputs": [
    {
     "name": "stdout",
     "output_type": "stream",
     "text": [
      "     names    type  magic_power  aggression  stealth\n",
      "0  Gandolf  Wizard           10           7        8\n",
      "1    Gimli   Dwarf            1          10        2\n",
      "2    Frodo  Hobbit            4           2        5\n",
      "3  Legolas     Elf            6           5       10\n",
      "4    Bilbo  Hobbit            4           1        5\n"
     ]
    }
   ],
   "source": [
    "df1 = pd.concat([df1,df2], axis=1)\n",
    "print(df1)"
   ]
  },
  {
   "cell_type": "markdown",
   "metadata": {},
   "source": [
    "There is more information here: https://pandas.pydata.org/pandas-docs/stable/merging.html"
   ]
  }
 ],
 "metadata": {
  "kernelspec": {
   "display_name": "Python 3",
   "language": "python",
   "name": "python3"
  },
  "language_info": {
   "codemirror_mode": {
    "name": "ipython",
    "version": 3
   },
   "file_extension": ".py",
   "mimetype": "text/x-python",
   "name": "python",
   "nbconvert_exporter": "python",
   "pygments_lexer": "ipython3",
   "version": "3.6.4"
  }
 },
 "nbformat": 4,
 "nbformat_minor": 2
}
