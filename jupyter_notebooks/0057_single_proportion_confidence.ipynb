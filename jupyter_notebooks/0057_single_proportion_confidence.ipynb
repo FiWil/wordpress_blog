{
 "cells": [
  {
   "cell_type": "markdown",
   "metadata": {},
   "source": [
    "# Confidence Interval for a single proportion \n",
    "\n",
    "We can use statsmodels to calculate the confidence interval of the proportion of given 'successes' from a number of trials. This may the frequency of occurrence of a gene, the intention to vote in a particular way, etc."
   ]
  },
  {
   "cell_type": "code",
   "execution_count": 8,
   "metadata": {},
   "outputs": [
    {
     "name": "stdout",
     "output_type": "stream",
     "text": [
      "Lower confidence interval: 0.21034248403748906\n",
      "Upper confidence interval: 0.3729908492958443\n"
     ]
    }
   ],
   "source": [
    "import statsmodels.stats.proportion as smp\n",
    "\n",
    "# e.g. 35 out of a sample 120 (29.2%) people have a particular gene type.\n",
    "# What are the 95% confidence intervals on the proportion?\n",
    "\n",
    "lower, upper = smp.proportion_confint (35, 120, alpha=0.05, method='normal')\n",
    "\n",
    "print ('Lower confidence interval:', lower)\n",
    "print ('Upper confidence interval:', upper)"
   ]
  },
  {
   "cell_type": "code",
   "execution_count": null,
   "metadata": {},
   "outputs": [],
   "source": []
  }
 ],
 "metadata": {
  "kernelspec": {
   "display_name": "Python 3",
   "language": "python",
   "name": "python3"
  },
  "language_info": {
   "codemirror_mode": {
    "name": "ipython",
    "version": 3
   },
   "file_extension": ".py",
   "mimetype": "text/x-python",
   "name": "python",
   "nbconvert_exporter": "python",
   "pygments_lexer": "ipython3",
   "version": "3.6.4"
  }
 },
 "nbformat": 4,
 "nbformat_minor": 2
}
