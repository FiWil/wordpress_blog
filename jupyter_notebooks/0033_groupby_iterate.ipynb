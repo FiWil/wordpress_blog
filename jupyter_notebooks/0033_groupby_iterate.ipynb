{
 "cells": [
  {
   "cell_type": "markdown",
   "metadata": {},
   "source": [
    "# Subgrouping data in Pandas with groupby\n",
    "\n",
    "A very powerful feature in Pandas is to use groupby to create groups of data. Each group may then be further acted on as if it were an independent dataframe. This allows for very sophisticated operations broken down by group.\n",
    "\n",
    "Here we will create a very simple example to illustate this.\n",
    "\n",
    "Let's create our usual dataframe:"
   ]
  },
  {
   "cell_type": "code",
   "execution_count": 10,
   "metadata": {},
   "outputs": [],
   "source": [
    "import pandas as pd\n",
    "df = pd.DataFrame()\n",
    "\n",
    "names = ['Gandolf',\n",
    "         'Gimli',\n",
    "         'Frodo',\n",
    "         'Legolas',\n",
    "         'Bilbo',\n",
    "         'Sam',\n",
    "         'Pippin',\n",
    "         'Boromir',\n",
    "         'Aragorn',\n",
    "         'Galadriel',\n",
    "         'Meriadoc']\n",
    "types = ['Wizard',\n",
    "         'Dwarf',\n",
    "         'Hobbit',\n",
    "         'Elf',\n",
    "         'Hobbit',\n",
    "         'Hobbit',\n",
    "         'Hobbit',\n",
    "         'Man',\n",
    "         'Man',\n",
    "         'Elf',\n",
    "         'Hobbit']\n",
    "magic = [10, 1, 4, 6, 4, 2, 0, 0, 2, 9, 0]\n",
    "aggression = [7, 10, 2, 5, 1, 6, 3, 8, 7, 2, 4]\n",
    "stealth = [8, 2, 5, 10, 5, 4 ,5, 3, 9, 10, 6]\n",
    "\n",
    "\n",
    "df['names'] = names\n",
    "df['type'] = types\n",
    "df['magic_power'] = magic\n",
    "df['aggression'] = aggression\n",
    "df['stealth'] = stealth"
   ]
  },
  {
   "cell_type": "markdown",
   "metadata": {},
   "source": [
    "And now we will create an object 'groups' that allows us to work on those groups individually. We will group just by one parameter (type), but the groups can combine more parameters (each group produced will have identical values for the parameters used for the grouping).\n",
    "\n",
    "We create an 'iterable' object (an object that can be stepped through using groupby. We can step through members of that new groupby object. Each member has an index and a datatframe of data.\n",
    "\n",
    "Lets just print out the index and the data for each group."
   ]
  },
  {
   "cell_type": "code",
   "execution_count": 11,
   "metadata": {},
   "outputs": [
    {
     "name": "stdout",
     "output_type": "stream",
     "text": [
      "group index: Dwarf\n",
      "\n",
      "Data\n",
      "   names   type  magic_power  aggression  stealth\n",
      "1  Gimli  Dwarf            1          10        2\n",
      "group index: Elf\n",
      "\n",
      "Data\n",
      "       names type  magic_power  aggression  stealth\n",
      "3    Legolas  Elf            6           5       10\n",
      "9  Galadriel  Elf            9           2       10\n",
      "group index: Hobbit\n",
      "\n",
      "Data\n",
      "       names    type  magic_power  aggression  stealth\n",
      "2      Frodo  Hobbit            4           2        5\n",
      "4      Bilbo  Hobbit            4           1        5\n",
      "5        Sam  Hobbit            2           6        4\n",
      "6     Pippin  Hobbit            0           3        5\n",
      "10  Meriadoc  Hobbit            0           4        6\n",
      "group index: Man\n",
      "\n",
      "Data\n",
      "     names type  magic_power  aggression  stealth\n",
      "7  Boromir  Man            0           8        3\n",
      "8  Aragorn  Man            2           7        9\n",
      "group index: Wizard\n",
      "\n",
      "Data\n",
      "     names    type  magic_power  aggression  stealth\n",
      "0  Gandolf  Wizard           10           7        8\n"
     ]
    }
   ],
   "source": [
    "groups = df.groupby('type') # creates a new object of groups of data\n",
    "for index, group_df in groups: # each group has an index and a dataframe of data\n",
    "    print ('group index:', index)\n",
    "    print ('\\nData')\n",
    "    print (group_df)"
   ]
  },
  {
   "cell_type": "markdown",
   "metadata": {},
   "source": [
    "See what happened? We created six smaller dataframes, each of which was one group of the original data. We can then perform any amount of code in each of those sections. As an example, below is some code for a rather crazy method that extracts the third member of the group, but if there are fewer than three members of the group it will take the highest member that it can (the last)."
   ]
  },
  {
   "cell_type": "code",
   "execution_count": 13,
   "metadata": {},
   "outputs": [
    {
     "name": "stdout",
     "output_type": "stream",
     "text": [
      "            names    type magic_power aggression stealth\n",
      "Dwarf       Gimli   Dwarf           1         10       2\n",
      "Elf     Galadriel     Elf           9          2      10\n",
      "Hobbit        Sam  Hobbit           2          6       4\n",
      "Man       Aragorn     Man           2          7       9\n",
      "Wizard    Gandolf  Wizard          10          7       8\n"
     ]
    }
   ],
   "source": [
    "col_names = list(df) # get column names from existing dataframe\n",
    "groups = df.groupby('type') # creates a new object of groups of data\n",
    "output_df = pd.DataFrame(columns = col_names) # create empty dataframe to store new data\n",
    "\n",
    "for index, group_df in groups: # each group has an index and a dataframe of data\n",
    "    number_of_members = len(group_df)\n",
    "    get_index = min (3, number_of_members)\n",
    "    get_index -= 1 # subtract 1 to correct for zero-indexing\n",
    "    retrieved_data = group_df.iloc[get_index].values\n",
    "    output_df.loc[index] = retrieved_data\n",
    "\n",
    "print (output_df)"
   ]
  },
  {
   "cell_type": "code",
   "execution_count": null,
   "metadata": {},
   "outputs": [],
   "source": []
  }
 ],
 "metadata": {
  "kernelspec": {
   "display_name": "Python 3",
   "language": "python",
   "name": "python3"
  },
  "language_info": {
   "codemirror_mode": {
    "name": "ipython",
    "version": 3
   },
   "file_extension": ".py",
   "mimetype": "text/x-python",
   "name": "python",
   "nbconvert_exporter": "python",
   "pygments_lexer": "ipython3",
   "version": "3.6.4"
  }
 },
 "nbformat": 4,
 "nbformat_minor": 2
}
