{
 "cells": [
  {
   "cell_type": "markdown",
   "metadata": {},
   "source": [
    "# Sorting and ranking with Pandas\n",
    "\n",
    "## Sorting\n",
    "\n",
    "Pandas allows easy and flexible sorting.\n",
    "\n",
    "Let's first build a dataframe:"
   ]
  },
  {
   "cell_type": "code",
   "execution_count": 15,
   "metadata": {},
   "outputs": [],
   "source": [
    "import pandas as pd\n",
    "df = pd.DataFrame()\n",
    "\n",
    "names = ['Gandolf','Gimli','Frodo','Legolas','Bilbo']\n",
    "types = ['Wizard','Dwarf','Hobbit','Elf','Hobbit']\n",
    "magic = [10, 1, 4, 6, 4]\n",
    "aggression = [7, 10, 2, 5, 1]\n",
    "stealth = [8, 2, 5, 10, 5]\n",
    "\n",
    "df['names'] = names\n",
    "df['type'] = types\n",
    "df['magic_power'] = magic\n",
    "df['aggression'] = aggression\n",
    "df['stealth'] = stealth"
   ]
  },
  {
   "cell_type": "markdown",
   "metadata": {},
   "source": [
    "And now let's sort first by magic power and then (in reverse order aggression."
   ]
  },
  {
   "cell_type": "code",
   "execution_count": 16,
   "metadata": {},
   "outputs": [
    {
     "name": "stdout",
     "output_type": "stream",
     "text": [
      "     names    type  magic_power  aggression  stealth\n",
      "0  Gandolf  Wizard           10           7        8\n",
      "3  Legolas     Elf            6           5       10\n",
      "4    Bilbo  Hobbit            4           1        5\n",
      "2    Frodo  Hobbit            4           2        5\n",
      "1    Gimli   Dwarf            1          10        2\n"
     ]
    }
   ],
   "source": [
    "new_df = df.sort_values(['magic_power','aggression'], ascending=[False,True])\n",
    "print (new_df)"
   ]
  },
  {
   "cell_type": "markdown",
   "metadata": {},
   "source": [
    "Usually it is fine to use the default sorting method. Sometimes though you may wish to do a series of sequential sorts where you maintain the previous order within the sorted the dataframe. In that case use a mergesort by passing <em>kind = 'mergesort'</em> as one of the arguments."
   ]
  },
  {
   "cell_type": "markdown",
   "metadata": {},
   "source": [
    "We can use <em>sort_index</em> to sort by the index field. Let's sort our new dataframe by reverse index order:"
   ]
  },
  {
   "cell_type": "code",
   "execution_count": 17,
   "metadata": {},
   "outputs": [
    {
     "name": "stdout",
     "output_type": "stream",
     "text": [
      "     names    type  magic_power  aggression  stealth\n",
      "4    Bilbo  Hobbit            4           1        5\n",
      "3  Legolas     Elf            6           5       10\n",
      "2    Frodo  Hobbit            4           2        5\n",
      "1    Gimli   Dwarf            1          10        2\n",
      "0  Gandolf  Wizard           10           7        8\n"
     ]
    }
   ],
   "source": [
    "print (new_df.sort_index(ascending=False))"
   ]
  },
  {
   "cell_type": "markdown",
   "metadata": {},
   "source": [
    "## Ranking\n",
    "\n",
    "Pandas allows easy ranking of dataframes by a single column. Where two values are identical the result is the average of the number of ranks they would cover. Notice that a higher number is a higher rank."
   ]
  },
  {
   "cell_type": "code",
   "execution_count": 18,
   "metadata": {},
   "outputs": [
    {
     "name": "stdout",
     "output_type": "stream",
     "text": [
      "0    5.0\n",
      "1    1.0\n",
      "2    2.5\n",
      "3    4.0\n",
      "4    2.5\n",
      "Name: magic_power, dtype: float64\n"
     ]
    }
   ],
   "source": [
    "print (df['magic_power'].rank())"
   ]
  },
  {
   "cell_type": "markdown",
   "metadata": {},
   "source": [
    "Pandas does not offer a direct method for ranking using multiple columns. One way would be to sort the dataframe, reset the index with <em>df.reset_index()</em> and compare the index values to the original table."
   ]
  }
 ],
 "metadata": {
  "kernelspec": {
   "display_name": "Python 3",
   "language": "python",
   "name": "python3"
  },
  "language_info": {
   "codemirror_mode": {
    "name": "ipython",
    "version": 3
   },
   "file_extension": ".py",
   "mimetype": "text/x-python",
   "name": "python",
   "nbconvert_exporter": "python",
   "pygments_lexer": "ipython3",
   "version": "3.6.4"
  }
 },
 "nbformat": 4,
 "nbformat_minor": 2
}
