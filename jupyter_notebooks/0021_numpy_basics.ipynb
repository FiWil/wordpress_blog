{
 "cells": [
  {
   "cell_type": "markdown",
   "metadata": {},
   "source": [
    "# Numpy basics: building an array from lists, basic statistics, converting to booleans, referencing the array, and taking slices\n",
    "\n",
    "Most commonly we will be loading files into NumPy arrays, but here we build an array from lists and perform some basics stats on the array.\n",
    "\n",
    "The examples below construct and use a 2 dimensional array (which may be though of as 'rows and columns'). Later we will look at higher dimensional arrays."
   ]
  },
  {
   "cell_type": "markdown",
   "metadata": {},
   "source": [
    "## Building an array from lists\n",
    "\n",
    "We use the <em>np.array</em> function to build an array from existing lists. Here each list represents a row of a data table."
   ]
  },
  {
   "cell_type": "code",
   "execution_count": 108,
   "metadata": {},
   "outputs": [],
   "source": [
    "import numpy as np\n",
    "\n",
    "row0 = [23, 89,100]\n",
    "row1 = [10, 51, 99]\n",
    "row2 = [40, 78, 102]\n",
    "row3 = [35, 81, 110]\n",
    "row4 = [50, 75, 95]\n",
    "row5 = [65, 51, 101]\n",
    "\n",
    "data = np.array([row0, row1, row2, row3, row4, row5])"
   ]
  },
  {
   "cell_type": "markdown",
   "metadata": {},
   "source": [
    "We now have a data array:"
   ]
  },
  {
   "cell_type": "code",
   "execution_count": 109,
   "metadata": {},
   "outputs": [
    {
     "name": "stdout",
     "output_type": "stream",
     "text": [
      "[[ 23  89 100]\n",
      " [ 10  51  99]\n",
      " [ 40  78 102]\n",
      " [ 35  81 110]\n",
      " [ 50  75  95]\n",
      " [ 65  51 101]]\n"
     ]
    }
   ],
   "source": [
    "print (data)"
   ]
  },
  {
   "cell_type": "markdown",
   "metadata": {},
   "source": [
    "## Performing basic statistics on the array\n",
    "\n",
    "We can see, for example, the mean of all the data"
   ]
  },
  {
   "cell_type": "code",
   "execution_count": 110,
   "metadata": {},
   "outputs": [
    {
     "name": "stdout",
     "output_type": "stream",
     "text": [
      "69.72222222222223\n"
     ]
    }
   ],
   "source": [
    "print (data.mean())"
   ]
  },
  {
   "cell_type": "markdown",
   "metadata": {},
   "source": [
    "Or we can use the <em>axis</em> argument to show the mean by column or mean by row:"
   ]
  },
  {
   "cell_type": "code",
   "execution_count": 111,
   "metadata": {},
   "outputs": [
    {
     "name": "stdout",
     "output_type": "stream",
     "text": [
      "[ 37.16666667  70.83333333 101.16666667]\n",
      "[70.66666667 53.33333333 73.33333333 75.33333333 73.33333333 72.33333333]\n"
     ]
    }
   ],
   "source": [
    "print (np.mean(data,axis=0)) # average all rows in each column\n",
    "print (np.mean(data,axis=1)) # average all columns in each row"
   ]
  },
  {
   "cell_type": "markdown",
   "metadata": {},
   "source": [
    "Some other commonly used statsitcs (all of which are by column, or dimension 0, below):"
   ]
  },
  {
   "cell_type": "code",
   "execution_count": 112,
   "metadata": {},
   "outputs": [
    {
     "name": "stdout",
     "output_type": "stream",
     "text": [
      "Mean:\n",
      " [ 37.16666667  70.83333333 101.16666667]\n",
      "Median:\n",
      " [ 37.5  76.5 100.5]\n",
      "Sum:\n",
      " [223 425 607]\n",
      "Maximum:\n",
      " [ 65  89 110]\n",
      "Minimum\n",
      ": [10 51 95]\n",
      "Range:\n",
      " [55 38 15]\n",
      "10th percentile:\n",
      " [16.5 51.  97. ]\n",
      "90th percentile:\n",
      " [ 57.5  85.  106. ]\n",
      "Population standard deviation\n",
      " [17.75215167 14.6562463   4.52462399]\n",
      "Sample standard deviation:\n",
      " [19.44650783 16.05511341  4.95647724]\n",
      "Population variance:\n",
      " [315.13888889 214.80555556  20.47222222]\n",
      "Sample variance:\n",
      " [378.16666667 257.76666667  24.56666667]\n"
     ]
    }
   ],
   "source": [
    "print ('Mean:\\n', np.mean(data, axis=0))\n",
    "print ('Median:\\n', np.median(data, axis=0))\n",
    "print ('Sum:\\n', np.sum(data, axis=0))\n",
    "print ('Maximum:\\n', np.max(data,axis=0))\n",
    "print ('Minimum\\n:', np.min(data,axis= 0))\n",
    "print ('Range:\\n', np.ptp(data, axis=0))\n",
    "print ('10th percentile:\\n', np.percentile(data, 10, axis=0))\n",
    "print ('90th percentile:\\n', np.percentile(data, 90, axis=0))\n",
    "print ('Population standard deviation\\n' ,np.std(data, axis=0))\n",
    "print ('Sample standard deviation:\\n', np.std(data, axis=0, ddof=1)) \n",
    "print ('Population variance:\\n', np.var(data, axis=0))\n",
    "print ('Sample variance:\\n', np.var(data, axis=0, ddof=1))"
   ]
  },
  {
   "cell_type": "markdown",
   "metadata": {},
   "source": [
    "The returned array may be referenced by index number (beginning at zero):"
   ]
  },
  {
   "cell_type": "code",
   "execution_count": 113,
   "metadata": {},
   "outputs": [
    {
     "name": "stdout",
     "output_type": "stream",
     "text": [
      "37.166666666666664\n"
     ]
    }
   ],
   "source": [
    "results = np.mean(data, axis=0)\n",
    "\n",
    "print (results[0])"
   ]
  },
  {
   "cell_type": "markdown",
   "metadata": {},
   "source": [
    "Basic python may also be incorporated into the statistics. For example the 10th percentiles, from 0 to 100 may be calculated in a loop (remember that the standard Python range function goes up to, but does not include, the maximum value given, so we need to put a higher maximum than 100 in order to include the 100th percentile in the loop):"
   ]
  },
  {
   "cell_type": "code",
   "execution_count": 114,
   "metadata": {},
   "outputs": [
    {
     "name": "stdout",
     "output_type": "stream",
     "text": [
      "0 percentile: [10. 51. 95.]\n",
      "10 percentile: [16.5 51.  97. ]\n",
      "20 percentile: [23. 51. 99.]\n",
      "30 percentile: [29.  63.  99.5]\n",
      "40 percentile: [ 35.  75. 100.]\n",
      "50 percentile: [ 37.5  76.5 100.5]\n",
      "60 percentile: [ 40.  78. 101.]\n",
      "70 percentile: [ 45.   79.5 101.5]\n",
      "80 percentile: [ 50.  81. 102.]\n",
      "90 percentile: [ 57.5  85.  106. ]\n",
      "100 percentile: [ 65.  89. 110.]\n"
     ]
    }
   ],
   "source": [
    "for percent in range(0,101,10):\n",
    "    print(percent,'percentile:',np.percentile(data, percent, axis=0))"
   ]
  },
  {
   "cell_type": "markdown",
   "metadata": {},
   "source": [
    "## Converting values to a boolean True/False\n",
    "\n",
    "We can use test values against some standard. For example, here we test whether a value is equal to, or greater than, the mean of the column."
   ]
  },
  {
   "cell_type": "code",
   "execution_count": 115,
   "metadata": {},
   "outputs": [
    {
     "name": "stdout",
     "output_type": "stream",
     "text": [
      "[[False  True False]\n",
      " [False False False]\n",
      " [ True  True  True]\n",
      " [False  True  True]\n",
      " [ True  True False]\n",
      " [ True False False]]\n"
     ]
    }
   ],
   "source": [
    "column_mean = np.mean(data, axis=0)\n",
    "greater_than_mean = data >= column_mean\n",
    "print (greater_than_mean)"
   ]
  },
  {
   "cell_type": "raw",
   "metadata": {},
   "source": [
    "True/False values in Python may also be used in calculations where False has an equivalent value to zero, and True has an equivalent value to 1."
   ]
  },
  {
   "cell_type": "code",
   "execution_count": 116,
   "metadata": {},
   "outputs": [
    {
     "name": "stdout",
     "output_type": "stream",
     "text": [
      "[0.5        0.66666667 0.33333333]\n"
     ]
    }
   ],
   "source": [
    "print (np.mean(greater_than_mean, axis=0))"
   ]
  },
  {
   "cell_type": "markdown",
   "metadata": {},
   "source": [
    "## Referencing arrays and taking slices\n",
    "\n",
    "NumPy arrays are referenced similar to lists, except we have two (or more dimensions). For a two dimensional array the reference is [dimension_0, dimension 1], which is equvalent to [row, column].\n",
    "\n",
    "REMEMBER: Like lists, indices start at index zero, and when taking a slice the slice goes up to, but does not include, the maximum value given."
   ]
  },
  {
   "cell_type": "code",
   "execution_count": 117,
   "metadata": {},
   "outputs": [
    {
     "name": "stdout",
     "output_type": "stream",
     "text": [
      "Row zero:\n",
      " [ 23  89 100]\n",
      "Column one:\n",
      " [89 51 78 81 75 51]\n",
      "Rows 0-3, Column zero:\n",
      " [23 10 40 35]\n",
      "Row 1, Column 2\n",
      " 99\n"
     ]
    }
   ],
   "source": [
    "print ('Row zero:\\n', data[0,:])\n",
    "print ('Column one:\\n', data[:,1])\n",
    "# Note in the example below a slice goes up to ,but dot include, the maximum index\n",
    "print ('Rows 0-3, Column zero:\\n', data[0:4,0])\n",
    "print ('Row 1, Column 2\\n', data[1,2])"
   ]
  }
 ],
 "metadata": {
  "kernelspec": {
   "display_name": "Python 3",
   "language": "python",
   "name": "python3"
  },
  "language_info": {
   "codemirror_mode": {
    "name": "ipython",
    "version": 3
   },
   "file_extension": ".py",
   "mimetype": "text/x-python",
   "name": "python",
   "nbconvert_exporter": "python",
   "pygments_lexer": "ipython3",
   "version": "3.6.4"
  }
 },
 "nbformat": 4,
 "nbformat_minor": 2
}
