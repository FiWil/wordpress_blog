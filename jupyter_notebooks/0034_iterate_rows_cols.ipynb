{
 "cells": [
  {
   "cell_type": "markdown",
   "metadata": {},
   "source": [
    "# Iterating through columns and rows in NumPy and Pandas\n",
    "\n",
    "Using <em>apply_along_axis</em> (NumPy) or <em>apply</em> is a more Pythonic way of iterating through data in NumPy and Pandas. But there may be occasions you wish to simply work your way through rows or columns in NumPy and Pandas. Here is how it is done."
   ]
  },
  {
   "cell_type": "markdown",
   "metadata": {},
   "source": [
    "## Numpy\n",
    "\n",
    "NumPy is set up to iterate through rows when a loop is declared."
   ]
  },
  {
   "cell_type": "code",
   "execution_count": 12,
   "metadata": {},
   "outputs": [
    {
     "name": "stdout",
     "output_type": "stream",
     "text": [
      "Array:\n",
      "[[12 40 30 93 99]\n",
      " [62 85 89 26 17]\n",
      " [93 34 67 59 56]]\n",
      "\n",
      "Average of rows:\n",
      "54.8\n",
      "55.8\n",
      "61.8\n"
     ]
    }
   ],
   "source": [
    "import numpy as np\n",
    "\n",
    "# Create an array of random numbers (3 rows, 5 columns)\n",
    "array = np.random.randint(0,100,size=(3,5))\n",
    "\n",
    "print ('Array:')\n",
    "print (array)\n",
    "print ('\\nAverage of rows:')\n",
    "\n",
    "# iterate through rows:\n",
    "for row in array:\n",
    "    print (row.mean())"
   ]
  },
  {
   "cell_type": "markdown",
   "metadata": {},
   "source": [
    "To iterate through columns we transpose the array with .T so that rows become columns (and vice versa):"
   ]
  },
  {
   "cell_type": "code",
   "execution_count": 13,
   "metadata": {},
   "outputs": [
    {
     "name": "stdout",
     "output_type": "stream",
     "text": [
      "\n",
      "Tranposed array:\n",
      "[[12 62 93]\n",
      " [40 85 34]\n",
      " [30 89 67]\n",
      " [93 26 59]\n",
      " [99 17 56]]\n",
      "\n",
      "Average of original columns:\n",
      "55.666666666666664\n",
      "53.0\n",
      "62.0\n",
      "59.333333333333336\n",
      "57.333333333333336\n"
     ]
    }
   ],
   "source": [
    "print('\\nTransposed array:')\n",
    "print (array.T)\n",
    "print ('\\nAverage of original columns:')\n",
    "\n",
    "for row_t in array.T:\n",
    "    print (row_t.mean())"
   ]
  },
  {
   "cell_type": "markdown",
   "metadata": {},
   "source": [
    "## Pandas\n",
    "\n",
    "Lets first create our data:"
   ]
  },
  {
   "cell_type": "code",
   "execution_count": 14,
   "metadata": {},
   "outputs": [],
   "source": [
    "import pandas as pd\n",
    "df = pd.DataFrame()\n",
    "\n",
    "names = ['Gandolf',\n",
    "         'Gimli',\n",
    "         'Frodo',\n",
    "         'Legolas',\n",
    "         'Bilbo',\n",
    "         'Sam',\n",
    "         'Pippin',\n",
    "         'Boromir',\n",
    "         'Aragorn',\n",
    "         'Galadriel',\n",
    "         'Meriadoc']\n",
    "types = ['Wizard',\n",
    "         'Dwarf',\n",
    "         'Hobbit',\n",
    "         'Elf',\n",
    "         'Hobbit',\n",
    "         'Hobbit',\n",
    "         'Hobbit',\n",
    "         'Man',\n",
    "         'Man',\n",
    "         'Elf',\n",
    "         'Hobbit']\n",
    "magic = [10, 1, 4, 6, 4, 2, 0, 0, 2, 9, 0]\n",
    "aggression = [7, 10, 2, 5, 1, 6, 3, 8, 7, 2, 4]\n",
    "stealth = [8, 2, 5, 10, 5, 4 ,5, 3, 9, 10, 6]\n",
    "\n",
    "df['names'] = names\n",
    "df['type'] = types\n",
    "df['magic_power'] = magic\n",
    "df['aggression'] = aggression\n",
    "df['stealth'] = stealth"
   ]
  },
  {
   "cell_type": "markdown",
   "metadata": {},
   "source": [
    "To iterate throw rows in a Pandas dataframe we use .iterrows():"
   ]
  },
  {
   "cell_type": "code",
   "execution_count": 15,
   "metadata": {},
   "outputs": [
    {
     "name": "stdout",
     "output_type": "stream",
     "text": [
      "Gandolf is a Wizard\n",
      "Gimli is a Dwarf\n",
      "Frodo is a Hobbit\n",
      "Legolas is a Elf\n",
      "Bilbo is a Hobbit\n",
      "Sam is a Hobbit\n",
      "Pippin is a Hobbit\n",
      "Boromir is a Man\n",
      "Aragorn is a Man\n",
      "Galadriel is a Elf\n",
      "Meriadoc is a Hobbit\n"
     ]
    }
   ],
   "source": [
    "for index, row in df.iterrows():\n",
    "    print(row[0], 'is a', row[1])"
   ]
  },
  {
   "cell_type": "markdown",
   "metadata": {},
   "source": [
    "To iterate through columns we need to do just a bit more manual work, creating a list of dataframe columns and then iterating through that list to pull out the dataframe columns:"
   ]
  },
  {
   "cell_type": "code",
   "execution_count": 16,
   "metadata": {},
   "outputs": [
    {
     "name": "stdout",
     "output_type": "stream",
     "text": [
      "Frodo\n",
      "Hobbit\n",
      "4\n",
      "2\n",
      "5\n"
     ]
    }
   ],
   "source": [
    "columns = list(df)\n",
    "for column in columns:\n",
    "    print (df[column][2]) # print the third element of the column"
   ]
  }
 ],
 "metadata": {
  "kernelspec": {
   "display_name": "Python 3",
   "language": "python",
   "name": "python3"
  },
  "language_info": {
   "codemirror_mode": {
    "name": "ipython",
    "version": 3
   },
   "file_extension": ".py",
   "mimetype": "text/x-python",
   "name": "python",
   "nbconvert_exporter": "python",
   "pygments_lexer": "ipython3",
   "version": "3.6.4"
  }
 },
 "nbformat": 4,
 "nbformat_minor": 2
}
