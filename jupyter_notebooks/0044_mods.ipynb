{
 "cells": [
  {
   "cell_type": "markdown",
   "metadata": {},
   "source": [
    "# Common modifications to charts\n",
    "\n",
    "Here we show some common modifications to charts. These include:\n",
    "\n",
    "* Changing scatter plot point style\n",
    "* Changing line plot line and marker style\n",
    "* Adding a legend\n",
    "* Adding some text\n",
    "* Changing axis scales\n",
    "* Changing axis ticks\n",
    "* Adding a grid\n",
    "* Adding axis tiles \n",
    "* Adding chart title\n"
   ]
  },
  {
   "cell_type": "code",
   "execution_count": 48,
   "metadata": {},
   "outputs": [
    {
     "data": {
      "image/png": "[encoded data removed]",
      "text/plain": [
       "<matplotlib.figure.Figure at 0x7f2140635b00>"
      ]
     },
     "metadata": {},
     "output_type": "display_data"
    }
   ],
   "source": [
    "import matplotlib.pyplot as plt\n",
    "import numpy as np\n",
    "import matplotlib.ticker as ticker\n",
    "\n",
    "%matplotlib inline\n",
    "\n",
    "data=np.random.rand(100,2)\n",
    "\n",
    "# To give us maximum control over axes we set up the figure in this way:\n",
    "\n",
    "ax1 = plt.figure().add_subplot(111)\n",
    "\n",
    "# Add scatter plot\n",
    "# Adjust scatter plot points by shape (marker), size (s),\n",
    "# color, and edgecolour. Add a label for legend.\n",
    "\n",
    "ax1.scatter(data[:,0],data[:,1],\n",
    "            marker='s',\n",
    "            s = 20,\n",
    "            color = 'w',\n",
    "            edgecolors = 'k',\n",
    "            label  = 'scatter points')\n",
    "           \n",
    "x = np.linspace(0,1,100)\n",
    "y = np.linspace(0,1,100)\n",
    "\n",
    "# Add line plot\n",
    "# Adjust line for colour, style, and width, and marker\n",
    "# shape, frequency, and coloring. Colours may be given by letter\n",
    "# or by a number between '0.0' (black) and '1.0' (white)\n",
    "# Add a label for legend.\n",
    "\n",
    "ax1.plot(x,y,\n",
    "        color = 'r',\n",
    "        linestyle = '--',\n",
    "        linewidth = 5, \n",
    "        marker = 'o', \n",
    "        markevery = 10,\n",
    "        markersize=9,\n",
    "        markeredgewidth=1.5,\n",
    "        markerfacecolor='0.75',\n",
    "        markeredgecolor='k',\n",
    "        label  = 'line')\n",
    "\n",
    "# Adjust axes limits\n",
    "\n",
    "ax1.set_xlim(-0.2,1.2)\n",
    "ax1.set_ylim(-0.2,1.2)\n",
    "\n",
    "# Adjust axes tickmarks\n",
    "\n",
    "ax1.xaxis.set_major_locator(ticker.MultipleLocator(0.2))\n",
    "ax1.xaxis.set_minor_locator(ticker.MultipleLocator(0.1))\n",
    "ax1.yaxis.set_major_locator(ticker.MultipleLocator(0.2))\n",
    "ax1.yaxis.set_minor_locator(ticker.MultipleLocator(0.1))\n",
    "\n",
    "# Add a grid\n",
    "\n",
    "ax1.grid(True, which='both') # which may be major, minor or both\n",
    "\n",
    "# Add axis titles\n",
    "\n",
    "ax1.set_xlabel('x', size = 15)\n",
    "ax1.set_ylabel('y', size = 15)\n",
    "# Add a title\n",
    "\n",
    "ax1.set_title ('Modifying a chart', size = 20)\n",
    "\n",
    "# Add some text at a given position\n",
    "\n",
    "plt.text(0.7,1.1,'I am some text')\n",
    "\n",
    "# Add the legend\n",
    "\n",
    "ax1.legend() # see help (plt.legend) for options\n",
    "\n",
    "plt.show()\n"
   ]
  },
  {
   "cell_type": "code",
   "execution_count": null,
   "metadata": {},
   "outputs": [],
   "source": []
  }
 ],
 "metadata": {
  "kernelspec": {
   "display_name": "Python 3",
   "language": "python",
   "name": "python3"
  },
  "language_info": {
   "codemirror_mode": {
    "name": "ipython",
    "version": 3
   },
   "file_extension": ".py",
   "mimetype": "text/x-python",
   "name": "python",
   "nbconvert_exporter": "python",
   "pygments_lexer": "ipython3",
   "version": "3.6.4"
  }
 },
 "nbformat": 4,
 "nbformat_minor": 2
}
