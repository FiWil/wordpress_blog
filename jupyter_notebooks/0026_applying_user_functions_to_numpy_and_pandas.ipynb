{
 "cells": [
  {
   "cell_type": "code",
   "execution_count": null,
   "metadata": {},
   "outputs": [],
   "source": []
  },
  {
   "cell_type": "markdown",
   "metadata": {},
   "source": [
    "# Applying user-defined functions to NumPy and Pandas\n",
    "\n",
    "Both NumPy and Pandas allow user to functions to applied to all rows and columns (and other axes in NumPy, if multidimensional arrays are used)\n",
    "\n",
    "## Numpy\n",
    "\n",
    "In NumPy we will use the <em>apply_along_axis</em> method to apply a user-defined function to each row and column.\n",
    "\n",
    "Let's first set up an array and define a function. We will use a simple user-defined function for illustrative purposes - one that returns the position of the highest value in the slice passed to the function. In NumPy we use <em>argmax</em> for finding the position of the highest values."
   ]
  },
  {
   "cell_type": "code",
   "execution_count": 26,
   "metadata": {},
   "outputs": [],
   "source": [
    "import numpy as np\n",
    "import pandas as pd\n",
    "\n",
    "my_array = np.array([[10,2,13],\n",
    "                     [21,22,23],\n",
    "                     [31,32,33],\n",
    "                     [10,57,20],\n",
    "                     [20,20,20],\n",
    "                     [101,91,10]])\n",
    "\n",
    "\n",
    "def my_function(x):\n",
    "    position = np.argmax(x)\n",
    "    return position"
   ]
  },
  {
   "cell_type": "markdown",
   "metadata": {},
   "source": [
    "Using <em>axis=0</em> we can apply that function to all columns:"
   ]
  },
  {
   "cell_type": "code",
   "execution_count": 27,
   "metadata": {},
   "outputs": [
    {
     "name": "stdout",
     "output_type": "stream",
     "text": [
      "[5 5 2]\n"
     ]
    }
   ],
   "source": [
    "print (np.apply_along_axis(my_function, axis=0, arr=my_array))"
   ]
  },
  {
   "cell_type": "markdown",
   "metadata": {},
   "source": [
    "Using <em>axis=1</em> we can apply that function to all rows:"
   ]
  },
  {
   "cell_type": "code",
   "execution_count": 28,
   "metadata": {},
   "outputs": [
    {
     "name": "stdout",
     "output_type": "stream",
     "text": [
      "[2 2 2 1 0 0]\n"
     ]
    }
   ],
   "source": [
    "print (np.apply_along_axis(my_function, axis=1, arr=my_array))"
   ]
  },
  {
   "cell_type": "markdown",
   "metadata": {},
   "source": [
    "## Pandas\n",
    "\n",
    "Pandas has a similar method, the <em>apply</em> method for applying a user function by either row or column. The Pandas method for determining the position of the highest value is <em>idxmax</em>. \n",
    "\n",
    "We will convert our NumPy array to a Pandas dataframe, define our function, and then apply it to all columns. Notice that becase we are working in Pandas the returned value is a Pandas series (equivalent to a DataFrame, but with one one axis) with an index value. "
   ]
  },
  {
   "cell_type": "code",
   "execution_count": 29,
   "metadata": {},
   "outputs": [
    {
     "name": "stdout",
     "output_type": "stream",
     "text": [
      "0    5\n",
      "1    5\n",
      "2    2\n",
      "dtype: int64\n"
     ]
    }
   ],
   "source": [
    "import pandas as pd\n",
    "\n",
    "df = pd.DataFrame(my_array)\n",
    "\n",
    "def my_function(x):\n",
    "    z= x.idxmax()\n",
    "    return z\n",
    "\n",
    "print(df.apply(my_function, axis=0))"
   ]
  },
  {
   "cell_type": "markdown",
   "metadata": {},
   "source": [
    "And applying it to all rows:"
   ]
  },
  {
   "cell_type": "code",
   "execution_count": 30,
   "metadata": {},
   "outputs": [
    {
     "name": "stdout",
     "output_type": "stream",
     "text": [
      "0    2\n",
      "1    2\n",
      "2    2\n",
      "3    1\n",
      "4    0\n",
      "5    0\n",
      "dtype: int64\n"
     ]
    }
   ],
   "source": [
    "print(df.apply(my_function, axis=1))"
   ]
  }
 ],
 "metadata": {
  "kernelspec": {
   "display_name": "Python 3",
   "language": "python",
   "name": "python3"
  },
  "language_info": {
   "codemirror_mode": {
    "name": "ipython",
    "version": 3
   },
   "file_extension": ".py",
   "mimetype": "text/x-python",
   "name": "python",
   "nbconvert_exporter": "python",
   "pygments_lexer": "ipython3",
   "version": "3.6.4"
  }
 },
 "nbformat": 4,
 "nbformat_minor": 2
}
