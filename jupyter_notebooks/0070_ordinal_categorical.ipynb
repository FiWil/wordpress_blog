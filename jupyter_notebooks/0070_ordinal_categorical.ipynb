{
 "cells": [
  {
   "cell_type": "markdown",
   "metadata": {},
   "source": [
    "# Dealing with ordinal and categorical data\n",
    "\n",
    "Some data sets may have ordinal data, which are descriptions with a natural order, such as small, medium large. There may also be categorical data which has no obvious order like green, blue, red. We'll usually want to convert both of these into numbers for use by machine learning models.\n",
    "\n",
    "Let's look at an example:"
   ]
  },
  {
   "cell_type": "code",
   "execution_count": 8,
   "metadata": {},
   "outputs": [
    {
     "name": "stdout",
     "output_type": "stream",
     "text": [
      "  colour     size\n",
      "0  green    small\n",
      "1  green    small\n",
      "2    red    large\n",
      "3   blue   medium\n",
      "4  green   medium\n",
      "5    red  x large\n",
      "6    red  x small\n"
     ]
    }
   ],
   "source": [
    "import pandas as pd\n",
    "\n",
    "colour = ['green', 'green', 'red', 'blue', 'green', 'red','red']\n",
    "size = ['small', 'small', 'large', 'medium', 'medium','x large', 'x small']\n",
    "\n",
    "df = pd.DataFrame()\n",
    "df['colour'] = colour\n",
    "df['size'] = size\n",
    "\n",
    "print (df)"
   ]
  },
  {
   "cell_type": "markdown",
   "metadata": {},
   "source": [
    "## Working with ordinal data"
   ]
  },
  {
   "cell_type": "markdown",
   "metadata": {},
   "source": [
    "One of our columns is obviously ordinal data: size has a natural order to it. We can convert this text to a number by mapping  a dictionary to the column. We will create a new column (size_number) which replaces the text with a number."
   ]
  },
  {
   "cell_type": "code",
   "execution_count": 9,
   "metadata": {},
   "outputs": [
    {
     "name": "stdout",
     "output_type": "stream",
     "text": [
      "  colour     size  size_number\n",
      "0  green    small            2\n",
      "1  green    small            2\n",
      "2    red    large            4\n",
      "3   blue   medium            3\n",
      "4  green   medium            3\n",
      "5    red  x large            5\n",
      "6    red  x small            1\n"
     ]
    }
   ],
   "source": [
    "# Define mapping dictionary:\n",
    "\n",
    "size_classes = {'x small': 1,\n",
    "                'small': 2,\n",
    "                'medium': 3,\n",
    "                'large': 4,\n",
    "                'x large': 5}\n",
    "\n",
    "# Map to dataframe and put results in a new column:\n",
    "\n",
    "df['size_number'] = df['size'].map(size_classes)\n",
    "\n",
    "# Display th new dataframe:\n",
    "\n",
    "print (df)"
   ]
  },
  {
   "cell_type": "markdown",
   "metadata": {},
   "source": [
    "## Working with categorical data\n",
    "\n",
    "There is no obvious sensible mapping of colour to a number. So in this case we create an extra column for each colour and put a one in the relevant column. For this we use pandas <em>get_dummies</em> method.    "
   ]
  },
  {
   "cell_type": "code",
   "execution_count": 10,
   "metadata": {},
   "outputs": [
    {
     "name": "stdout",
     "output_type": "stream",
     "text": [
      "   blue  green  red\n",
      "0     0      1    0\n",
      "1     0      1    0\n",
      "2     0      0    1\n",
      "3     1      0    0\n",
      "4     0      1    0\n",
      "5     0      0    1\n",
      "6     0      0    1\n"
     ]
    }
   ],
   "source": [
    "colours_df = pd.get_dummies(df['colour'])\n",
    "\n",
    "print (colours_df)"
   ]
  },
  {
   "cell_type": "markdown",
   "metadata": {},
   "source": [
    "We then combine the new dataframe with the original one, and we can delete the temporary one we made:"
   ]
  },
  {
   "cell_type": "code",
   "execution_count": 11,
   "metadata": {},
   "outputs": [
    {
     "name": "stdout",
     "output_type": "stream",
     "text": [
      "  colour     size  size_number  blue  green  red\n",
      "0  green    small            2     0      1    0\n",
      "1  green    small            2     0      1    0\n",
      "2    red    large            4     0      0    1\n",
      "3   blue   medium            3     1      0    0\n",
      "4  green   medium            3     0      1    0\n",
      "5    red  x large            5     0      0    1\n",
      "6    red  x small            1     0      0    1\n"
     ]
    }
   ],
   "source": [
    "df = pd.concat([df, colours_df], axis=1, join='inner')\n",
    "\n",
    "del colours_df\n",
    "\n",
    "print (df)"
   ]
  },
  {
   "cell_type": "markdown",
   "metadata": {},
   "source": [
    "## Selecting just our new columns\n",
    "\n",
    "At the moment we have both the orginal data and the transformed data. For use in the model we would just keep the new columns. Here we'll use the pandas <em>loc</em> method to select column slices from size_number onwards:"
   ]
  },
  {
   "cell_type": "code",
   "execution_count": 17,
   "metadata": {},
   "outputs": [
    {
     "name": "stdout",
     "output_type": "stream",
     "text": [
      "   size_number  blue  green  red\n",
      "0            2     0      1    0\n",
      "1            2     0      1    0\n",
      "2            4     0      0    1\n",
      "3            3     1      0    0\n",
      "4            3     0      1    0\n",
      "5            5     0      0    1\n",
      "6            1     0      0    1\n"
     ]
    }
   ],
   "source": [
    "df1 = (df.loc[:,'size_number':])\n",
    "\n",
    "print (df1)"
   ]
  },
  {
   "cell_type": "code",
   "execution_count": null,
   "metadata": {},
   "outputs": [],
   "source": []
  }
 ],
 "metadata": {
  "kernelspec": {
   "display_name": "Python 3",
   "language": "python",
   "name": "python3"
  },
  "language_info": {
   "codemirror_mode": {
    "name": "ipython",
    "version": 3
   },
   "file_extension": ".py",
   "mimetype": "text/x-python",
   "name": "python",
   "nbconvert_exporter": "python",
   "pygments_lexer": "ipython3",
   "version": "3.6.4"
  }
 },
 "nbformat": 4,
 "nbformat_minor": 2
}
