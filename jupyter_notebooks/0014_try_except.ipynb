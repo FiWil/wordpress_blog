{
 "cells": [
  {
   "cell_type": "markdown",
   "metadata": {},
   "source": [
    "# try .... except (where code might fail)\n",
    "\n",
    "In perfect code all eventualities will be antcipated and code written for all eventualities. Sometimes though we might want to allow for more general failure of code and provide an alternative route.\n",
    "\n",
    "In the following code we try to perform some code on a list. For the code to work the list must be long enough and the number must be positive. We use try .... except to perform the calculation where possible and return a null value if not.\n",
    "\n",
    "In Python an error is called an 'exception'."
   ]
  },
  {
   "cell_type": "code",
   "execution_count": 8,
   "metadata": {},
   "outputs": [
    {
     "name": "stdout",
     "output_type": "stream",
     "text": [
      "Index position?: 2\n",
      "Sorry, no can do\n"
     ]
    }
   ],
   "source": [
    "import math\n",
    "x = [1, 2, -4]\n",
    "# Try to take the square root of elements of a list.\n",
    "# As a user try entering a list index too high (3 or higher)\n",
    "# or try to enter index 2 (which has a negative value, -4)\n",
    "test = int(input('Index position?: '))\n",
    "try:\n",
    "    print (math.sqrt(x[test]))\n",
    "except:\n",
    "    print ('Sorry, no can do')"
   ]
  },
  {
   "cell_type": "raw",
   "metadata": {},
   "source": [
    "Try .... except may be used in final code (but it is better to allow for all specific circumstances) or may be used during debugging to evaluate variables at the time of code failure"
   ]
  }
 ],
 "metadata": {
  "kernelspec": {
   "display_name": "Python 3",
   "language": "python",
   "name": "python3"
  },
  "language_info": {
   "codemirror_mode": {
    "name": "ipython",
    "version": 3
   },
   "file_extension": ".py",
   "mimetype": "text/x-python",
   "name": "python",
   "nbconvert_exporter": "python",
   "pygments_lexer": "ipython3",
   "version": "3.6.4"
  }
 },
 "nbformat": 4,
 "nbformat_minor": 2
}
