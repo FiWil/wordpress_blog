{
 "cells": [
  {
   "cell_type": "markdown",
   "metadata": {},
   "source": [
    "## Using Pandas to merge or lookup data\n",
    "\n",
    "Sometimes we may want to cross-reference data between different data tables. This may be in order to perform a full merge of data, or just to produce a summary lookup table referencing across different tables."
   ]
  },
  {
   "cell_type": "code",
   "execution_count": 18,
   "metadata": {},
   "outputs": [],
   "source": [
    "import numpy as np\n",
    "import pandas as pd\n",
    "\n",
    "# Set up the first data frame\n",
    "\n",
    "df1 = pd.DataFrame()\n",
    "\n",
    "names = ['Gandolf','Gimli','Frodo','Legolas','Bilbo']\n",
    "types = ['Wizard','Dwarf','Hobbit','Elf','Hobbit']\n",
    "magic = [10, 1, 4, 6, 4]\n",
    "aggression = [7, 10, 2, 5, 1]\n",
    "stealth = [8, 2, 5, 10, 5]\n",
    "\n",
    "df1['names'] = names\n",
    "df1['type'] = types\n",
    "df1['magic_power'] = magic\n",
    "df1['aggression'] = aggression\n",
    "df1['stealth'] = stealth\n",
    "\n",
    "# Set up the second dataframe\n",
    "\n",
    "names = ['Gandolf','Gimli','Frodo','Aragorn','Sauron']\n",
    "popularity = ['High','Medium','High','Medium','Low']\n",
    "\n",
    "df2 = pd.DataFrame()\n",
    "\n",
    "df2['name'] = names\n",
    "df2['popularity'] = popularity"
   ]
  },
  {
   "cell_type": "markdown",
   "metadata": {},
   "source": [
    "We will look here at where the reference fields are not the index fields. We are going to want to merge using 'names' in df1 and 'name' in df2, and we are going to keep all records from df1, and add data from df2 where it is available."
   ]
  },
  {
   "cell_type": "code",
   "execution_count": 23,
   "metadata": {},
   "outputs": [
    {
     "name": "stdout",
     "output_type": "stream",
     "text": [
      "     names    type  magic_power  aggression  stealth     name popularity\n",
      "0  Gandolf  Wizard           10           7        8  Gandolf       High\n",
      "1    Gimli   Dwarf            1          10        2    Gimli     Medium\n",
      "2    Frodo  Hobbit            4           2        5    Frodo       High\n",
      "3  Legolas     Elf            6           5       10      NaN        NaN\n",
      "4    Bilbo  Hobbit            4           1        5      NaN        NaN\n"
     ]
    }
   ],
   "source": [
    "merged_df = pd.merge(df1, df2, \n",
    "                     left_on = 'names', \n",
    "                     right_on = 'name', \n",
    "                     how='left')\n",
    "\n",
    "print (merged_df)"
   ]
  },
  {
   "cell_type": "markdown",
   "metadata": {},
   "source": [
    "We can keep all data from both databases by using <em>how=outer</em> (an outer database join)."
   ]
  },
  {
   "cell_type": "code",
   "execution_count": 24,
   "metadata": {},
   "outputs": [
    {
     "name": "stdout",
     "output_type": "stream",
     "text": [
      "     names    type  magic_power  aggression  stealth     name popularity\n",
      "0  Gandolf  Wizard         10.0         7.0      8.0  Gandolf       High\n",
      "1    Gimli   Dwarf          1.0        10.0      2.0    Gimli     Medium\n",
      "2    Frodo  Hobbit          4.0         2.0      5.0    Frodo       High\n",
      "3  Legolas     Elf          6.0         5.0     10.0      NaN        NaN\n",
      "4    Bilbo  Hobbit          4.0         1.0      5.0      NaN        NaN\n",
      "5      NaN     NaN          NaN         NaN      NaN  Aragorn     Medium\n",
      "6      NaN     NaN          NaN         NaN      NaN   Sauron        Low\n"
     ]
    }
   ],
   "source": [
    "merged_df = pd.merge(df1, df2, \n",
    "                     left_on = 'names', \n",
    "                     right_on = 'name', \n",
    "                     how='outer')\n",
    "\n",
    "print (merged_df)"
   ]
  },
  {
   "cell_type": "markdown",
   "metadata": {},
   "source": [
    "Or we could use <em>how=inner</em> to produce a dataframe for only the rows with reference columns in both dataframes, or <em>how=right</em> to keep all rows in df2 and add data from df1 where it exists."
   ]
  },
  {
   "cell_type": "markdown",
   "metadata": {},
   "source": [
    "In the above examples we have returned all fields both both datframes. We can choose to select just the fields we wish to return (though we need the reference field from both dataframes):"
   ]
  },
  {
   "cell_type": "code",
   "execution_count": 34,
   "metadata": {},
   "outputs": [
    {
     "name": "stdout",
     "output_type": "stream",
     "text": [
      "     names    type     name popularity\n",
      "0  Gandolf  Wizard  Gandolf       High\n",
      "1    Gimli   Dwarf    Gimli     Medium\n",
      "2    Frodo  Hobbit    Frodo       High\n",
      "3  Legolas     Elf      NaN        NaN\n",
      "4    Bilbo  Hobbit      NaN        NaN\n"
     ]
    }
   ],
   "source": [
    "merged_df = pd.merge(df1[['names','type']],\n",
    "                     df2[['name','popularity']],\n",
    "                     left_on = 'names', \n",
    "                     right_on = 'name', \n",
    "                     how='left')\n",
    "\n",
    "print (merged_df)"
   ]
  },
  {
   "cell_type": "markdown",
   "metadata": {},
   "source": [
    "Using this method we need our reference fields, used to join data, as part of the dataframe and not as the index. To use this method where there is an index column that you wish to use as a joining field you will need to reset the index to a new numbered column. That is done by the command <em>df.reset_index()</em>. Alternatively you can use a method that joins using the index fields of each dataframe, as described in the link below."
   ]
  },
  {
   "cell_type": "markdown",
   "metadata": {},
   "source": [
    "There are many ways of joining and merging Pandas dataframes. I have set out just one method here. See https://pandas.pydata.org/pandas-docs/stable/merging.html for all methods."
   ]
  }
 ],
 "metadata": {
  "kernelspec": {
   "display_name": "Python 3",
   "language": "python",
   "name": "python3"
  },
  "language_info": {
   "codemirror_mode": {
    "name": "ipython",
    "version": 3
   },
   "file_extension": ".py",
   "mimetype": "text/x-python",
   "name": "python",
   "nbconvert_exporter": "python",
   "pygments_lexer": "ipython3",
   "version": "3.6.4"
  }
 },
 "nbformat": 4,
 "nbformat_minor": 2
}
