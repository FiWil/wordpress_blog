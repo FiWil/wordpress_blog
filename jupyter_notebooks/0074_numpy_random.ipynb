{
 "cells": [
  {
   "cell_type": "markdown",
   "metadata": {},
   "source": [
    "# Using NumPy to generate random numbers, or shuffle arrays"
   ]
  },
  {
   "cell_type": "code",
   "execution_count": 51,
   "metadata": {},
   "outputs": [],
   "source": [
    "import numpy as np\n",
    "\n",
    "# Optionally you may set a random seed to make sequence of random numbers \n",
    "# repeatable between runs (or use a loop to run models with a repeatable\n",
    "# sequence of random numbers in each loop, for example to generate replicate\n",
    "# runs of a model with different random seeds)\n",
    "\n",
    "# If seed is not used then a seed will be set using the clock, and so each\n",
    "# run will have a different seed\n",
    "\n",
    "np.random.seed(0)"
   ]
  },
  {
   "cell_type": "markdown",
   "metadata": {},
   "source": [
    "## Some examples of random numbers\n",
    "\n",
    "NumPy has an extensive collection of different types of random distribution."
   ]
  },
  {
   "cell_type": "markdown",
   "metadata": {},
   "source": [
    "### An array of numbers between 0 and 1"
   ]
  },
  {
   "cell_type": "code",
   "execution_count": 52,
   "metadata": {},
   "outputs": [
    {
     "name": "stdout",
     "output_type": "stream",
     "text": [
      "[[0.5488135  0.71518937 0.60276338 0.54488318]\n",
      " [0.4236548  0.64589411 0.43758721 0.891773  ]\n",
      " [0.96366276 0.38344152 0.79172504 0.52889492]]\n"
     ]
    }
   ],
   "source": [
    "# 3x4 array of random numbers between 0 and 1\n",
    "\n",
    "print (np.random.rand(3,4))"
   ]
  },
  {
   "cell_type": "markdown",
   "metadata": {},
   "source": [
    "For all methods if the array shape is left out then a single number is returned:"
   ]
  },
  {
   "cell_type": "code",
   "execution_count": 53,
   "metadata": {},
   "outputs": [
    {
     "name": "stdout",
     "output_type": "stream",
     "text": [
      "0.5680445610939323\n"
     ]
    }
   ],
   "source": [
    "print (np.random.rand())"
   ]
  },
  {
   "cell_type": "markdown",
   "metadata": {},
   "source": [
    "### An array of integers between 10 and 20.\n",
    "\n",
    "Note that the <em>randint</em> method uses the 'half open' format where the range includes the lower number, but not the higher number. There is an alternative method <em>random.random_integers</em> where the range includes the higher number."
   ]
  },
  {
   "cell_type": "code",
   "execution_count": 54,
   "metadata": {},
   "outputs": [
    {
     "name": "stdout",
     "output_type": "stream",
     "text": [
      "[[15 19 18 19]\n",
      " [14 13 10 13]\n",
      " [15 10 12 13]]\n"
     ]
    }
   ],
   "source": [
    "print (np.random.randint(10,21,(3,4)))"
   ]
  },
  {
   "cell_type": "markdown",
   "metadata": {},
   "source": [
    "### An array of normally distrubuted numbers"
   ]
  },
  {
   "cell_type": "code",
   "execution_count": 55,
   "metadata": {},
   "outputs": [
    {
     "name": "stdout",
     "output_type": "stream",
     "text": [
      "[[ 9.81841743 11.41020463  9.62552831 10.27519832]\n",
      " [ 9.03924539 10.37692697 10.03343893 10.68056724]\n",
      " [ 8.43650331  9.43330238  9.75785049 11.51439128]]\n"
     ]
    }
   ],
   "source": [
    "# 3x4 array of normally distributed data with mean 10, and SD 1\n",
    "\n",
    "print (np.random.normal(10,1,(3,4)))"
   ]
  },
  {
   "cell_type": "markdown",
   "metadata": {},
   "source": [
    "### List of distributions:\n",
    "\n",
    "From https://docs.scipy.org/doc/numpy/reference/routines.random.html\n",
    "\n",
    "Simple:\n",
    "\n",
    "rand(d0, d1, …, dn) \tRandom values in a given shape.\n",
    "\n",
    "randn(d0, d1, …, dn) \tReturn a sample (or samples) from the “standard normal” distribution.\n",
    "\n",
    "randint(low[, high, size, dtype]) \tReturn random integers from low (inclusive) to high (exclusive).\n",
    "\n",
    "random_integers(low[, high, size]) \tRandom integers of type np.int between low and high, inclusive.\n",
    "\n",
    "random_sample([size]) \tReturn random floats in the half-open interval [0.0, 1.0).\n",
    "\n",
    "random([size]) \tReturn random floats in the half-open interval [0.0, 1.0).\n",
    "\n",
    "ranf([size]) \tReturn random floats in the half-open interval [0.0, 1.0).\n",
    "\n",
    "sample([size]) \tReturn random floats in the half-open interval [0.0, 1.0).\n",
    "\n",
    "choice(a[, size, replace, p]) \tGenerates a random sample from a given 1-D array\n",
    "\n",
    "bytes(length) \tReturn random bytes.\n",
    "\n",
    "More complex:\n",
    "\n",
    "beta(a, b[, size]) \tDraw samples from a Beta distribution.\n",
    "\n",
    "binomial(n, p[, size]) \tDraw samples from a binomial distribution.\n",
    "\n",
    "chisquare(df[, size]) \tDraw samples from a chi-square distribution.\n",
    "\n",
    "dirichlet(alpha[, size]) \tDraw samples from the Dirichlet distribution.\n",
    "\n",
    "exponential([scale, size]) \tDraw samples from an exponential distribution.\n",
    "\n",
    "f(dfnum, dfden[, size]) \tDraw samples from an F distribution.\n",
    "\n",
    "gamma(shape[, scale, size]) \tDraw samples from a Gamma distribution.\n",
    "\n",
    "geometric(p[, size]) \tDraw samples from the geometric distribution.\n",
    "\n",
    "gumbel([loc, scale, size]) \tDraw samples from a Gumbel distribution.\n",
    "\n",
    "hypergeometric(ngood, nbad, nsample[, size]) \tDraw samples from a Hypergeometric distribution.\n",
    "\n",
    "laplace([loc, scale, size]) \tDraw samples from the Laplace or double exponential distribution with specified location (or mean) and scale (decay).\n",
    "\n",
    "logistic([loc, scale, size]) \tDraw samples from a logistic distribution.\n",
    "\n",
    "lognormal([mean, sigma, size]) \tDraw samples from a log-normal distribution.\n",
    "\n",
    "logseries(p[, size]) \tDraw samples from a logarithmic series distribution.\n",
    "\n",
    "multinomial(n, pvals[, size]) \tDraw samples from a multinomial distribution.\n",
    "\n",
    "multivariate_normal(mean, cov[, size, …) \tDraw random samples from a multivariate normal distribution.\n",
    "\n",
    "negative_binomial(n, p[, size]) \tDraw samples from a negative binomial distribution.\n",
    "\n",
    "noncentral_chisquare(df, nonc[, size]) \tDraw samples from a noncentral chi-square distribution.\n",
    "\n",
    "noncentral_f(dfnum, dfden, nonc[, size]) \tDraw samples from the noncentral F distribution.\n",
    "\n",
    "normal([loc, scale, size]) \tDraw random samples from a normal (Gaussian) distribution.\n",
    "\n",
    "pareto(a[, size]) \tDraw samples from a Pareto II or Lomax distribution with specified shape.\n",
    "\n",
    "poisson([lam, size]) \tDraw samples from a Poisson distribution.\n",
    "\n",
    "power(a[, size]) \tDraws samples in [0, 1] from a power distribution with positive exponent a - 1.\n",
    "\n",
    "rayleigh([scale, size]) \tDraw samples from a Rayleigh distribution.\n",
    "\n",
    "standard_cauchy([size]) \tDraw samples from a standard Cauchy distribution with mode = 0.\n",
    "\n",
    "standard_exponential([size]) \tDraw samples from the standard exponential distribution.\n",
    "\n",
    "standard_gamma(shape[, size]) \tDraw samples from a standard Gamma distribution.\n",
    "\n",
    "standard_normal([size]) \tDraw samples from a standard Normal distribution (mean=0, stdev=1).\n",
    "\n",
    "standard_t(df[, size]) \tDraw samples from a standard Student’s t distribution with df degrees of freedom.\n",
    "\n",
    "triangular(left, mode, right[, size]) \tDraw samples from the triangular distribution over the interval [left, right].\n",
    "\n",
    "uniform([low, high, size]) \tDraw samples from a uniform distribution.\n",
    "\n",
    "vonmises(mu, kappa[, size]) \tDraw samples from a von Mises distribution.\n",
    "\n",
    "wald(mean, scale[, size]) \tDraw samples from a Wald, or inverse Gaussian, distribution.\n",
    "\n",
    "weibull(a[, size]) \tDraw samples from a Weibull distribution.\n",
    "\n",
    "zipf(a[, size]) \tDraw samples from a Zipf distribution."
   ]
  },
  {
   "cell_type": "markdown",
   "metadata": {},
   "source": [
    "## Shuffle \n",
    "\n",
    "NumPy can randomly shuffle arrays."
   ]
  },
  {
   "cell_type": "code",
   "execution_count": 59,
   "metadata": {},
   "outputs": [
    {
     "name": "stdout",
     "output_type": "stream",
     "text": [
      "Original Array:\n",
      "[0, 1, 2, 3, 4, 5, 6, 7, 8, 9, 10]\n",
      "\n",
      "Shuffled array:\n",
      "[4, 10, 5, 0, 9, 2, 8, 6, 3, 7, 1]\n"
     ]
    }
   ],
   "source": [
    "x = [0, 1, 2, 3, 4, 5, 6, 7 ,8 ,9, 10]\n",
    "print ('Original Array:')\n",
    "print (x)\n",
    "np.random.shuffle(x)\n",
    "print ('\\nShuffled array:')\n",
    "print (x)"
   ]
  },
  {
   "cell_type": "markdown",
   "metadata": {},
   "source": [
    "### Shuffling rows or columns\n",
    "\n",
    "What if you just wanted to shuffle the rows or columns?\n",
    "\n",
    "In that case we would create an array of index numbers for the rows or columns, shuffle that, and then use that to reorder the rows."
   ]
  },
  {
   "cell_type": "code",
   "execution_count": 60,
   "metadata": {},
   "outputs": [
    {
     "name": "stdout",
     "output_type": "stream",
     "text": [
      "Original array:\n",
      "[[ 1  2  3  4]\n",
      " [ 5  6  7  8]\n",
      " [ 9 10 11 12]\n",
      " [13 14 15 16]\n",
      " [17 18 19 20]]\n",
      "\n",
      "Shuffled row index:\n",
      "[3, 0, 2, 1, 4]\n",
      "\n",
      "Array with shuffled rows:\n",
      "[[13 14 15 16]\n",
      " [ 1  2  3  4]\n",
      " [ 9 10 11 12]\n",
      " [ 5  6  7  8]\n",
      " [17 18 19 20]]\n",
      "\n",
      "Shuffled column index:\n",
      "[1, 2, 0, 3]\n",
      "\n",
      "Array with shuffled columns:\n",
      "[[ 2  3  1  4]\n",
      " [ 6  7  5  8]\n",
      " [10 11  9 12]\n",
      " [14 15 13 16]\n",
      " [18 19 17 20]]\n"
     ]
    }
   ],
   "source": [
    "x = np.arange(1,21)\n",
    "x = x.reshape (5,4)\n",
    "print ('Original array:')\n",
    "print (x)\n",
    "\n",
    "# Shuffle rows\n",
    "number_of_rows = x.shape[0]\n",
    "index = list(np.arange(number_of_rows))\n",
    "np.random.shuffle(index)\n",
    "print('\\nShuffled row index:')\n",
    "print (index)\n",
    "# Apply index\n",
    "y = x[index,:]\n",
    "print('\\nArray with shuffled rows:')\n",
    "print (y)\n",
    "\n",
    "# Shuffle columns\n",
    "number_of_cols = x.shape[1]\n",
    "index = list(np.arange(number_of_cols))\n",
    "np.random.shuffle(index)\n",
    "print('\\nShuffled column index:')\n",
    "print (index)\n",
    "# Apply index\n",
    "z = x[:, index]\n",
    "print('\\nArray with shuffled columns:')\n",
    "print (z)"
   ]
  },
  {
   "cell_type": "code",
   "execution_count": null,
   "metadata": {},
   "outputs": [],
   "source": []
  }
 ],
 "metadata": {
  "kernelspec": {
   "display_name": "Python 3",
   "language": "python",
   "name": "python3"
  },
  "language_info": {
   "codemirror_mode": {
    "name": "ipython",
    "version": 3
   },
   "file_extension": ".py",
   "mimetype": "text/x-python",
   "name": "python",
   "nbconvert_exporter": "python",
   "pygments_lexer": "ipython3",
   "version": "3.6.4"
  }
 },
 "nbformat": 4,
 "nbformat_minor": 2
}
