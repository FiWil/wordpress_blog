{
 "cells": [
  {
   "cell_type": "markdown",
   "metadata": {},
   "source": [
    "# Array maths in NumPy\n",
    "\n",
    "NumPy allows easy standard mathematics to be performed on arrays, a well as moire complex linear algebra such as array multiplication.\n",
    "\n",
    "Lets begin by building a couple of arrays. We'll use the <em>np.arange</em> method to create an array of numbers in range 1 to 12, and then reshape the array into a 3 x 4 array."
   ]
  },
  {
   "cell_type": "code",
   "execution_count": 32,
   "metadata": {},
   "outputs": [
    {
     "name": "stdout",
     "output_type": "stream",
     "text": [
      "[[ 1  2  3  4]\n",
      " [ 5  6  7  8]\n",
      " [ 9 10 11 12]]\n"
     ]
    }
   ],
   "source": [
    "import numpy as np\n",
    "\n",
    "# note that the arange method is 'half open'\n",
    "# that is it includes the lower number, and goes up yo, but not including,\n",
    "# the higher number\n",
    "\n",
    "array_1 = np.arange(1,13)\n",
    "array_1 = array_1.reshape (3,4)\n",
    "\n",
    "print (array_1)"
   ]
  },
  {
   "cell_type": "markdown",
   "metadata": {},
   "source": [
    "## Maths on a single array\n",
    "\n",
    "We can multiple an array by a fixed number (or we can add, subtract, divide, raise to power, etc):"
   ]
  },
  {
   "cell_type": "code",
   "execution_count": 25,
   "metadata": {},
   "outputs": [
    {
     "name": "stdout",
     "output_type": "stream",
     "text": [
      "[[ 4  8 12 16]\n",
      " [20 24 28 32]\n",
      " [36 40 44 48]]\n"
     ]
    }
   ],
   "source": [
    "print (array_1 *4)"
   ]
  },
  {
   "cell_type": "code",
   "execution_count": 26,
   "metadata": {},
   "outputs": [
    {
     "name": "stdout",
     "output_type": "stream",
     "text": [
      "[[1.         1.41421356 1.73205081 2.        ]\n",
      " [2.23606798 2.44948974 2.64575131 2.82842712]\n",
      " [3.         3.16227766 3.31662479 3.46410162]]\n"
     ]
    }
   ],
   "source": [
    "print (array_1 ** 0.5) # square root of array"
   ]
  },
  {
   "cell_type": "markdown",
   "metadata": {},
   "source": [
    "We can define a vector and multiple all rows by that vector:"
   ]
  },
  {
   "cell_type": "code",
   "execution_count": 27,
   "metadata": {},
   "outputs": [
    {
     "name": "stdout",
     "output_type": "stream",
     "text": [
      "[[    1    20   300  4000]\n",
      " [    5    60   700  8000]\n",
      " [    9   100  1100 12000]]\n"
     ]
    }
   ],
   "source": [
    "vector_1 = [1, 10, 100, 1000]\n",
    "\n",
    "print (array_1 * vector_1)"
   ]
  },
  {
   "cell_type": "markdown",
   "metadata": {},
   "source": [
    "To multiply by a column vector we will transpose the original array, multiply by our column vector, and transpose back:"
   ]
  },
  {
   "cell_type": "code",
   "execution_count": 28,
   "metadata": {},
   "outputs": [
    {
     "name": "stdout",
     "output_type": "stream",
     "text": [
      "[[   1    2    3    4]\n",
      " [  50   60   70   80]\n",
      " [ 900 1000 1100 1200]]\n"
     ]
    }
   ],
   "source": [
    "vector_2 = [1, 10, 100]\n",
    "\n",
    "result = (array_1.T * vector_2).T\n",
    "\n",
    "print (result)"
   ]
  },
  {
   "cell_type": "markdown",
   "metadata": {},
   "source": [
    "## Maths on two (or more) arrays\n",
    "\n",
    "Arrays of the same shape may be multiplied, divided, added, or subtracted.\n",
    "\n",
    "Let's create a copy of the first array:"
   ]
  },
  {
   "cell_type": "code",
   "execution_count": 29,
   "metadata": {},
   "outputs": [],
   "source": [
    "array_2 = array_1.copy()\n",
    "\n",
    "# If we said array_2 = array_1 then array_2 would refer to array_1.\n",
    "# Any changes to array_1 would also apply to array_2"
   ]
  },
  {
   "cell_type": "markdown",
   "metadata": {},
   "source": [
    "Multiplying two arrays:"
   ]
  },
  {
   "cell_type": "code",
   "execution_count": 30,
   "metadata": {},
   "outputs": [
    {
     "name": "stdout",
     "output_type": "stream",
     "text": [
      "[[  1   4   9  16]\n",
      " [ 25  36  49  64]\n",
      " [ 81 100 121 144]]\n"
     ]
    }
   ],
   "source": [
    "print (array_1 * array_2)"
   ]
  },
  {
   "cell_type": "markdown",
   "metadata": {},
   "source": [
    "## Matrix multiplication ('dot product')\n",
    "\n",
    "See https://www.mathsisfun.com/algebra/matrix-multiplying.html for an explanation of matrix multiplication, if you are not familiar with it.\n",
    "\n",
    "We can perform matrix multiplication in numpy with the <em>np.dot</em> method."
   ]
  },
  {
   "cell_type": "code",
   "execution_count": 31,
   "metadata": {},
   "outputs": [
    {
     "name": "stdout",
     "output_type": "stream",
     "text": [
      "Array 1:\n",
      "[[ 1  2  3  4]\n",
      " [ 5  6  7  8]\n",
      " [ 9 10 11 12]]\n",
      "\n",
      "Array 2:\n",
      "[[ 1  2  3]\n",
      " [ 4  5  6]\n",
      " [ 7  8  9]\n",
      " [10 11 12]]\n",
      "\n",
      "Dot product of two arrays:\n",
      "[[ 70  80  90]\n",
      " [158 184 210]\n",
      " [246 288 330]]\n"
     ]
    }
   ],
   "source": [
    "array_2 = np.arange(1,13)\n",
    "array_2 = array_1.reshape (4,3)\n",
    "\n",
    "print ('Array 1:')\n",
    "print (array_1)\n",
    "print ('\\nArray 2:')\n",
    "print (array_2)\n",
    "print ('\\nDot product of two arrays:')\n",
    "print (np.dot(array_1, array_2))\n"
   ]
  },
  {
   "cell_type": "code",
   "execution_count": null,
   "metadata": {},
   "outputs": [],
   "source": []
  }
 ],
 "metadata": {
  "kernelspec": {
   "display_name": "Python 3",
   "language": "python",
   "name": "python3"
  },
  "language_info": {
   "codemirror_mode": {
    "name": "ipython",
    "version": 3
   },
   "file_extension": ".py",
   "mimetype": "text/x-python",
   "name": "python",
   "nbconvert_exporter": "python",
   "pygments_lexer": "ipython3",
   "version": "3.6.4"
  }
 },
 "nbformat": 4,
 "nbformat_minor": 2
}
