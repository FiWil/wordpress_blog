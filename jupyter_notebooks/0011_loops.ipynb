{
 "cells": [
  {
   "cell_type": "markdown",
   "metadata": {},
   "source": [
    "# Loops and iterating"
   ]
  },
  {
   "cell_type": "markdown",
   "metadata": {},
   "source": [
    "<em>for</em> loops can be used to step through lists, tuples, and other 'iterable' objects. \n",
    "\n",
    "Iterating through a list:"
   ]
  },
  {
   "cell_type": "code",
   "execution_count": 2,
   "metadata": {},
   "outputs": [
    {
     "name": "stdout",
     "output_type": "stream",
     "text": [
      "10 100\n",
      "25 625\n",
      "50 2500\n",
      "75 5625\n",
      "100 10000\n"
     ]
    }
   ],
   "source": [
    "for item in [10,25,50,75,100]:\n",
    "    print (item, item**2)"
   ]
  },
  {
   "cell_type": "markdown",
   "metadata": {},
   "source": [
    "A for loop may be used to generate and loop through a sequence of numbers (note that a 'range' does not include the maximum value specified):"
   ]
  },
  {
   "cell_type": "code",
   "execution_count": 4,
   "metadata": {},
   "outputs": [
    {
     "name": "stdout",
     "output_type": "stream",
     "text": [
      "100\n",
      "110\n",
      "120\n",
      "130\n",
      "140\n"
     ]
    }
   ],
   "source": [
    "for i in range(100,150,10):\n",
    "    print(i)"
   ]
  },
  {
   "cell_type": "markdown",
   "metadata": {},
   "source": [
    "A for loop may be used to loop through an index of positions in a list:"
   ]
  },
  {
   "cell_type": "code",
   "execution_count": 8,
   "metadata": {},
   "outputs": [
    {
     "name": "stdout",
     "output_type": "stream",
     "text": [
      "Index: 0 , Value Frodo\n",
      "Index: 1 , Value Bilbo\n",
      "Index: 2 , Value Gandalf\n",
      "Index: 3 , Value Gimli\n",
      "Index: 4 , Value Sauron\n"
     ]
    }
   ],
   "source": [
    "my_list = ['Frodo','Bilbo','Gandalf','Gimli','Sauron']\n",
    "for i in range(len(my_list)):\n",
    "    print ('Index:',i,', Value',my_list[i])"
   ]
  },
  {
   "cell_type": "markdown",
   "metadata": {},
   "source": [
    "## Breaking out of loops or continuing the loop without action "
   ]
  },
  {
   "cell_type": "markdown",
   "metadata": {},
   "source": [
    "Though it may not be considered best coding practice, it is possible to prematurely escape a loop with the <em>break</em> command:"
   ]
  },
  {
   "cell_type": "code",
   "execution_count": 1,
   "metadata": {},
   "outputs": [
    {
     "name": "stdout",
     "output_type": "stream",
     "text": [
      "0\n",
      "1\n",
      "2\n",
      "3\n",
      "4\n",
      "Loop complete\n"
     ]
    }
   ],
   "source": [
    "for i in range(10): # This loop would normally go from 0 to 9\n",
    "    if i == 5:\n",
    "        break\n",
    "    else:\n",
    "        print(i)\n",
    "print ('Loop complete')"
   ]
  },
  {
   "cell_type": "markdown",
   "metadata": {},
   "source": [
    "Or, rather than breaking out of a loop, it is possible to effectively skip an iteration of a loop with the <em>continue</em> command. This may be places anywhere in the loop and returns the focus to the start of the loop."
   ]
  },
  {
   "cell_type": "code",
   "execution_count": 2,
   "metadata": {},
   "outputs": [
    {
     "name": "stdout",
     "output_type": "stream",
     "text": [
      "1\n",
      "3\n",
      "5\n",
      "7\n",
      "9\n",
      "Loop complete\n"
     ]
    }
   ],
   "source": [
    "for i in range (10):\n",
    "    if i%2 == 0: # This is the integer remainder after dividing i by 2\n",
    "        continue\n",
    "    else:\n",
    "        print (i)\n",
    "print ('Loop complete')"
   ]
  },
  {
   "cell_type": "markdown",
   "metadata": {},
   "source": [
    "## Using pass to replace active code in a loop"
   ]
  },
  {
   "cell_type": "markdown",
   "metadata": {},
   "source": [
    "The <em>pass</em> command is most useful as a place holder to allow a loop to be built and have contents added later."
   ]
  },
  {
   "cell_type": "code",
   "execution_count": 3,
   "metadata": {},
   "outputs": [
    {
     "name": "stdout",
     "output_type": "stream",
     "text": [
      "Loop complete\n"
     ]
    }
   ],
   "source": [
    "for i in range (10):\n",
    "    # Some code will be added here later\n",
    "    pass\n",
    "print ('Loop complete')"
   ]
  },
  {
   "cell_type": "code",
   "execution_count": null,
   "metadata": {},
   "outputs": [],
   "source": []
  }
 ],
 "metadata": {
  "kernelspec": {
   "display_name": "Python 3",
   "language": "python",
   "name": "python3"
  },
  "language_info": {
   "codemirror_mode": {
    "name": "ipython",
    "version": 3
   },
   "file_extension": ".py",
   "mimetype": "text/x-python",
   "name": "python",
   "nbconvert_exporter": "python",
   "pygments_lexer": "ipython3",
   "version": "3.6.4"
  }
 },
 "nbformat": 4,
 "nbformat_minor": 2
}
