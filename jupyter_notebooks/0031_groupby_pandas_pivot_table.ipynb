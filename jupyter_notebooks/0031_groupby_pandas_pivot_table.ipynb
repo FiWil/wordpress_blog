{
 "cells": [
  {
   "cell_type": "markdown",
   "metadata": {},
   "source": [
    "# Summarising data by groups in Pandas using pivot_tables and groupby\n",
    "\n",
    "Pandas offers two methods of summarising data - groupby and pivot_table*. The data produced can be the same but the format of the output may differ. \n",
    "\n",
    "*pivot_table summarises data. There is a similar command, pivot, which we will use in the next section which is for reshaping data.\n",
    "\n",
    "As usual let's start by creating a dataframe."
   ]
  },
  {
   "cell_type": "code",
   "execution_count": 81,
   "metadata": {},
   "outputs": [],
   "source": [
    "import pandas as pd\n",
    "df = pd.DataFrame()\n",
    "\n",
    "names = ['Gandolf',\n",
    "         'Gimli',\n",
    "         'Frodo',\n",
    "         'Legolas',\n",
    "         'Bilbo',\n",
    "         'Sam',\n",
    "         'Pippin',\n",
    "         'Boromir',\n",
    "         'Aragorn',\n",
    "         'Galadriel',\n",
    "         'Meriadoc']\n",
    "types = ['Wizard',\n",
    "         'Dwarf',\n",
    "         'Hobbit',\n",
    "         'Elf',\n",
    "         'Hobbit',\n",
    "         'Hobbit',\n",
    "         'Hobbit',\n",
    "         'Man',\n",
    "         'Man',\n",
    "         'Elf',\n",
    "         'Hobbit']\n",
    "magic = [10, 1, 4, 6, 4, 2, 0, 0, 2, 9, 0]\n",
    "aggression = [7, 10, 2, 5, 1, 6, 3, 8, 7, 2, 4]\n",
    "stealth = [8, 2, 5, 10, 5, 4 ,5, 3, 9, 10, 6]\n",
    "\n",
    "\n",
    "df['names'] = names\n",
    "df['type'] = types\n",
    "df['magic_power'] = magic\n",
    "df['aggression'] = aggression\n",
    "df['stealth'] = stealth"
   ]
  },
  {
   "cell_type": "markdown",
   "metadata": {},
   "source": [
    "## Pivot tables\n",
    "\n",
    "To return the median values by type:"
   ]
  },
  {
   "cell_type": "code",
   "execution_count": 82,
   "metadata": {},
   "outputs": [
    {
     "name": "stdout",
     "output_type": "stream",
     "text": [
      "             mean                       \n",
      "       aggression magic_power    stealth\n",
      "type                                    \n",
      "Dwarf        10.0    1.000000   2.000000\n",
      "Elf           3.5    7.500000  10.000000\n",
      "Hobbit        3.2    2.000000   5.000000\n",
      "Man           7.5    1.000000   6.000000\n",
      "Wizard        7.0   10.000000   8.000000\n",
      "All           5.0    3.454545   6.090909\n"
     ]
    }
   ],
   "source": [
    "import numpy as np # we will use a numpy method to summarise data\n",
    "\n",
    "pivot = df.pivot_table(index=['type'],\n",
    "                        values=['magic_power','aggression', 'stealth'],\n",
    "                        aggfunc=[np.mean],\n",
    "                        margins=True) # margins summarises all\n",
    "\n",
    "# note: addgunc can be any valid function that can act on data provided\n",
    "\n",
    "print (pivot)"
   ]
  },
  {
   "cell_type": "markdown",
   "metadata": {},
   "source": [
    "Or we may group by more than one index. In this case we'll return the average and summed values by type and magical power:"
   ]
  },
  {
   "cell_type": "code",
   "execution_count": 83,
   "metadata": {},
   "outputs": [
    {
     "name": "stdout",
     "output_type": "stream",
     "text": [
      "                         mean                   sum        \n",
      "                   aggression    stealth aggression stealth\n",
      "type   magic_power                                         \n",
      "Dwarf  1                 10.0   2.000000         10       2\n",
      "Elf    6                  5.0  10.000000          5      10\n",
      "       9                  2.0  10.000000          2      10\n",
      "Hobbit 0                  3.5   5.500000          7      11\n",
      "       2                  6.0   4.000000          6       4\n",
      "       4                  1.5   5.000000          3      10\n",
      "Man    0                  8.0   3.000000          8       3\n",
      "       2                  7.0   9.000000          7       9\n",
      "Wizard 10                 7.0   8.000000          7       8\n",
      "All                       5.0   6.090909         55      67\n"
     ]
    }
   ],
   "source": [
    "pivot = df.pivot_table(index=['type','magic_power'],\n",
    "                        values=['aggression', 'stealth'],\n",
    "                        aggfunc=[np.mean,np.sum],\n",
    "                        margins=True) # margins summarises all\n",
    "\n",
    "print (pivot)"
   ]
  },
  {
   "cell_type": "markdown",
   "metadata": {},
   "source": [
    "## Groupby\n",
    "\n",
    "Grouby is a very powerful method in Pandas which we shall return to in the next section. Here we will use groupby simply to summarise data."
   ]
  },
  {
   "cell_type": "code",
   "execution_count": 84,
   "metadata": {},
   "outputs": [
    {
     "name": "stdout",
     "output_type": "stream",
     "text": [
      "        magic_power  aggression  stealth\n",
      "type                                    \n",
      "Dwarf           1.0        10.0      2.0\n",
      "Elf             7.5         3.5     10.0\n",
      "Hobbit          2.0         3.0      5.0\n",
      "Man             1.0         7.5      6.0\n",
      "Wizard         10.0         7.0      8.0\n"
     ]
    }
   ],
   "source": [
    "print(df.groupby('type').median())"
   ]
  },
  {
   "cell_type": "markdown",
   "metadata": {},
   "source": [
    "Instead of built in methods we can also apply user-defined functions. To illustrate we'll define a simple function to return the lower quartile."
   ]
  },
  {
   "cell_type": "code",
   "execution_count": 85,
   "metadata": {},
   "outputs": [
    {
     "name": "stdout",
     "output_type": "stream",
     "text": [
      "0.25    magic_power  aggression  stealth\n",
      "type                                    \n",
      "Dwarf          1.00       10.00      2.0\n",
      "Elf            6.75        2.75     10.0\n",
      "Hobbit         0.00        2.00      5.0\n",
      "Man            0.50        7.25      4.5\n",
      "Wizard        10.00        7.00      8.0\n"
     ]
    }
   ],
   "source": [
    "def my_func(x):\n",
    "    return (x.quantile(0.25))\n",
    "\n",
    "print(df.groupby('type').apply(my_func))\n",
    "\n",
    "# Note we need not apply a lambda function\n",
    "# We may apply any user-defined function"
   ]
  },
  {
   "cell_type": "markdown",
   "metadata": {},
   "source": [
    "As with pivot-table we can have more than one index column."
   ]
  },
  {
   "cell_type": "code",
   "execution_count": 86,
   "metadata": {},
   "outputs": [
    {
     "name": "stdout",
     "output_type": "stream",
     "text": [
      "                    aggression  stealth\n",
      "type   magic_power                     \n",
      "Dwarf  1                  10.0      2.0\n",
      "Elf    6                   5.0     10.0\n",
      "       9                   2.0     10.0\n",
      "Hobbit 0                   3.5      5.5\n",
      "       2                   6.0      4.0\n",
      "       4                   1.5      5.0\n",
      "Man    0                   8.0      3.0\n",
      "       2                   7.0      9.0\n",
      "Wizard 10                  7.0      8.0\n"
     ]
    }
   ],
   "source": [
    "print(df.groupby(['type','magic_power']).median())"
   ]
  },
  {
   "cell_type": "markdown",
   "metadata": {},
   "source": [
    "Or we can return just selected data columns."
   ]
  },
  {
   "cell_type": "code",
   "execution_count": 87,
   "metadata": {},
   "outputs": [
    {
     "name": "stdout",
     "output_type": "stream",
     "text": [
      "        magic_power  stealth\n",
      "type                        \n",
      "Dwarf           1.0      2.0\n",
      "Elf             7.5     10.0\n",
      "Hobbit          2.0      5.0\n",
      "Man             1.0      6.0\n",
      "Wizard         10.0      8.0\n"
     ]
    }
   ],
   "source": [
    "print(df.groupby('type').median()[['magic_power','stealth']])"
   ]
  },
  {
   "cell_type": "markdown",
   "metadata": {},
   "source": [
    "To return multiple types of results we use the <em>agg</em> argument."
   ]
  },
  {
   "cell_type": "code",
   "execution_count": 88,
   "metadata": {},
   "outputs": [
    {
     "name": "stdout",
     "output_type": "stream",
     "text": [
      "            names          magic_power     aggression     stealth    \n",
      "              min      max         min max        min max     min max\n",
      "type                                                                 \n",
      "Dwarf       Gimli    Gimli           1   1         10  10       2   2\n",
      "Elf     Galadriel  Legolas           6   9          2   5      10  10\n",
      "Hobbit      Bilbo      Sam           0   4          1   6       4   6\n",
      "Man       Aragorn  Boromir           0   2          7   8       3   9\n",
      "Wizard    Gandolf  Gandolf          10  10          7   7       8   8\n"
     ]
    }
   ],
   "source": [
    "print(df.groupby('type').agg([min, max]))"
   ]
  },
  {
   "cell_type": "markdown",
   "metadata": {},
   "source": [
    "### Pandas built-in groupby functions \n",
    "\n",
    "Remember that <em>apply</em> can be used to apply any user-defined function\n",
    "\n",
    ".all # Boolean True if all true\n",
    "\n",
    ".any # Boolean True if any true\n",
    "\n",
    ".count count of non null values\n",
    "\n",
    ".size size of group including null values\n",
    "\n",
    ".max\n",
    "\n",
    ".min\n",
    "\n",
    ".mean\n",
    "\n",
    ".median\n",
    "\n",
    ".sem\n",
    "\n",
    ".std\n",
    "\n",
    ".var\n",
    "\n",
    ".sum\n",
    "\n",
    ".prod\n",
    "\n",
    ".quantile\n",
    "\n",
    ".agg(functions) # for multiple outputs\n",
    "\n",
    ".apply(func)\n",
    "\n",
    ".last # last value\n",
    "\n",
    ".nth # nth row of group"
   ]
  },
  {
   "cell_type": "code",
   "execution_count": null,
   "metadata": {},
   "outputs": [],
   "source": []
  }
 ],
 "metadata": {
  "kernelspec": {
   "display_name": "Python 3",
   "language": "python",
   "name": "python3"
  },
  "language_info": {
   "codemirror_mode": {
    "name": "ipython",
    "version": 3
   },
   "file_extension": ".py",
   "mimetype": "text/x-python",
   "name": "python",
   "nbconvert_exporter": "python",
   "pygments_lexer": "ipython3",
   "version": "3.6.4"
  }
 },
 "nbformat": 4,
 "nbformat_minor": 2
}
