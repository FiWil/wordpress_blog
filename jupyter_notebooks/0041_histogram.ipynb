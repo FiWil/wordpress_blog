{
 "cells": [
  {
   "cell_type": "markdown",
   "metadata": {},
   "source": [
    "# Plotting histograms with matplotlib and NumPy\n",
    "\n",
    "Matplotlib has an easy method for plotting data. NumPy has an easy method for obtaining histogram data.\n",
    "\n",
    "## Plotting histograms with Matplotlib\n",
    "\n",
    "Plotting a histogram with a defined number of bins:"
   ]
  },
  {
   "cell_type": "code",
   "execution_count": 18,
   "metadata": {},
   "outputs": [
    {
     "data": {
      "image/png": "[encoded data removed]",
      "text/plain": [
       "<matplotlib.figure.Figure at 0x7f042edcb5c0>"
      ]
     },
     "metadata": {},
     "output_type": "display_data"
    }
   ],
   "source": [
    "import matplotlib.pyplot as plt\n",
    "import numpy as np\n",
    "\n",
    "%matplotlib inline\n",
    "\n",
    "x=np.random.randn(1000) # samples from a normal distribution\n",
    "\n",
    "plt.hist(x,bins=20)\n",
    "plt.title ('Defined number of bins')\n",
    "plt.xlabel ('x')\n",
    "plt.ylabel ('Count')\n",
    "\n",
    "plt.show()"
   ]
  },
  {
   "cell_type": "markdown",
   "metadata": {},
   "source": [
    "Plotting a histogram with a defined range of bins:"
   ]
  },
  {
   "cell_type": "code",
   "execution_count": 19,
   "metadata": {},
   "outputs": [
    {
     "data": {
      "image/png": "[encoded data removed]",
      "text/plain": [
       "<matplotlib.figure.Figure at 0x7f042eeb6b00>"
      ]
     },
     "metadata": {},
     "output_type": "display_data"
    }
   ],
   "source": [
    "x=np.random.randn(1000) # samples from a normal distribution\n",
    "\n",
    "# Use np.arange to create bins from -4 to +4 in steps of 0.5\n",
    "# A custom list could also be used\n",
    "\n",
    "plt.hist(x,bins=np.arange(-4,4.5,0.5))\n",
    "\n",
    "plt.title ('Defined bin range and width')\n",
    "plt.xlabel ('x')\n",
    "plt.ylabel ('Count')\n",
    "\n",
    "plt.show()"
   ]
  },
  {
   "cell_type": "markdown",
   "metadata": {},
   "source": [
    "## Obtaining histogram data with NumPy\n",
    "\n",
    "If histogram data is needed in addition to, or instead of, a plot, NumPy may be used. Here a defined number of bins is used:"
   ]
  },
  {
   "cell_type": "code",
   "execution_count": 20,
   "metadata": {},
   "outputs": [
    {
     "name": "stdout",
     "output_type": "stream",
     "text": [
      "Bins:\n",
      "[-2.88652288 -2.57566476 -2.26480664 -1.95394852 -1.6430904  -1.33223228\n",
      " -1.02137416 -0.71051604 -0.39965792 -0.0887998   0.22205832  0.53291644\n",
      "  0.84377456  1.15463268  1.4654908   1.77634892  2.08720704  2.39806516\n",
      "  2.70892328  3.0197814   3.33063952]\n",
      "\n",
      "Count:\n",
      "[  5   9  12  22  32  69  80 113 125 116 108  94  77  59  40  22  10   4\n",
      "   1   2]\n"
     ]
    }
   ],
   "source": [
    "import numpy as np\n",
    "count, bins = np.histogram(x, bins=20)\n",
    "print ('Bins:')\n",
    "print (bins)\n",
    "print ('\\nCount:')\n",
    "print (count)"
   ]
  },
  {
   "cell_type": "markdown",
   "metadata": {},
   "source": [
    "And here a defined bin range is used."
   ]
  },
  {
   "cell_type": "code",
   "execution_count": 21,
   "metadata": {},
   "outputs": [
    {
     "name": "stdout",
     "output_type": "stream",
     "text": [
      "Bins:\n",
      "[-5 -4 -3 -2 -1  0  1  2  3  4  5]\n",
      "\n",
      "Count:\n",
      "[  0   0  20 134 332 340 154  18   2   0]\n"
     ]
    }
   ],
   "source": [
    "import numpy as np\n",
    "count, bins = np.histogram(x, bins=np.arange(-5,6,1))\n",
    "print ('Bins:')\n",
    "print (bins)\n",
    "print ('\\nCount:')\n",
    "print (count)"
   ]
  },
  {
   "cell_type": "code",
   "execution_count": null,
   "metadata": {},
   "outputs": [],
   "source": []
  }
 ],
 "metadata": {
  "kernelspec": {
   "display_name": "Python 3",
   "language": "python",
   "name": "python3"
  },
  "language_info": {
   "codemirror_mode": {
    "name": "ipython",
    "version": 3
   },
   "file_extension": ".py",
   "mimetype": "text/x-python",
   "name": "python",
   "nbconvert_exporter": "python",
   "pygments_lexer": "ipython3",
   "version": "3.6.4"
  }
 },
 "nbformat": 4,
 "nbformat_minor": 2
}
